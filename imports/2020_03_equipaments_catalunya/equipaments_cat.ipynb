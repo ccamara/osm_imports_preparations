{
 "cells": [
  {
   "cell_type": "markdown",
   "execution_count": null,
   "metadata": {},
   "outputs": [],
   "source": [
    "# Catalunya's Amenities import\n",
    "\n",
    "This **jupyter notebook** ([source](https://github.com/mapcolabora/osm_imports_preparations/blob/master/imports/2020_03_equipaments_catalunya/equipaments_cat.ipynb)) contains the script for importing different types of amenities in Catalunya into OSM, as well as the documentation of the whole process in a single file, making it easier to review both the process and the results as well as the decisions taken.\n",
    "\n",
    "The goal is to manually merge and import all the amenities information provided by Generalitat de Catalunya, while testing the scripts for data preparation.\n",
    "\n",
    "## Data Sources\n",
    "\n",
    "* [https://analisi.transparenciacatalunya.cat/Urbanisme-infraestructures/Equipaments-de-Catalunya/8gmd-gz7i](https://analisi.transparenciacatalunya.cat/Urbanisme-infraestructures/Equipaments-de-Catalunya/8gmd-gz7ia)\n",
    "\n",
    "## License\n",
    "Data is released under CC0 (Public domain)\n",
    "\n",
    "## Import type\n",
    "\n",
    "This import will be done manually, using JOSM to edit the data. Consider using Task Manager.\n",
    "\n",
    "## Data preparations\n",
    "\n",
    "All data preparations will be made automatically in this notebook.\n",
    "\n"
   ]
  },
  {
   "cell_type": "code",
   "execution_count": 1,
   "metadata": {},
   "outputs": [],
   "source": [
    "import numpy as np\n",
    "import pandas as pd\n",
    "import geopandas as gpd\n",
    "import geopy\n",
    "from osmi_helpers import data_gathering as osmi_dg\n",
    "\n",
    "# Define Data Sources\n",
    "DATA_RAW = 'data/raw/Equipaments_de_Catalunya.geojson'\n",
    "CSV_PARSER = 'fields_mapping.csv'"
   ]
  },
  {
   "cell_type": "markdown",
   "execution_count": null,
   "metadata": {},
   "outputs": [],
   "source": [
    "## Data gathering and exploration.\n",
    "\n",
    "Run the code below to download original datasources and convert them into a dataframe and explore its contents."
   ]
  },
  {
   "cell_type": "code",
   "execution_count": 2,
   "metadata": {},
   "outputs": [
    {
     "output_type": "execute_result",
     "data": {
      "text/plain": "      sufix_via         comarca               utmx      telefon1  \\\n0          None          Segrià                0.0     973032744   \n1          None      Barcelonès  427996.7316643046  93 400 69 00   \n2          None      Barcelonès  427996.7316643046  93 400 69 00   \n3          None  Baix Llobregat           410754.0  93 683 27 38   \n4          None      Tarragonès         352259.786  977 24 70 36   \n...         ...             ...                ...           ...   \n33033      None       Baix Camp         340788.637     977331806   \n33034      None       Baix Camp                0.0     977834353   \n33035      None          Segrià         308327.075     973190117   \n33036      None          Segrià         301511.775     973266303   \n33037      None           Osona         442772.493     938540457   \n\n                        email     poblacio cpostal  \\\n0        ot.lleida@gencat.cat     Alguaire   25125   \n1                        None    Barcelona   08021   \n2                        None    Barcelona   08021   \n3       cultura@vallirana.cat    Vallirana   08759   \n4                        None    Tarragona   43005   \n...                       ...          ...     ...   \n33033       pba.imac@reus.cat         Reus   43202   \n33034       lateneu@tinet.cat   Duesaigües   43773   \n33035  ajuntament@corbins.cat      Corbins   25137   \n33036                    None       Lleida   25006   \n33037   cultura@rodadeter.cat  Roda de Ter   08510   \n\n                                               categoria  \\\n0      Turisme|Oficines de Turisme de la Xarxa|Altres...   \n1                                                   None   \n2                                                   None   \n3                                                   None   \n4                                                   None   \n...                                                  ...   \n33033  Cultura|Teatres, auditoris i espais escènics e...   \n33034  Cultura|Centres culturals: ateneus, centres cí...   \n33035  Cultura|Centres culturals: ateneus, centres cí...   \n33036  Cultura|Centres culturals: ateneus, centres cí...   \n33037  Cultura|Teatres, auditoris i espais escènics e...   \n\n                                                   alies             longitud  \\\n0      OFICINA DE TURISME DE CATALUNYA A LLEIDA-AEROP...                  0.0   \n1      Direcció General d'Innovació, Recerca i Cultur...          2.139648279   \n2                Sub-direcció General de Centres Privats          2.139648279   \n3      Centre d'Interpretació del Patrimoni Masia Mol...     1.93261908797568   \n4      Servei Territorial de l'Agència de l'Habitatge...          1.240220699   \n...                                                  ...                  ...   \n33033                                           la Palma   1.1023539633548318   \n33034                               Ateneu de Duesaigües  -1.4887438843851004   \n33035                     Patronat Sant Jaume de Corbins    0.696756024266889   \n33036                         Centre Cultural Vallcalent   0.6175989338249559   \n33037                                      Teatre Eliseu   2.3091974470722105   \n\n       ...                                                nom           fax  \\\n0      ...  OFICINA DE TURISME DE CATALUNYA A LLEIDA-AEROP...          None   \n1      ...  Direcció General d'Innovació, Recerca i Cultur...          None   \n2      ...            Sub-direcció General de Centres Privats          None   \n3      ...  Centre d'Interpretació del Patrimoni Masia Mol...  93 683 28 97   \n4      ...  Servei Territorial de l'Agència de l'Habitatge...          None   \n...    ...                                                ...           ...   \n33033  ...                                           la Palma          None   \n33034  ...                               Ateneu de Duesaigües          None   \n33035  ...                     Patronat Sant Jaume de Corbins          None   \n33036  ...                         Centre Cultural Vallcalent          None   \n33037  ...                                      Teatre Eliseu          None   \n\n          data_modificacio                                         propietats  \\\n0      2020-03-20T07:54:39                   Marca_Turistica|TERRES DE LLEIDA   \n1      2020-03-20T07:37:02                                               None   \n2      2020-03-20T07:36:10                                               None   \n3      2020-03-20T07:15:37                                               None   \n4      2020-03-20T07:36:17  Horari|<br /><b></b><br />de dilluns a divendr...   \n...                    ...                                                ...   \n33033  2020-03-20T07:27:04  Any de construcció|1902|Any del cens|1998|Supe...   \n33034  2020-03-20T07:27:05  Any de construcció|1974|Any del cens|2005|Supe...   \n33035  2020-03-20T07:26:53  Any de construcció|1940|Any del cens|2000|Supe...   \n33036  2020-03-20T07:26:53  Any de construcció|1968|Any del cens|1996|Supe...   \n33037  2020-03-20T07:26:58  Any de construcció|1928|Any del cens|2011|Supe...   \n\n                                                 via     telefon2  \\\n0                               Ctra. N-230 qm. 14,5         None   \n1                               Via Augusta, 202-226         None   \n2                               Via Augusta, 202-226  932 415 342   \n3                                 C. del Molí, 2 - 4         None   \n4       Carrer del Cardenal Vidal i Barraquer, 12-14         None   \n...                                              ...          ...   \n33033                                    C/ Ample 75         None   \n33034                              Pl. 15 d'agost 15         None   \n33035                              Pl. Carnisseria 6         None   \n33036                               C/ Vallcalent 28         None   \n33037                           C/ Bac de Roda 1 bis         None   \n\n                    utmy tipus_via idequipament                  geometry  \n0                    0.0      None     11443807                      None  \n1      4583094.806658751      None     10242296  POINT (2.13965 41.39798)  \n2      4583094.806658751      None      3041655  POINT (2.13965 41.39798)  \n3              4581937.0      None        28561  POINT (1.93262 41.38401)  \n4            4553291.179      None      3041757  POINT (1.24022 41.11748)  \n...                  ...       ...          ...                       ...  \n33033        4558298.564      None     10629895  POINT (1.10235 41.16040)  \n33034                0.0      None     10630412  POINT (-1.48874 0.00000)  \n33035        4618120.126      None     10630164  POINT (0.69676 41.69179)  \n33036        4610071.677      None     10630158  POINT (0.61760 41.61769)  \n33037        4647932.364      None     10630429  POINT (2.30920 41.98132)  \n\n[33038 rows x 23 columns]",
      "text/html": "<div>\n<style scoped>\n    .dataframe tbody tr th:only-of-type {\n        vertical-align: middle;\n    }\n\n    .dataframe tbody tr th {\n        vertical-align: top;\n    }\n\n    .dataframe thead th {\n        text-align: right;\n    }\n</style>\n<table border=\"1\" class=\"dataframe\">\n  <thead>\n    <tr style=\"text-align: right;\">\n      <th></th>\n      <th>sufix_via</th>\n      <th>comarca</th>\n      <th>utmx</th>\n      <th>telefon1</th>\n      <th>email</th>\n      <th>poblacio</th>\n      <th>cpostal</th>\n      <th>categoria</th>\n      <th>alies</th>\n      <th>longitud</th>\n      <th>...</th>\n      <th>nom</th>\n      <th>fax</th>\n      <th>data_modificacio</th>\n      <th>propietats</th>\n      <th>via</th>\n      <th>telefon2</th>\n      <th>utmy</th>\n      <th>tipus_via</th>\n      <th>idequipament</th>\n      <th>geometry</th>\n    </tr>\n  </thead>\n  <tbody>\n    <tr>\n      <th>0</th>\n      <td>None</td>\n      <td>Segrià</td>\n      <td>0.0</td>\n      <td>973032744</td>\n      <td>ot.lleida@gencat.cat</td>\n      <td>Alguaire</td>\n      <td>25125</td>\n      <td>Turisme|Oficines de Turisme de la Xarxa|Altres...</td>\n      <td>OFICINA DE TURISME DE CATALUNYA A LLEIDA-AEROP...</td>\n      <td>0.0</td>\n      <td>...</td>\n      <td>OFICINA DE TURISME DE CATALUNYA A LLEIDA-AEROP...</td>\n      <td>None</td>\n      <td>2020-03-20T07:54:39</td>\n      <td>Marca_Turistica|TERRES DE LLEIDA</td>\n      <td>Ctra. N-230 qm. 14,5</td>\n      <td>None</td>\n      <td>0.0</td>\n      <td>None</td>\n      <td>11443807</td>\n      <td>None</td>\n    </tr>\n    <tr>\n      <th>1</th>\n      <td>None</td>\n      <td>Barcelonès</td>\n      <td>427996.7316643046</td>\n      <td>93 400 69 00</td>\n      <td>None</td>\n      <td>Barcelona</td>\n      <td>08021</td>\n      <td>None</td>\n      <td>Direcció General d'Innovació, Recerca i Cultur...</td>\n      <td>2.139648279</td>\n      <td>...</td>\n      <td>Direcció General d'Innovació, Recerca i Cultur...</td>\n      <td>None</td>\n      <td>2020-03-20T07:37:02</td>\n      <td>None</td>\n      <td>Via Augusta, 202-226</td>\n      <td>None</td>\n      <td>4583094.806658751</td>\n      <td>None</td>\n      <td>10242296</td>\n      <td>POINT (2.13965 41.39798)</td>\n    </tr>\n    <tr>\n      <th>2</th>\n      <td>None</td>\n      <td>Barcelonès</td>\n      <td>427996.7316643046</td>\n      <td>93 400 69 00</td>\n      <td>None</td>\n      <td>Barcelona</td>\n      <td>08021</td>\n      <td>None</td>\n      <td>Sub-direcció General de Centres Privats</td>\n      <td>2.139648279</td>\n      <td>...</td>\n      <td>Sub-direcció General de Centres Privats</td>\n      <td>None</td>\n      <td>2020-03-20T07:36:10</td>\n      <td>None</td>\n      <td>Via Augusta, 202-226</td>\n      <td>932 415 342</td>\n      <td>4583094.806658751</td>\n      <td>None</td>\n      <td>3041655</td>\n      <td>POINT (2.13965 41.39798)</td>\n    </tr>\n    <tr>\n      <th>3</th>\n      <td>None</td>\n      <td>Baix Llobregat</td>\n      <td>410754.0</td>\n      <td>93 683 27 38</td>\n      <td>cultura@vallirana.cat</td>\n      <td>Vallirana</td>\n      <td>08759</td>\n      <td>None</td>\n      <td>Centre d'Interpretació del Patrimoni Masia Mol...</td>\n      <td>1.93261908797568</td>\n      <td>...</td>\n      <td>Centre d'Interpretació del Patrimoni Masia Mol...</td>\n      <td>93 683 28 97</td>\n      <td>2020-03-20T07:15:37</td>\n      <td>None</td>\n      <td>C. del Molí, 2 - 4</td>\n      <td>None</td>\n      <td>4581937.0</td>\n      <td>None</td>\n      <td>28561</td>\n      <td>POINT (1.93262 41.38401)</td>\n    </tr>\n    <tr>\n      <th>4</th>\n      <td>None</td>\n      <td>Tarragonès</td>\n      <td>352259.786</td>\n      <td>977 24 70 36</td>\n      <td>None</td>\n      <td>Tarragona</td>\n      <td>43005</td>\n      <td>None</td>\n      <td>Servei Territorial de l'Agència de l'Habitatge...</td>\n      <td>1.240220699</td>\n      <td>...</td>\n      <td>Servei Territorial de l'Agència de l'Habitatge...</td>\n      <td>None</td>\n      <td>2020-03-20T07:36:17</td>\n      <td>Horari|&lt;br /&gt;&lt;b&gt;&lt;/b&gt;&lt;br /&gt;de dilluns a divendr...</td>\n      <td>Carrer del Cardenal Vidal i Barraquer, 12-14</td>\n      <td>None</td>\n      <td>4553291.179</td>\n      <td>None</td>\n      <td>3041757</td>\n      <td>POINT (1.24022 41.11748)</td>\n    </tr>\n    <tr>\n      <th>...</th>\n      <td>...</td>\n      <td>...</td>\n      <td>...</td>\n      <td>...</td>\n      <td>...</td>\n      <td>...</td>\n      <td>...</td>\n      <td>...</td>\n      <td>...</td>\n      <td>...</td>\n      <td>...</td>\n      <td>...</td>\n      <td>...</td>\n      <td>...</td>\n      <td>...</td>\n      <td>...</td>\n      <td>...</td>\n      <td>...</td>\n      <td>...</td>\n      <td>...</td>\n      <td>...</td>\n    </tr>\n    <tr>\n      <th>33033</th>\n      <td>None</td>\n      <td>Baix Camp</td>\n      <td>340788.637</td>\n      <td>977331806</td>\n      <td>pba.imac@reus.cat</td>\n      <td>Reus</td>\n      <td>43202</td>\n      <td>Cultura|Teatres, auditoris i espais escènics e...</td>\n      <td>la Palma</td>\n      <td>1.1023539633548318</td>\n      <td>...</td>\n      <td>la Palma</td>\n      <td>None</td>\n      <td>2020-03-20T07:27:04</td>\n      <td>Any de construcció|1902|Any del cens|1998|Supe...</td>\n      <td>C/ Ample 75</td>\n      <td>None</td>\n      <td>4558298.564</td>\n      <td>None</td>\n      <td>10629895</td>\n      <td>POINT (1.10235 41.16040)</td>\n    </tr>\n    <tr>\n      <th>33034</th>\n      <td>None</td>\n      <td>Baix Camp</td>\n      <td>0.0</td>\n      <td>977834353</td>\n      <td>lateneu@tinet.cat</td>\n      <td>Duesaigües</td>\n      <td>43773</td>\n      <td>Cultura|Centres culturals: ateneus, centres cí...</td>\n      <td>Ateneu de Duesaigües</td>\n      <td>-1.4887438843851004</td>\n      <td>...</td>\n      <td>Ateneu de Duesaigües</td>\n      <td>None</td>\n      <td>2020-03-20T07:27:05</td>\n      <td>Any de construcció|1974|Any del cens|2005|Supe...</td>\n      <td>Pl. 15 d'agost 15</td>\n      <td>None</td>\n      <td>0.0</td>\n      <td>None</td>\n      <td>10630412</td>\n      <td>POINT (-1.48874 0.00000)</td>\n    </tr>\n    <tr>\n      <th>33035</th>\n      <td>None</td>\n      <td>Segrià</td>\n      <td>308327.075</td>\n      <td>973190117</td>\n      <td>ajuntament@corbins.cat</td>\n      <td>Corbins</td>\n      <td>25137</td>\n      <td>Cultura|Centres culturals: ateneus, centres cí...</td>\n      <td>Patronat Sant Jaume de Corbins</td>\n      <td>0.696756024266889</td>\n      <td>...</td>\n      <td>Patronat Sant Jaume de Corbins</td>\n      <td>None</td>\n      <td>2020-03-20T07:26:53</td>\n      <td>Any de construcció|1940|Any del cens|2000|Supe...</td>\n      <td>Pl. Carnisseria 6</td>\n      <td>None</td>\n      <td>4618120.126</td>\n      <td>None</td>\n      <td>10630164</td>\n      <td>POINT (0.69676 41.69179)</td>\n    </tr>\n    <tr>\n      <th>33036</th>\n      <td>None</td>\n      <td>Segrià</td>\n      <td>301511.775</td>\n      <td>973266303</td>\n      <td>None</td>\n      <td>Lleida</td>\n      <td>25006</td>\n      <td>Cultura|Centres culturals: ateneus, centres cí...</td>\n      <td>Centre Cultural Vallcalent</td>\n      <td>0.6175989338249559</td>\n      <td>...</td>\n      <td>Centre Cultural Vallcalent</td>\n      <td>None</td>\n      <td>2020-03-20T07:26:53</td>\n      <td>Any de construcció|1968|Any del cens|1996|Supe...</td>\n      <td>C/ Vallcalent 28</td>\n      <td>None</td>\n      <td>4610071.677</td>\n      <td>None</td>\n      <td>10630158</td>\n      <td>POINT (0.61760 41.61769)</td>\n    </tr>\n    <tr>\n      <th>33037</th>\n      <td>None</td>\n      <td>Osona</td>\n      <td>442772.493</td>\n      <td>938540457</td>\n      <td>cultura@rodadeter.cat</td>\n      <td>Roda de Ter</td>\n      <td>08510</td>\n      <td>Cultura|Teatres, auditoris i espais escènics e...</td>\n      <td>Teatre Eliseu</td>\n      <td>2.3091974470722105</td>\n      <td>...</td>\n      <td>Teatre Eliseu</td>\n      <td>None</td>\n      <td>2020-03-20T07:26:58</td>\n      <td>Any de construcció|1928|Any del cens|2011|Supe...</td>\n      <td>C/ Bac de Roda 1 bis</td>\n      <td>None</td>\n      <td>4647932.364</td>\n      <td>None</td>\n      <td>10630429</td>\n      <td>POINT (2.30920 41.98132)</td>\n    </tr>\n  </tbody>\n</table>\n<p>33038 rows × 23 columns</p>\n</div>"
     },
     "metadata": {},
     "execution_count": 2
    }
   ],
   "source": [
    "# Download a file and convert it into a dataframe.\n",
    "gdf_raw = gpd.read_file(DATA_RAW)\n",
    "\n",
    "gdf_raw"
   ]
  },
  {
   "cell_type": "markdown",
   "metadata": {},
   "source": [
    "## Data cleanup"
   ],
   "execution_count": null,
   "outputs": []
  },
  {
   "cell_type": "markdown",
   "execution_count": null,
   "metadata": {},
   "outputs": [],
   "source": [
    "### Fields' mapping."
   ]
  },
  {
   "cell_type": "code",
   "execution_count": 3,
   "metadata": {},
   "outputs": [],
   "source": [
    "# Create a copy\n",
    "gdf = gdf_raw"
   ]
  },
  {
   "cell_type": "markdown",
   "metadata": {},
   "source": [
    "Run the cell below to convert raw data into a suitable OSM-friendly structure, according to the provided CSV fields with fields' mappings stated in `CSV_PARSER` variable."
   ],
   "execution_count": null,
   "outputs": []
  },
  {
   "cell_type": "code",
   "execution_count": 4,
   "metadata": {},
   "outputs": [
    {
     "output_type": "execute_result",
     "data": {
      "text/plain": "      Original field                                 Description  \\\n0       idequipament  Identificador intern de l'equipament a BDE   \n1              alies                       Àlies de l'equipament   \n2                nom                         Nom de l'eqiupament   \n3          categoria  Categories / subcategories de l'equipament   \n4          tipus_via                       Tipus de via (adreça)   \n5                via                      Nom de la via (adreça)   \n6          sufix_via                              Sufix (adreça)   \n7                num                   Número de portal (adreça)   \n8            cpostal                                 Codi postal   \n9           poblacio                                    Població   \n10           comarca                                     Comarca   \n11          telefon1                           Telèfon principal   \n12          telefon2                           Telèfon secundari   \n13               fax                                         Fax   \n14              utmx                          Coordenada x (UTM)   \n15              utmy                          Coordenada y (UTM)   \n16          longitud                                    Longitud   \n17           latitud                                     Latitud   \n18             email                 Adreça de correu electrònic   \n19               web                                  Pàgina web   \n20  data_modificacio              Data de la darrera modificació   \n21        propietats      Propietats addicionals de l'equipament   \n22      localitzacio                    Columna de georeferència   \n\n         OSM tagging                                           Comments  \n0        source:pkey                                      Not imported.  \n1                NaN                 Not imported. Same values as `nom`  \n2               name                                                NaN  \n3       tmp_category  Not imported. Only used for filtering. Will be...  \n4                NaN                                                NaN  \n5          addr:full  The geojson has all the information stored in ...  \n6                NaN                               Empty. Not imported.  \n7   addr:housenumber                                                NaN  \n8      addr:postcode                                                NaN  \n9          addr:city                                                NaN  \n10               NaN                                       Not imported  \n11             phone                                                NaN  \n12               NaN                                                NaN  \n13               fax                                                NaN  \n14               NaN                               Not imported as tags  \n15               NaN                               Not imported as tags  \n16               NaN                               Not imported as tags  \n17               NaN                               Not imported as tags  \n18             email                                                NaN  \n19           website                                                NaN  \n20       source:date                                                NaN  \n21               NaN                                       Not imported  \n22               NaN                               Not imported as tags  ",
      "text/html": "<div>\n<style scoped>\n    .dataframe tbody tr th:only-of-type {\n        vertical-align: middle;\n    }\n\n    .dataframe tbody tr th {\n        vertical-align: top;\n    }\n\n    .dataframe thead th {\n        text-align: right;\n    }\n</style>\n<table border=\"1\" class=\"dataframe\">\n  <thead>\n    <tr style=\"text-align: right;\">\n      <th></th>\n      <th>Original field</th>\n      <th>Description</th>\n      <th>OSM tagging</th>\n      <th>Comments</th>\n    </tr>\n  </thead>\n  <tbody>\n    <tr>\n      <th>0</th>\n      <td>idequipament</td>\n      <td>Identificador intern de l'equipament a BDE</td>\n      <td>source:pkey</td>\n      <td>Not imported.</td>\n    </tr>\n    <tr>\n      <th>1</th>\n      <td>alies</td>\n      <td>Àlies de l'equipament</td>\n      <td>NaN</td>\n      <td>Not imported. Same values as `nom`</td>\n    </tr>\n    <tr>\n      <th>2</th>\n      <td>nom</td>\n      <td>Nom de l'eqiupament</td>\n      <td>name</td>\n      <td>NaN</td>\n    </tr>\n    <tr>\n      <th>3</th>\n      <td>categoria</td>\n      <td>Categories / subcategories de l'equipament</td>\n      <td>tmp_category</td>\n      <td>Not imported. Only used for filtering. Will be...</td>\n    </tr>\n    <tr>\n      <th>4</th>\n      <td>tipus_via</td>\n      <td>Tipus de via (adreça)</td>\n      <td>NaN</td>\n      <td>NaN</td>\n    </tr>\n    <tr>\n      <th>5</th>\n      <td>via</td>\n      <td>Nom de la via (adreça)</td>\n      <td>addr:full</td>\n      <td>The geojson has all the information stored in ...</td>\n    </tr>\n    <tr>\n      <th>6</th>\n      <td>sufix_via</td>\n      <td>Sufix (adreça)</td>\n      <td>NaN</td>\n      <td>Empty. Not imported.</td>\n    </tr>\n    <tr>\n      <th>7</th>\n      <td>num</td>\n      <td>Número de portal (adreça)</td>\n      <td>addr:housenumber</td>\n      <td>NaN</td>\n    </tr>\n    <tr>\n      <th>8</th>\n      <td>cpostal</td>\n      <td>Codi postal</td>\n      <td>addr:postcode</td>\n      <td>NaN</td>\n    </tr>\n    <tr>\n      <th>9</th>\n      <td>poblacio</td>\n      <td>Població</td>\n      <td>addr:city</td>\n      <td>NaN</td>\n    </tr>\n    <tr>\n      <th>10</th>\n      <td>comarca</td>\n      <td>Comarca</td>\n      <td>NaN</td>\n      <td>Not imported</td>\n    </tr>\n    <tr>\n      <th>11</th>\n      <td>telefon1</td>\n      <td>Telèfon principal</td>\n      <td>phone</td>\n      <td>NaN</td>\n    </tr>\n    <tr>\n      <th>12</th>\n      <td>telefon2</td>\n      <td>Telèfon secundari</td>\n      <td>NaN</td>\n      <td>NaN</td>\n    </tr>\n    <tr>\n      <th>13</th>\n      <td>fax</td>\n      <td>Fax</td>\n      <td>fax</td>\n      <td>NaN</td>\n    </tr>\n    <tr>\n      <th>14</th>\n      <td>utmx</td>\n      <td>Coordenada x (UTM)</td>\n      <td>NaN</td>\n      <td>Not imported as tags</td>\n    </tr>\n    <tr>\n      <th>15</th>\n      <td>utmy</td>\n      <td>Coordenada y (UTM)</td>\n      <td>NaN</td>\n      <td>Not imported as tags</td>\n    </tr>\n    <tr>\n      <th>16</th>\n      <td>longitud</td>\n      <td>Longitud</td>\n      <td>NaN</td>\n      <td>Not imported as tags</td>\n    </tr>\n    <tr>\n      <th>17</th>\n      <td>latitud</td>\n      <td>Latitud</td>\n      <td>NaN</td>\n      <td>Not imported as tags</td>\n    </tr>\n    <tr>\n      <th>18</th>\n      <td>email</td>\n      <td>Adreça de correu electrònic</td>\n      <td>email</td>\n      <td>NaN</td>\n    </tr>\n    <tr>\n      <th>19</th>\n      <td>web</td>\n      <td>Pàgina web</td>\n      <td>website</td>\n      <td>NaN</td>\n    </tr>\n    <tr>\n      <th>20</th>\n      <td>data_modificacio</td>\n      <td>Data de la darrera modificació</td>\n      <td>source:date</td>\n      <td>NaN</td>\n    </tr>\n    <tr>\n      <th>21</th>\n      <td>propietats</td>\n      <td>Propietats addicionals de l'equipament</td>\n      <td>NaN</td>\n      <td>Not imported</td>\n    </tr>\n    <tr>\n      <th>22</th>\n      <td>localitzacio</td>\n      <td>Columna de georeferència</td>\n      <td>NaN</td>\n      <td>Not imported as tags</td>\n    </tr>\n  </tbody>\n</table>\n</div>"
     },
     "metadata": {},
     "execution_count": 4
    }
   ],
   "source": [
    "# Read CSV file with fields' mapping and description.\n",
    "fields_mapping = pd.read_csv(CSV_PARSER)\n",
    "\n",
    "# Display table.\n",
    "fields_mapping\n",
    "\n",
    ""
   ]
  },
  {
   "cell_type": "code",
   "execution_count": 5,
   "metadata": {},
   "outputs": [
    {
     "output_type": "execute_result",
     "data": {
      "text/plain": "  source:pkey                                               name  \\\n0    11443807  OFICINA DE TURISME DE CATALUNYA A LLEIDA-AEROP...   \n1    10242296  Direcció General d'Innovació, Recerca i Cultur...   \n2     3041655            Sub-direcció General de Centres Privats   \n3       28561  Centre d'Interpretació del Patrimoni Masia Mol...   \n4     3041757  Servei Territorial de l'Agència de l'Habitatge...   \n5     3040033                             CCMA - Catalunya Ràdio   \n6     6016896                    Sub-direcció General de Serveis   \n7     3039714                                Assessoria Jurídica   \n8     6015310           Gabinet de Relacions Externes i Protocol   \n9     3040392       Coordinació Territorial de Joventut a Lleida   \n\n                                        tmp_category  \\\n0  Turisme|Oficines de Turisme de la Xarxa|Altres...   \n1                                               None   \n2                                               None   \n3                                               None   \n4                                               None   \n5                                               None   \n6                                               None   \n7                                               None   \n8                                               None   \n9                                               None   \n\n                                       addr:full addr:housenumber  \\\n0                           Ctra. N-230 qm. 14,5             None   \n1                           Via Augusta, 202-226             None   \n2                           Via Augusta, 202-226             None   \n3                             C. del Molí, 2 - 4             None   \n4   Carrer del Cardenal Vidal i Barraquer, 12-14             None   \n5                     Avinguda Diagonal, 614-616             None   \n6                    Carrer de la Diputació, 355             None   \n7                               Via Laietana, 26             None   \n8                     Rambla de Catalunya, 19-21             None   \n9                              Rambla d'Aragó, 8             None   \n\n  addr:postcode  addr:city         phone           fax  \\\n0         25125   Alguaire     973032744          None   \n1         08021  Barcelona  93 400 69 00          None   \n2         08021  Barcelona  93 400 69 00          None   \n3         08759  Vallirana  93 683 27 38  93 683 28 97   \n4         43005  Tarragona  977 24 70 36          None   \n5         08021  Barcelona  93 306 92 00  93 306 92 01   \n6         08009  Barcelona  93 567 40 00  93 567 40 02   \n7         08003  Barcelona  93 567 17 00  93 567 17 51   \n8         08007  Barcelona  93 316 20 00  93 316 21 60   \n9         25002     Lleida  973 27 92 17  973 27 92 01   \n\n                             email                               website  \\\n0             ot.lleida@gencat.cat              http://www.catalunya.com   \n1                             None                                  None   \n2                             None                                  None   \n3            cultura@vallirana.cat              http://www.vallirana.cat   \n4                             None    http://agenciahabitatge.gencat.cat   \n5                             None          http://www.ccma.cat/catradio   \n6                             None                                  None   \n7                             None  http://politiquesdigitals.gencat.cat   \n8                             None                                  None   \n9  joventut.lleida.tsf@gencat.cat                                   None   \n\n           source:date  \n0  2020-03-20T07:54:39  \n1  2020-03-20T07:37:02  \n2  2020-03-20T07:36:10  \n3  2020-03-20T07:15:37  \n4  2020-03-20T07:36:17  \n5  2020-03-20T07:37:15  \n6  2020-03-20T07:36:07  \n7  2020-03-20T07:37:18  \n8  2020-03-20T07:36:57  \n9  2020-03-20T07:37:04  ",
      "text/html": "<div>\n<style scoped>\n    .dataframe tbody tr th:only-of-type {\n        vertical-align: middle;\n    }\n\n    .dataframe tbody tr th {\n        vertical-align: top;\n    }\n\n    .dataframe thead th {\n        text-align: right;\n    }\n</style>\n<table border=\"1\" class=\"dataframe\">\n  <thead>\n    <tr style=\"text-align: right;\">\n      <th></th>\n      <th>source:pkey</th>\n      <th>name</th>\n      <th>tmp_category</th>\n      <th>addr:full</th>\n      <th>addr:housenumber</th>\n      <th>addr:postcode</th>\n      <th>addr:city</th>\n      <th>phone</th>\n      <th>fax</th>\n      <th>email</th>\n      <th>website</th>\n      <th>source:date</th>\n    </tr>\n  </thead>\n  <tbody>\n    <tr>\n      <th>0</th>\n      <td>11443807</td>\n      <td>OFICINA DE TURISME DE CATALUNYA A LLEIDA-AEROP...</td>\n      <td>Turisme|Oficines de Turisme de la Xarxa|Altres...</td>\n      <td>Ctra. N-230 qm. 14,5</td>\n      <td>None</td>\n      <td>25125</td>\n      <td>Alguaire</td>\n      <td>973032744</td>\n      <td>None</td>\n      <td>ot.lleida@gencat.cat</td>\n      <td>http://www.catalunya.com</td>\n      <td>2020-03-20T07:54:39</td>\n    </tr>\n    <tr>\n      <th>1</th>\n      <td>10242296</td>\n      <td>Direcció General d'Innovació, Recerca i Cultur...</td>\n      <td>None</td>\n      <td>Via Augusta, 202-226</td>\n      <td>None</td>\n      <td>08021</td>\n      <td>Barcelona</td>\n      <td>93 400 69 00</td>\n      <td>None</td>\n      <td>None</td>\n      <td>None</td>\n      <td>2020-03-20T07:37:02</td>\n    </tr>\n    <tr>\n      <th>2</th>\n      <td>3041655</td>\n      <td>Sub-direcció General de Centres Privats</td>\n      <td>None</td>\n      <td>Via Augusta, 202-226</td>\n      <td>None</td>\n      <td>08021</td>\n      <td>Barcelona</td>\n      <td>93 400 69 00</td>\n      <td>None</td>\n      <td>None</td>\n      <td>None</td>\n      <td>2020-03-20T07:36:10</td>\n    </tr>\n    <tr>\n      <th>3</th>\n      <td>28561</td>\n      <td>Centre d'Interpretació del Patrimoni Masia Mol...</td>\n      <td>None</td>\n      <td>C. del Molí, 2 - 4</td>\n      <td>None</td>\n      <td>08759</td>\n      <td>Vallirana</td>\n      <td>93 683 27 38</td>\n      <td>93 683 28 97</td>\n      <td>cultura@vallirana.cat</td>\n      <td>http://www.vallirana.cat</td>\n      <td>2020-03-20T07:15:37</td>\n    </tr>\n    <tr>\n      <th>4</th>\n      <td>3041757</td>\n      <td>Servei Territorial de l'Agència de l'Habitatge...</td>\n      <td>None</td>\n      <td>Carrer del Cardenal Vidal i Barraquer, 12-14</td>\n      <td>None</td>\n      <td>43005</td>\n      <td>Tarragona</td>\n      <td>977 24 70 36</td>\n      <td>None</td>\n      <td>None</td>\n      <td>http://agenciahabitatge.gencat.cat</td>\n      <td>2020-03-20T07:36:17</td>\n    </tr>\n    <tr>\n      <th>5</th>\n      <td>3040033</td>\n      <td>CCMA - Catalunya Ràdio</td>\n      <td>None</td>\n      <td>Avinguda Diagonal, 614-616</td>\n      <td>None</td>\n      <td>08021</td>\n      <td>Barcelona</td>\n      <td>93 306 92 00</td>\n      <td>93 306 92 01</td>\n      <td>None</td>\n      <td>http://www.ccma.cat/catradio</td>\n      <td>2020-03-20T07:37:15</td>\n    </tr>\n    <tr>\n      <th>6</th>\n      <td>6016896</td>\n      <td>Sub-direcció General de Serveis</td>\n      <td>None</td>\n      <td>Carrer de la Diputació, 355</td>\n      <td>None</td>\n      <td>08009</td>\n      <td>Barcelona</td>\n      <td>93 567 40 00</td>\n      <td>93 567 40 02</td>\n      <td>None</td>\n      <td>None</td>\n      <td>2020-03-20T07:36:07</td>\n    </tr>\n    <tr>\n      <th>7</th>\n      <td>3039714</td>\n      <td>Assessoria Jurídica</td>\n      <td>None</td>\n      <td>Via Laietana, 26</td>\n      <td>None</td>\n      <td>08003</td>\n      <td>Barcelona</td>\n      <td>93 567 17 00</td>\n      <td>93 567 17 51</td>\n      <td>None</td>\n      <td>http://politiquesdigitals.gencat.cat</td>\n      <td>2020-03-20T07:37:18</td>\n    </tr>\n    <tr>\n      <th>8</th>\n      <td>6015310</td>\n      <td>Gabinet de Relacions Externes i Protocol</td>\n      <td>None</td>\n      <td>Rambla de Catalunya, 19-21</td>\n      <td>None</td>\n      <td>08007</td>\n      <td>Barcelona</td>\n      <td>93 316 20 00</td>\n      <td>93 316 21 60</td>\n      <td>None</td>\n      <td>None</td>\n      <td>2020-03-20T07:36:57</td>\n    </tr>\n    <tr>\n      <th>9</th>\n      <td>3040392</td>\n      <td>Coordinació Territorial de Joventut a Lleida</td>\n      <td>None</td>\n      <td>Rambla d'Aragó, 8</td>\n      <td>None</td>\n      <td>25002</td>\n      <td>Lleida</td>\n      <td>973 27 92 17</td>\n      <td>973 27 92 01</td>\n      <td>joventut.lleida.tsf@gencat.cat</td>\n      <td>None</td>\n      <td>2020-03-20T07:37:04</td>\n    </tr>\n  </tbody>\n</table>\n</div>"
     },
     "metadata": {},
     "execution_count": 5
    }
   ],
   "source": [
    "# Selects and renames fields according to CSV parser.\n",
    "gdf = osmi_dg.csv_parser(gdf, CSV_PARSER)\n",
    "\n",
    "\n",
    "gdf.head(10)"
   ]
  },
  {
   "cell_type": "markdown",
   "metadata": {},
   "source": [
    "### Calculate some fields\n",
    "\n",
    "The following code calculates some fields that are needed in OSM."
   ],
   "execution_count": null,
   "outputs": []
  },
  {
   "cell_type": "code",
   "execution_count": 6,
   "metadata": {},
   "outputs": [
    {
     "output_type": "execute_result",
     "data": {
      "text/plain": "      source:pkey                                               name  \\\n0        11443807  Oficina De Turisme De Catalunya A Lleida-Aerop...   \n24          14174                              Deixalleria De Sitges   \n25          23577                  Oficina De Turisme De Peratallada   \n26          49680  Servei D'Informació I Atenció A Les Dones (Sia...   \n27          49701  Servei D'Informació I Atenció A Les Dones (Sia...   \n...           ...                                                ...   \n33033    10629895                                           La Palma   \n33034    10630412                               Ateneu De Duesaigües   \n33035    10630164                     Patronat Sant Jaume De Corbins   \n33036    10630158                         Centre Cultural Vallcalent   \n33037    10630429                                      Teatre Eliseu   \n\n                                            tmp_category  \\\n0      Turisme|Oficines de Turisme de la Xarxa|Altres...   \n24                           Medi ambient|Deixalleries||   \n25     Turisme|Oficines de Turisme de la Xarxa|Altres...   \n26     Societat. Ciutadania. Famílies|Oficines d'info...   \n27     Societat. Ciutadania. Famílies|Oficines d'info...   \n...                                                  ...   \n33033  Cultura|Teatres, auditoris i espais escènics e...   \n33034  Cultura|Centres culturals: ateneus, centres cí...   \n33035  Cultura|Centres culturals: ateneus, centres cí...   \n33036  Cultura|Centres culturals: ateneus, centres cí...   \n33037  Cultura|Teatres, auditoris i espais escènics e...   \n\n                            addr:full addr:housenumber addr:postcode  \\\n0                Ctra. N-230 Qm. 14,5                5         25125   \n24                                 -               NaN         08870   \n25              Pl. Del Castell, Nº 3             Nº 3         17113   \n26             Fanalets De Sant Jaume              NaN         25002   \n27      Muralla Del Carme, 24, Baixos               24         43800   \n...                               ...              ...           ...   \n33033                     C/ Ample 75              NaN         43202   \n33034               Pl. 15 D'Agost 15              NaN         43773   \n33035               Pl. Carnisseria 6              NaN         25137   \n33036                C/ Vallcalent 28              NaN         25006   \n33037            C/ Bac De Roda 1 Bis              NaN         08510   \n\n         addr:city      phone   fax                          email  \\\n0         Alguaire  973032744  None           ot.lleida@gencat.cat   \n24          Sitges  938109100  None             vilafjs@sitges.cat   \n25        Forallac  972645522  None           turisme@forallac.com   \n26          Lleida  973700461  None  politiquesigualtat@paeria.cat   \n27           Valls  977608225  None                  pad@valls.cat   \n...            ...        ...   ...                            ...   \n33033         Reus  977331806  None              pba.imac@reus.cat   \n33034   Duesaigües  977834353  None              lateneu@tinet.cat   \n33035      Corbins  973190117  None         ajuntament@corbins.cat   \n33036       Lleida  973266303  None                           None   \n33037  Roda de Ter  938540457  None          cultura@rodadeter.cat   \n\n                                                 website          source:date  \\\n0                               http://www.catalunya.com  2020-03-20T07:54:39   \n24     http://www.sitges.cat/jsp/directori/detall.jsp...  2020-03-12T16:06:01   \n25                               http://www.forallac.cat  2020-03-20T07:54:35   \n26                                                  None  2018-03-08T15:46:02   \n27                                                  None  2018-03-08T15:45:58   \n...                                                  ...                  ...   \n33033                                               None  2020-03-20T07:27:04   \n33034                                               None  2020-03-20T07:27:05   \n33035                                               None  2020-03-20T07:26:53   \n33036                                               None  2020-03-20T07:26:53   \n33037                                               None  2020-03-20T07:26:58   \n\n                     addr:street addr:unit  amenity emergency  \n0         Carretera N-230 Qm. 14       NaN      NaN       NaN  \n24                            -        NaN      NaN       NaN  \n25             Plaça Del Castell       NaN      NaN       NaN  \n26        Fanalets De Sant Jaume       NaN      NaN       NaN  \n27             Muralla Del Carme    Baixos      NaN       NaN  \n...                          ...       ...      ...       ...  \n33033            Carrer Ample 75       NaN  theatre       NaN  \n33034        Plaça 15 D'Agost 15       NaN      NaN       NaN  \n33035        Plaça Carnisseria 6       NaN      NaN       NaN  \n33036       Carrer Vallcalent 28       NaN      NaN       NaN  \n33037   Carrer Bac De Roda 1 Bis       NaN  theatre       NaN  \n\n[29310 rows x 16 columns]",
      "text/html": "<div>\n<style scoped>\n    .dataframe tbody tr th:only-of-type {\n        vertical-align: middle;\n    }\n\n    .dataframe tbody tr th {\n        vertical-align: top;\n    }\n\n    .dataframe thead th {\n        text-align: right;\n    }\n</style>\n<table border=\"1\" class=\"dataframe\">\n  <thead>\n    <tr style=\"text-align: right;\">\n      <th></th>\n      <th>source:pkey</th>\n      <th>name</th>\n      <th>tmp_category</th>\n      <th>addr:full</th>\n      <th>addr:housenumber</th>\n      <th>addr:postcode</th>\n      <th>addr:city</th>\n      <th>phone</th>\n      <th>fax</th>\n      <th>email</th>\n      <th>website</th>\n      <th>source:date</th>\n      <th>addr:street</th>\n      <th>addr:unit</th>\n      <th>amenity</th>\n      <th>emergency</th>\n    </tr>\n  </thead>\n  <tbody>\n    <tr>\n      <th>0</th>\n      <td>11443807</td>\n      <td>Oficina De Turisme De Catalunya A Lleida-Aerop...</td>\n      <td>Turisme|Oficines de Turisme de la Xarxa|Altres...</td>\n      <td>Ctra. N-230 Qm. 14,5</td>\n      <td>5</td>\n      <td>25125</td>\n      <td>Alguaire</td>\n      <td>973032744</td>\n      <td>None</td>\n      <td>ot.lleida@gencat.cat</td>\n      <td>http://www.catalunya.com</td>\n      <td>2020-03-20T07:54:39</td>\n      <td>Carretera N-230 Qm. 14</td>\n      <td>NaN</td>\n      <td>NaN</td>\n      <td>NaN</td>\n    </tr>\n    <tr>\n      <th>24</th>\n      <td>14174</td>\n      <td>Deixalleria De Sitges</td>\n      <td>Medi ambient|Deixalleries||</td>\n      <td>-</td>\n      <td>NaN</td>\n      <td>08870</td>\n      <td>Sitges</td>\n      <td>938109100</td>\n      <td>None</td>\n      <td>vilafjs@sitges.cat</td>\n      <td>http://www.sitges.cat/jsp/directori/detall.jsp...</td>\n      <td>2020-03-12T16:06:01</td>\n      <td>-</td>\n      <td>NaN</td>\n      <td>NaN</td>\n      <td>NaN</td>\n    </tr>\n    <tr>\n      <th>25</th>\n      <td>23577</td>\n      <td>Oficina De Turisme De Peratallada</td>\n      <td>Turisme|Oficines de Turisme de la Xarxa|Altres...</td>\n      <td>Pl. Del Castell, Nº 3</td>\n      <td>Nº 3</td>\n      <td>17113</td>\n      <td>Forallac</td>\n      <td>972645522</td>\n      <td>None</td>\n      <td>turisme@forallac.com</td>\n      <td>http://www.forallac.cat</td>\n      <td>2020-03-20T07:54:35</td>\n      <td>Plaça Del Castell</td>\n      <td>NaN</td>\n      <td>NaN</td>\n      <td>NaN</td>\n    </tr>\n    <tr>\n      <th>26</th>\n      <td>49680</td>\n      <td>Servei D'Informació I Atenció A Les Dones (Sia...</td>\n      <td>Societat. Ciutadania. Famílies|Oficines d'info...</td>\n      <td>Fanalets De Sant Jaume</td>\n      <td>NaN</td>\n      <td>25002</td>\n      <td>Lleida</td>\n      <td>973700461</td>\n      <td>None</td>\n      <td>politiquesigualtat@paeria.cat</td>\n      <td>None</td>\n      <td>2018-03-08T15:46:02</td>\n      <td>Fanalets De Sant Jaume</td>\n      <td>NaN</td>\n      <td>NaN</td>\n      <td>NaN</td>\n    </tr>\n    <tr>\n      <th>27</th>\n      <td>49701</td>\n      <td>Servei D'Informació I Atenció A Les Dones (Sia...</td>\n      <td>Societat. Ciutadania. Famílies|Oficines d'info...</td>\n      <td>Muralla Del Carme, 24, Baixos</td>\n      <td>24</td>\n      <td>43800</td>\n      <td>Valls</td>\n      <td>977608225</td>\n      <td>None</td>\n      <td>pad@valls.cat</td>\n      <td>None</td>\n      <td>2018-03-08T15:45:58</td>\n      <td>Muralla Del Carme</td>\n      <td>Baixos</td>\n      <td>NaN</td>\n      <td>NaN</td>\n    </tr>\n    <tr>\n      <th>...</th>\n      <td>...</td>\n      <td>...</td>\n      <td>...</td>\n      <td>...</td>\n      <td>...</td>\n      <td>...</td>\n      <td>...</td>\n      <td>...</td>\n      <td>...</td>\n      <td>...</td>\n      <td>...</td>\n      <td>...</td>\n      <td>...</td>\n      <td>...</td>\n      <td>...</td>\n      <td>...</td>\n    </tr>\n    <tr>\n      <th>33033</th>\n      <td>10629895</td>\n      <td>La Palma</td>\n      <td>Cultura|Teatres, auditoris i espais escènics e...</td>\n      <td>C/ Ample 75</td>\n      <td>NaN</td>\n      <td>43202</td>\n      <td>Reus</td>\n      <td>977331806</td>\n      <td>None</td>\n      <td>pba.imac@reus.cat</td>\n      <td>None</td>\n      <td>2020-03-20T07:27:04</td>\n      <td>Carrer Ample 75</td>\n      <td>NaN</td>\n      <td>theatre</td>\n      <td>NaN</td>\n    </tr>\n    <tr>\n      <th>33034</th>\n      <td>10630412</td>\n      <td>Ateneu De Duesaigües</td>\n      <td>Cultura|Centres culturals: ateneus, centres cí...</td>\n      <td>Pl. 15 D'Agost 15</td>\n      <td>NaN</td>\n      <td>43773</td>\n      <td>Duesaigües</td>\n      <td>977834353</td>\n      <td>None</td>\n      <td>lateneu@tinet.cat</td>\n      <td>None</td>\n      <td>2020-03-20T07:27:05</td>\n      <td>Plaça 15 D'Agost 15</td>\n      <td>NaN</td>\n      <td>NaN</td>\n      <td>NaN</td>\n    </tr>\n    <tr>\n      <th>33035</th>\n      <td>10630164</td>\n      <td>Patronat Sant Jaume De Corbins</td>\n      <td>Cultura|Centres culturals: ateneus, centres cí...</td>\n      <td>Pl. Carnisseria 6</td>\n      <td>NaN</td>\n      <td>25137</td>\n      <td>Corbins</td>\n      <td>973190117</td>\n      <td>None</td>\n      <td>ajuntament@corbins.cat</td>\n      <td>None</td>\n      <td>2020-03-20T07:26:53</td>\n      <td>Plaça Carnisseria 6</td>\n      <td>NaN</td>\n      <td>NaN</td>\n      <td>NaN</td>\n    </tr>\n    <tr>\n      <th>33036</th>\n      <td>10630158</td>\n      <td>Centre Cultural Vallcalent</td>\n      <td>Cultura|Centres culturals: ateneus, centres cí...</td>\n      <td>C/ Vallcalent 28</td>\n      <td>NaN</td>\n      <td>25006</td>\n      <td>Lleida</td>\n      <td>973266303</td>\n      <td>None</td>\n      <td>None</td>\n      <td>None</td>\n      <td>2020-03-20T07:26:53</td>\n      <td>Carrer Vallcalent 28</td>\n      <td>NaN</td>\n      <td>NaN</td>\n      <td>NaN</td>\n    </tr>\n    <tr>\n      <th>33037</th>\n      <td>10630429</td>\n      <td>Teatre Eliseu</td>\n      <td>Cultura|Teatres, auditoris i espais escènics e...</td>\n      <td>C/ Bac De Roda 1 Bis</td>\n      <td>NaN</td>\n      <td>08510</td>\n      <td>Roda de Ter</td>\n      <td>938540457</td>\n      <td>None</td>\n      <td>cultura@rodadeter.cat</td>\n      <td>None</td>\n      <td>2020-03-20T07:26:58</td>\n      <td>Carrer Bac De Roda 1 Bis</td>\n      <td>NaN</td>\n      <td>theatre</td>\n      <td>NaN</td>\n    </tr>\n  </tbody>\n</table>\n<p>29310 rows × 16 columns</p>\n</div>"
     },
     "metadata": {},
     "execution_count": 6
    }
   ],
   "source": [
    "# Fix uppercase.\n",
    "gdf['name'] = gdf['name'].str.title()\n",
    "\n",
    "# Addresses' cleanup.\n",
    "gdf['addr:full'] = gdf['addr:full'].str.title()\n",
    "# Split address.\n",
    "gdf['addr:street'], gdf['addr:housenumber'], gdf['addr:unit'] = gdf['addr:full'].str.split(',', 2).str\n",
    "gdf['addr:street'].replace({'C/': 'Carrer'}, inplace=True, regex=True)\n",
    "gdf['addr:street'].replace({'Ctra.': 'Carretera'}, inplace=True, regex=True)\n",
    "gdf['addr:street'].replace({'Pl.': 'Plaça'}, inplace=True, regex=True)\n",
    "gdf['addr:housenumber'] = gdf['addr:housenumber'].replace(regex = 'S/N', value = '')\n",
    "\n",
    "# Filter out entries without category\n",
    "gdf = gdf.dropna(subset=['tmp_category'])\n",
    "\n",
    "# Remove pharmacies, because they have already been imported\n",
    "gdf = gdf[gdf.tmp_category != 'Salut|Farmàcies||']\n",
    "\n",
    "# Create amenity column according to `CATEGORIA`\n",
    "# Health\n",
    "gdf.loc[gdf.tmp_category.str.contains(\"Centres d'atenció primària\"), 'amenity' ] = 'clinic'\n",
    "gdf.loc[gdf.tmp_category.str.contains(\"Centres amb atenció continuada\"), 'amenity' ] = 'clinic'\n",
    "gdf.loc[gdf.tmp_category.str.contains(\"Centres amb atenció continuada\"), 'emergency' ] = 'yes'\n",
    "#gdf.loc[gdf.tmp_category.str.contains('Centres de salut mental'), 'amenity' ] = 'social_facility'\n",
    "#gdf.loc[gdf.tmp_category.str.contains('Centres de salut mental'), 'social_facility:for' ] = 'social_facility'\n",
    "gdf.loc[gdf.tmp_category.str.contains('Hospital'), 'amenity' ] = 'hospital'\n",
    "\n",
    "# Other\n",
    "gdf.loc[gdf.tmp_category.str.contains('Museus'), 'amenity' ] = 'museum'\n",
    "gdf.loc[gdf.tmp_category.str.contains('Teatres'), 'amenity' ] = 'theatre'\n",
    "\n",
    "gdf"
   ]
  },
  {
   "cell_type": "code",
   "execution_count": 7,
   "metadata": {},
   "outputs": [
    {
     "output_type": "execute_result",
     "data": {
      "text/plain": "pandas.core.frame.DataFrame"
     },
     "metadata": {},
     "execution_count": 7
    }
   ],
   "source": [
    "type(gdf)"
   ]
  },
  {
   "cell_type": "markdown",
   "execution_count": null,
   "metadata": {},
   "outputs": [],
   "source": [
    "## Export clean data\n",
    "\n",
    "If the attributes above are correct, we have to proceed to export them into a `CSV` and `geojson` files that can be used in the Task Manager's project."
   ]
  },
  {
   "cell_type": "code",
   "execution_count": 8,
   "metadata": {},
   "outputs": [],
   "source": [
    "# Drop unnecessary fields.\n",
    "gdf = gdf.drop(columns=['tmp_category'])\n",
    "\n",
    "# Split dataframe into different dataframes\n",
    "health_amenities = ['clinic', 'hospital']\n",
    "gdf_health = gdf.loc[gdf['amenity'].isin(health_amenities)]\n",
    "\n",
    "\n",
    "gdf_health\n",
    "\n",
    "# Generate  a CSV File.\n",
    "gdf_health.to_csv('data/processed/health.csv', index = False)\n",
    "\n",
    "# Export to geojson.\n",
    "#gdf_health.to_file('data/processed/health.geojson', driver='GeoJSON')"
   ]
  },
  {
   "cell_type": "markdown",
   "execution_count": null,
   "metadata": {},
   "outputs": [],
   "source": [
    "As a result of this script, we get the following files (all of them stored in `data/processed` folder:\n",
    "\n",
    "* `data/processed/health.geojson`: file containing hospitals, and clinics.\n",
    "* `data/processed/health.csv`: CSV file containing hospitals, and clinics.\n",
    "\n",
    "\n"
   ]
  }
 ],
 "metadata": {
  "file_extension": ".py",
  "kernelspec": {
   "display_name": "Python 3.7.6 64-bit",
   "language": "python",
   "name": "python37664bit7f704ecc68c44d00b27dbad0272d105c"
  },
  "language_info": {
   "codemirror_mode": {
    "name": "ipython",
    "version": 3
   },
   "file_extension": ".py",
   "mimetype": "text/x-python",
   "name": "python",
   "nbconvert_exporter": "python",
   "pygments_lexer": "ipython3",
   "version": "3.7.6-final"
  },
  "mimetype": "text/x-python",
  "name": "python",
  "npconvert_exporter": "python",
  "pycharm": {
   "stem_cell": {
    "cell_type": "raw",
    "metadata": {
     "collapsed": false
    },
    "source": []
   }
  },
  "pygments_lexer": "ipython3",
  "version": 3
 },
 "nbformat": 4,
 "nbformat_minor": 4
}