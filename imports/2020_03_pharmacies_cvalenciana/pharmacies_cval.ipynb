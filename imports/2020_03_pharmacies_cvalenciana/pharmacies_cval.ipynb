{
 "cells": [
  {
   "cell_type": "markdown",
   "execution_count": null,
   "metadata": {},
   "outputs": [],
   "source": [
    "# Comunitat Valenciana' pharmacies' import\n",
    "\n",
    "This jupyter notebook contains the script for importing the pharmacies in Comunitat Valenciana into OSM as well as the documentation of the whole process in a single file, making it easier to review both the process and the results as well as the decisions taken.\n",
    "\n",
    "The goal is to manually merge and import all the pharmacies' information provided by Generalitat Valenciana, while testing the scripts for data preparation.\n",
    "\n",
    "## Data Sources\n",
    "\n",
    "* http://www.san.gva.es/web/dgfps/relacion-de-oficinas-de-farmacia\n",
    "\n",
    "## License\n",
    "\n",
    "We have requested autorization due to COV19 emergency. Data is released under CC\n",
    "\n",
    "## Import type\n",
    "\n",
    "This import will be done manually, using JOSM to edit the data. Consider using Task Manager.\n",
    "\n",
    "## Data preparations\n",
    "\n",
    "All data preparations will be made automatically in this notebook.\n",
    "\n"
   ]
  },
  {
   "cell_type": "code",
   "execution_count": 1,
   "metadata": {},
   "outputs": [],
   "source": [
    "import pandas as pd\n",
    "import geopandas as gpd\n",
    "import geopy\n",
    "from osmi_helpers import data_gathering as osmi_dg\n",
    "\n",
    "# Define Data Sources\n",
    "\n",
    "DATA_RAW = 'data/raw/ListadoOficinasFarmacia.csv'\n",
    "\n",
    "CSV_PARSER = 'fields_mapping.csv'"
   ]
  },
  {
   "cell_type": "markdown",
   "execution_count": null,
   "metadata": {},
   "outputs": [],
   "source": [
    "### Fields' mapping."
   ]
  },
  {
   "cell_type": "code",
   "execution_count": 2,
   "metadata": {},
   "outputs": [
    {
     "data": {
      "text/html": "<div>\n<style scoped>\n    .dataframe tbody tr th:only-of-type {\n        vertical-align: middle;\n    }\n\n    .dataframe tbody tr th {\n        vertical-align: top;\n    }\n\n    .dataframe thead th {\n        text-align: right;\n    }\n</style>\n<table border=\"1\" class=\"dataframe\">\n  <thead>\n    <tr style=\"text-align: right;\">\n      <th></th>\n      <th>Original field</th>\n      <th>Description</th>\n      <th>OSM tagging</th>\n      <th>Comments</th>\n    </tr>\n  </thead>\n  <tbody>\n    <tr>\n      <th>0</th>\n      <td>ESTABLECIMIENTO</td>\n      <td>Internal ID</td>\n      <td>source:pkey</td>\n      <td>NaN</td>\n    </tr>\n    <tr>\n      <th>1</th>\n      <td>PROVINCIA</td>\n      <td>Province</td>\n      <td>addr:province</td>\n      <td>NaN</td>\n    </tr>\n    <tr>\n      <th>2</th>\n      <td>MUNICIPIO</td>\n      <td>Municipality</td>\n      <td>addr:city</td>\n      <td>NaN</td>\n    </tr>\n    <tr>\n      <th>3</th>\n      <td>TITULAR</td>\n      <td>NaN</td>\n      <td>name</td>\n      <td>NaN</td>\n    </tr>\n    <tr>\n      <th>4</th>\n      <td>DIRECCIÓN</td>\n      <td>Address</td>\n      <td>addr:full</td>\n      <td>Full address, to be splitted into `adr:street`...</td>\n    </tr>\n    <tr>\n      <th>5</th>\n      <td>DEPARTAMENTO DE SALUD</td>\n      <td>NaN</td>\n      <td>NaN</td>\n      <td>Not imported</td>\n    </tr>\n    <tr>\n      <th>6</th>\n      <td>ZONA ZBS</td>\n      <td>NaN</td>\n      <td>NaN</td>\n      <td>Not imported</td>\n    </tr>\n    <tr>\n      <th>7</th>\n      <td>ZONA FARMACÉUTICA</td>\n      <td>NaN</td>\n      <td>NaN</td>\n      <td>Not imported</td>\n    </tr>\n  </tbody>\n</table>\n</div>",
      "text/plain": "          Original field   Description    OSM tagging  \\\n0        ESTABLECIMIENTO   Internal ID    source:pkey   \n1              PROVINCIA      Province  addr:province   \n2              MUNICIPIO  Municipality      addr:city   \n3                TITULAR           NaN           name   \n4              DIRECCIÓN       Address      addr:full   \n5  DEPARTAMENTO DE SALUD           NaN            NaN   \n6               ZONA ZBS           NaN            NaN   \n7      ZONA FARMACÉUTICA           NaN            NaN   \n\n                                            Comments  \n0                                                NaN  \n1                                                NaN  \n2                                                NaN  \n3                                                NaN  \n4  Full address, to be splitted into `adr:street`...  \n5                                       Not imported  \n6                                       Not imported  \n7                                       Not imported  "
     },
     "execution_count": 2,
     "metadata": {},
     "output_type": "execute_result"
    }
   ],
   "source": [
    "# Read CSV file with fields' mapping and description.\n",
    "fields_mapping = pd.read_csv(CSV_PARSER)\n",
    "\n",
    "# Display table.\n",
    "fields_mapping\n",
    "\n"
   ]
  },
  {
   "cell_type": "markdown",
   "execution_count": null,
   "metadata": {},
   "outputs": [],
   "source": [
    "## Data gathering\n",
    "\n",
    "Run the code below to download original datasources and convert them into a dataframe."
   ]
  },
  {
   "cell_type": "code",
   "execution_count": 3,
   "metadata": {},
   "outputs": [
    {
     "data": {
      "text/html": "<div>\n<style scoped>\n    .dataframe tbody tr th:only-of-type {\n        vertical-align: middle;\n    }\n\n    .dataframe tbody tr th {\n        vertical-align: top;\n    }\n\n    .dataframe thead th {\n        text-align: right;\n    }\n</style>\n<table border=\"1\" class=\"dataframe\">\n  <thead>\n    <tr style=\"text-align: right;\">\n      <th></th>\n      <th>ESTABLECIMIENTO</th>\n      <th>PROVINCIA</th>\n      <th>MUNICIPIO</th>\n      <th>TITULAR</th>\n      <th>DIRECCIÓN</th>\n      <th>DEPARTAMENTO DE SALUD</th>\n      <th>ZONA ZBS</th>\n      <th>ZONA FARMACÉUTICA</th>\n    </tr>\n  </thead>\n  <tbody>\n    <tr>\n      <th>0</th>\n      <td>A-164-F</td>\n      <td>ALICANTE</td>\n      <td>AGOST</td>\n      <td>CARLOS GISBERT ARQUES</td>\n      <td>PLAZA DE ESPAÑA, 19, 03698</td>\n      <td>19</td>\n      <td>8</td>\n      <td>25</td>\n    </tr>\n    <tr>\n      <th>1</th>\n      <td>A-285-F</td>\n      <td>ALICANTE</td>\n      <td>AGOST</td>\n      <td>FRANCISCO AYUSO MACIA</td>\n      <td>AVDA Virgen de la Paz, 30, 03698</td>\n      <td>19</td>\n      <td>8</td>\n      <td>25</td>\n    </tr>\n    <tr>\n      <th>2</th>\n      <td>A-510-F</td>\n      <td>ALICANTE</td>\n      <td>AGRES</td>\n      <td>INMACULADA FERRERO PEREZ</td>\n      <td>CALLE San Antonio, 13, 03837</td>\n      <td>15</td>\n      <td>9</td>\n      <td>15</td>\n    </tr>\n    <tr>\n      <th>3</th>\n      <td>A-540-F</td>\n      <td>ALICANTE</td>\n      <td>AIGUES</td>\n      <td>JAVIER VILLAMAYOR PIÑAS</td>\n      <td>CALLE CANALEJAS, 12, 03569</td>\n      <td>17</td>\n      <td>6</td>\n      <td>22</td>\n    </tr>\n    <tr>\n      <th>4</th>\n      <td>A-13-F</td>\n      <td>ALICANTE</td>\n      <td>ALBATERA</td>\n      <td>ISABEL BALSAMEDA MORALES</td>\n      <td>CALLE Ramon y Cajal, 6, 03340</td>\n      <td>21</td>\n      <td>1</td>\n      <td>35</td>\n    </tr>\n    <tr>\n      <th>5</th>\n      <td>A-14-F</td>\n      <td>ALICANTE</td>\n      <td>ALBATERA</td>\n      <td>MARIA JOSE BALMASEDA DEL ALAMO, ARTURO CORBACH...</td>\n      <td>CTRA HONDON. EDIF.ROMEO, S/N, 03340</td>\n      <td>21</td>\n      <td>1</td>\n      <td>35</td>\n    </tr>\n    <tr>\n      <th>6</th>\n      <td>A-580-F</td>\n      <td>ALICANTE</td>\n      <td>ALBATERA</td>\n      <td>MARIA DEL MAR GARCIA MOLINA</td>\n      <td>AVDA Calvario, 39, 03340</td>\n      <td>21</td>\n      <td>1</td>\n      <td>35</td>\n    </tr>\n    <tr>\n      <th>7</th>\n      <td>A-814-F</td>\n      <td>ALICANTE</td>\n      <td>ALBATERA</td>\n      <td>FRANCISCO GARCIA CANOVAS</td>\n      <td>CALLE Meson, 45, 03340</td>\n      <td>21</td>\n      <td>1</td>\n      <td>35</td>\n    </tr>\n    <tr>\n      <th>8</th>\n      <td>A-531-F</td>\n      <td>ALICANTE</td>\n      <td>ALCALALI</td>\n      <td>ENCARNACION MOLL MENGUAL</td>\n      <td>C Calvari, 7, 03728</td>\n      <td>13</td>\n      <td>1</td>\n      <td>1</td>\n    </tr>\n    <tr>\n      <th>9</th>\n      <td>A-748-F</td>\n      <td>ALICANTE</td>\n      <td>ALCALALI</td>\n      <td>RAQUEL FERRER GONZALEZ</td>\n      <td>CALLE SALAMANCA, 19, 03723</td>\n      <td>13</td>\n      <td>8</td>\n      <td>1</td>\n    </tr>\n  </tbody>\n</table>\n</div>",
      "text/plain": "  ESTABLECIMIENTO PROVINCIA MUNICIPIO  \\\n0         A-164-F  ALICANTE     AGOST   \n1         A-285-F  ALICANTE     AGOST   \n2         A-510-F  ALICANTE     AGRES   \n3         A-540-F  ALICANTE    AIGUES   \n4          A-13-F  ALICANTE  ALBATERA   \n5          A-14-F  ALICANTE  ALBATERA   \n6         A-580-F  ALICANTE  ALBATERA   \n7         A-814-F  ALICANTE  ALBATERA   \n8         A-531-F  ALICANTE  ALCALALI   \n9         A-748-F  ALICANTE  ALCALALI   \n\n                                             TITULAR  \\\n0                              CARLOS GISBERT ARQUES   \n1                              FRANCISCO AYUSO MACIA   \n2                           INMACULADA FERRERO PEREZ   \n3                            JAVIER VILLAMAYOR PIÑAS   \n4                           ISABEL BALSAMEDA MORALES   \n5  MARIA JOSE BALMASEDA DEL ALAMO, ARTURO CORBACH...   \n6                        MARIA DEL MAR GARCIA MOLINA   \n7                           FRANCISCO GARCIA CANOVAS   \n8                           ENCARNACION MOLL MENGUAL   \n9                             RAQUEL FERRER GONZALEZ   \n\n                             DIRECCIÓN  DEPARTAMENTO DE SALUD  ZONA ZBS  \\\n0           PLAZA DE ESPAÑA, 19, 03698                     19         8   \n1     AVDA Virgen de la Paz, 30, 03698                     19         8   \n2         CALLE San Antonio, 13, 03837                     15         9   \n3           CALLE CANALEJAS, 12, 03569                     17         6   \n4        CALLE Ramon y Cajal, 6, 03340                     21         1   \n5  CTRA HONDON. EDIF.ROMEO, S/N, 03340                     21         1   \n6             AVDA Calvario, 39, 03340                     21         1   \n7               CALLE Meson, 45, 03340                     21         1   \n8                  C Calvari, 7, 03728                     13         1   \n9           CALLE SALAMANCA, 19, 03723                     13         8   \n\n   ZONA FARMACÉUTICA  \n0                 25  \n1                 25  \n2                 15  \n3                 22  \n4                 35  \n5                 35  \n6                 35  \n7                 35  \n8                  1  \n9                  1  "
     },
     "execution_count": 3,
     "metadata": {},
     "output_type": "execute_result"
    }
   ],
   "source": [
    "# Download a file and convert it into a dataframe.\n",
    "df_raw = pd.read_csv(DATA_RAW)\n",
    "\n",
    "df_raw.head(10)\n"
   ]
  },
  {
   "cell_type": "markdown",
   "execution_count": null,
   "metadata": {},
   "outputs": [],
   "source": [
    "## Data conversion\n",
    "\n",
    "Run the cell below to convert raw data into a suitable OSM-friendly structure, according to the provided CSV fields with fields' mappings stated in `CSV_PARSER` variable."
   ]
  },
  {
   "cell_type": "code",
   "execution_count": 4,
   "metadata": {},
   "outputs": [
    {
     "data": {
      "text/html": "<div>\n<style scoped>\n    .dataframe tbody tr th:only-of-type {\n        vertical-align: middle;\n    }\n\n    .dataframe tbody tr th {\n        vertical-align: top;\n    }\n\n    .dataframe thead th {\n        text-align: right;\n    }\n</style>\n<table border=\"1\" class=\"dataframe\">\n  <thead>\n    <tr style=\"text-align: right;\">\n      <th></th>\n      <th>source:pkey</th>\n      <th>addr:province</th>\n      <th>addr:city</th>\n      <th>name</th>\n      <th>addr:full</th>\n      <th>source</th>\n      <th>amenity</th>\n    </tr>\n  </thead>\n  <tbody>\n    <tr>\n      <th>0</th>\n      <td>A-164-F</td>\n      <td>ALICANTE</td>\n      <td>AGOST</td>\n      <td>Carlos Gisbert Arques</td>\n      <td>PLAZA DE ESPAÑA, 19, 03698</td>\n      <td>Opendata Generalitat Valenciana</td>\n      <td>pharmacy</td>\n    </tr>\n    <tr>\n      <th>1</th>\n      <td>A-285-F</td>\n      <td>ALICANTE</td>\n      <td>AGOST</td>\n      <td>Francisco Ayuso Macia</td>\n      <td>AVDA Virgen de la Paz, 30, 03698</td>\n      <td>Opendata Generalitat Valenciana</td>\n      <td>pharmacy</td>\n    </tr>\n    <tr>\n      <th>2</th>\n      <td>A-510-F</td>\n      <td>ALICANTE</td>\n      <td>AGRES</td>\n      <td>Inmaculada Ferrero Perez</td>\n      <td>CALLE San Antonio, 13, 03837</td>\n      <td>Opendata Generalitat Valenciana</td>\n      <td>pharmacy</td>\n    </tr>\n    <tr>\n      <th>3</th>\n      <td>A-540-F</td>\n      <td>ALICANTE</td>\n      <td>AIGUES</td>\n      <td>Javier Villamayor Piñas</td>\n      <td>CALLE CANALEJAS, 12, 03569</td>\n      <td>Opendata Generalitat Valenciana</td>\n      <td>pharmacy</td>\n    </tr>\n    <tr>\n      <th>4</th>\n      <td>A-13-F</td>\n      <td>ALICANTE</td>\n      <td>ALBATERA</td>\n      <td>Isabel Balsameda Morales</td>\n      <td>CALLE Ramon y Cajal, 6, 03340</td>\n      <td>Opendata Generalitat Valenciana</td>\n      <td>pharmacy</td>\n    </tr>\n    <tr>\n      <th>5</th>\n      <td>A-14-F</td>\n      <td>ALICANTE</td>\n      <td>ALBATERA</td>\n      <td>Maria Jose Balmaseda Del Alamo, Arturo Corbach...</td>\n      <td>CTRA HONDON. EDIF.ROMEO, S/N, 03340</td>\n      <td>Opendata Generalitat Valenciana</td>\n      <td>pharmacy</td>\n    </tr>\n    <tr>\n      <th>6</th>\n      <td>A-580-F</td>\n      <td>ALICANTE</td>\n      <td>ALBATERA</td>\n      <td>Maria Del Mar Garcia Molina</td>\n      <td>AVDA Calvario, 39, 03340</td>\n      <td>Opendata Generalitat Valenciana</td>\n      <td>pharmacy</td>\n    </tr>\n    <tr>\n      <th>7</th>\n      <td>A-814-F</td>\n      <td>ALICANTE</td>\n      <td>ALBATERA</td>\n      <td>Francisco Garcia Canovas</td>\n      <td>CALLE Meson, 45, 03340</td>\n      <td>Opendata Generalitat Valenciana</td>\n      <td>pharmacy</td>\n    </tr>\n    <tr>\n      <th>8</th>\n      <td>A-531-F</td>\n      <td>ALICANTE</td>\n      <td>ALCALALI</td>\n      <td>Encarnacion Moll Mengual</td>\n      <td>C Calvari, 7, 03728</td>\n      <td>Opendata Generalitat Valenciana</td>\n      <td>pharmacy</td>\n    </tr>\n    <tr>\n      <th>9</th>\n      <td>A-748-F</td>\n      <td>ALICANTE</td>\n      <td>ALCALALI</td>\n      <td>Raquel Ferrer Gonzalez</td>\n      <td>CALLE SALAMANCA, 19, 03723</td>\n      <td>Opendata Generalitat Valenciana</td>\n      <td>pharmacy</td>\n    </tr>\n  </tbody>\n</table>\n</div>",
      "text/plain": "  source:pkey addr:province addr:city  \\\n0     A-164-F      ALICANTE     AGOST   \n1     A-285-F      ALICANTE     AGOST   \n2     A-510-F      ALICANTE     AGRES   \n3     A-540-F      ALICANTE    AIGUES   \n4      A-13-F      ALICANTE  ALBATERA   \n5      A-14-F      ALICANTE  ALBATERA   \n6     A-580-F      ALICANTE  ALBATERA   \n7     A-814-F      ALICANTE  ALBATERA   \n8     A-531-F      ALICANTE  ALCALALI   \n9     A-748-F      ALICANTE  ALCALALI   \n\n                                                name  \\\n0                              Carlos Gisbert Arques   \n1                              Francisco Ayuso Macia   \n2                           Inmaculada Ferrero Perez   \n3                            Javier Villamayor Piñas   \n4                           Isabel Balsameda Morales   \n5  Maria Jose Balmaseda Del Alamo, Arturo Corbach...   \n6                        Maria Del Mar Garcia Molina   \n7                           Francisco Garcia Canovas   \n8                           Encarnacion Moll Mengual   \n9                             Raquel Ferrer Gonzalez   \n\n                             addr:full                           source  \\\n0           PLAZA DE ESPAÑA, 19, 03698  Opendata Generalitat Valenciana   \n1     AVDA Virgen de la Paz, 30, 03698  Opendata Generalitat Valenciana   \n2         CALLE San Antonio, 13, 03837  Opendata Generalitat Valenciana   \n3           CALLE CANALEJAS, 12, 03569  Opendata Generalitat Valenciana   \n4        CALLE Ramon y Cajal, 6, 03340  Opendata Generalitat Valenciana   \n5  CTRA HONDON. EDIF.ROMEO, S/N, 03340  Opendata Generalitat Valenciana   \n6             AVDA Calvario, 39, 03340  Opendata Generalitat Valenciana   \n7               CALLE Meson, 45, 03340  Opendata Generalitat Valenciana   \n8                  C Calvari, 7, 03728  Opendata Generalitat Valenciana   \n9           CALLE SALAMANCA, 19, 03723  Opendata Generalitat Valenciana   \n\n    amenity  \n0  pharmacy  \n1  pharmacy  \n2  pharmacy  \n3  pharmacy  \n4  pharmacy  \n5  pharmacy  \n6  pharmacy  \n7  pharmacy  \n8  pharmacy  \n9  pharmacy  "
     },
     "execution_count": 4,
     "metadata": {},
     "output_type": "execute_result"
    }
   ],
   "source": [
    "# Selects and renames fields according to CSV parser.\n",
    "df = osmi_dg.csv_parser(df_raw, CSV_PARSER)\n",
    "\n",
    "# Calculate some fields.\n",
    "df['name'] = df['name'].str.title()\n",
    "\n",
    "\n",
    "# Create a source column with \"Opendata Generalitat Valenciana\"\n",
    "df['source'] = \"Opendata Generalitat Valenciana\"\n",
    "df['amenity'] = 'pharmacy'\n",
    "\n",
    "\n",
    "df.head(10)"
   ]
  },
  {
   "cell_type": "markdown",
   "execution_count": null,
   "metadata": {},
   "outputs": [],
   "source": [
    "## Geocode dataframe"
   ]
  },
  {
   "cell_type": "code",
   "execution_count": 6,
   "metadata": {},
   "outputs": [
    {
     "data": {
      "text/html": "<div>\n<style scoped>\n    .dataframe tbody tr th:only-of-type {\n        vertical-align: middle;\n    }\n\n    .dataframe tbody tr th {\n        vertical-align: top;\n    }\n\n    .dataframe thead th {\n        text-align: right;\n    }\n</style>\n<table border=\"1\" class=\"dataframe\">\n  <thead>\n    <tr style=\"text-align: right;\">\n      <th></th>\n      <th>source:pkey</th>\n      <th>addr:province</th>\n      <th>addr:city</th>\n      <th>name</th>\n      <th>addr:full</th>\n      <th>source</th>\n      <th>amenity</th>\n      <th>addr_full</th>\n      <th>gcode</th>\n      <th>lat</th>\n      <th>lon</th>\n    </tr>\n  </thead>\n  <tbody>\n    <tr>\n      <th>2</th>\n      <td>A-510-F</td>\n      <td>ALICANTE</td>\n      <td>AGRES</td>\n      <td>Inmaculada Ferrero Perez</td>\n      <td>CALLE San Antonio, 13, 03837</td>\n      <td>Opendata Generalitat Valenciana</td>\n      <td>pharmacy</td>\n      <td>CALLE San Antonio, 13, 03837,AGRES</td>\n      <td>(Farmacia Lda Inmaculada Ferrero, 13, Carrer S...</td>\n      <td>38.780493</td>\n      <td>-0.516679</td>\n    </tr>\n    <tr>\n      <th>4</th>\n      <td>A-13-F</td>\n      <td>ALICANTE</td>\n      <td>ALBATERA</td>\n      <td>Isabel Balsameda Morales</td>\n      <td>CALLE Ramon y Cajal, 6, 03340</td>\n      <td>Opendata Generalitat Valenciana</td>\n      <td>pharmacy</td>\n      <td>CALLE Ramon y Cajal, 6, 03340,ALBATERA</td>\n      <td>(6, Calle Ramón y Cajal, Albatera, el Baix Seg...</td>\n      <td>38.178251</td>\n      <td>-0.869586</td>\n    </tr>\n  </tbody>\n</table>\n</div>",
      "text/plain": "  source:pkey addr:province addr:city                      name  \\\n2     A-510-F      ALICANTE     AGRES  Inmaculada Ferrero Perez   \n4      A-13-F      ALICANTE  ALBATERA  Isabel Balsameda Morales   \n\n                       addr:full                           source   amenity  \\\n2   CALLE San Antonio, 13, 03837  Opendata Generalitat Valenciana  pharmacy   \n4  CALLE Ramon y Cajal, 6, 03340  Opendata Generalitat Valenciana  pharmacy   \n\n                                addr_full  \\\n2      CALLE San Antonio, 13, 03837,AGRES   \n4  CALLE Ramon y Cajal, 6, 03340,ALBATERA   \n\n                                               gcode        lat       lon  \n2  (Farmacia Lda Inmaculada Ferrero, 13, Carrer S...  38.780493 -0.516679  \n4  (6, Calle Ramón y Cajal, Albatera, el Baix Seg...  38.178251 -0.869586  "
     },
     "execution_count": 6,
     "metadata": {},
     "output_type": "execute_result"
    }
   ],
   "source": [
    "# Geocode\n",
    "from geopy.geocoders import Nominatim\n",
    "geolocator = Nominatim(timeout=10, user_agent = \"myGeolocator\")\n",
    "\n",
    "df = df.iloc[0:5, :]\n",
    "df['addr_full'] = df['addr:full'] + ',' + df['addr:city']\n",
    "df['gcode'] = df.addr_full.apply(geolocator.geocode)\n",
    "\n",
    "# Store rows that have not been geolocated.\n",
    "df_not_found = df[df['gcode'].isnull()]\n",
    "\n",
    "df_not_found\n",
    "\n",
    "\n",
    "# Proceed with geolocated values only.\n",
    "df_loc = df[df['gcode'].notna()]\n",
    "\n",
    "# Generate a `lat` and `lon` columns with latitude and longitude values.\n",
    "df_loc['lat'] = [g.latitude for g in df_loc.gcode]\n",
    "df_loc['lon'] = [g.longitude for g in df_loc.gcode]\n",
    "\n",
    "df_loc\n",
    "\n",
    "#df.gcode.notnull()\n",
    "\n",
    "# Geocode addresses with Nominatim backend\n",
    "#geo = gpd.tools.geocode(df1['addr:full'], provider='photon', user_agent=\"my-application\")\n",
    "\n",
    "#geo\n"
   ]
  },
  {
   "cell_type": "markdown",
   "execution_count": null,
   "metadata": {},
   "outputs": [],
   "source": [
    "Now display all the rows that haven't been geolocated."
   ]
  },
  {
   "cell_type": "code",
   "execution_count": 8,
   "metadata": {},
   "outputs": [
    {
     "data": {
      "text/html": "<div>\n<style scoped>\n    .dataframe tbody tr th:only-of-type {\n        vertical-align: middle;\n    }\n\n    .dataframe tbody tr th {\n        vertical-align: top;\n    }\n\n    .dataframe thead th {\n        text-align: right;\n    }\n</style>\n<table border=\"1\" class=\"dataframe\">\n  <thead>\n    <tr style=\"text-align: right;\">\n      <th></th>\n      <th>source:pkey</th>\n      <th>addr:province</th>\n      <th>addr:city</th>\n      <th>name</th>\n      <th>addr:full</th>\n      <th>source</th>\n      <th>amenity</th>\n      <th>addr_full</th>\n      <th>gcode</th>\n    </tr>\n  </thead>\n  <tbody>\n    <tr>\n      <th>1</th>\n      <td>A-285-F</td>\n      <td>ALICANTE</td>\n      <td>AGOST</td>\n      <td>Francisco Ayuso Macia</td>\n      <td>AVDA Virgen de la Paz, 30, 03698</td>\n      <td>Opendata Generalitat Valenciana</td>\n      <td>pharmacy</td>\n      <td>AVDA Virgen de la Paz, 30, 03698,AGOST</td>\n      <td>None</td>\n    </tr>\n    <tr>\n      <th>2</th>\n      <td>A-510-F</td>\n      <td>ALICANTE</td>\n      <td>AGRES</td>\n      <td>Inmaculada Ferrero Perez</td>\n      <td>CALLE San Antonio, 13, 03837</td>\n      <td>Opendata Generalitat Valenciana</td>\n      <td>pharmacy</td>\n      <td>CALLE San Antonio, 13, 03837,AGRES</td>\n      <td>None</td>\n    </tr>\n    <tr>\n      <th>3</th>\n      <td>A-540-F</td>\n      <td>ALICANTE</td>\n      <td>AIGUES</td>\n      <td>Javier Villamayor Piñas</td>\n      <td>CALLE CANALEJAS, 12, 03569</td>\n      <td>Opendata Generalitat Valenciana</td>\n      <td>pharmacy</td>\n      <td>CALLE CANALEJAS, 12, 03569,AIGUES</td>\n      <td>None</td>\n    </tr>\n  </tbody>\n</table>\n</div>",
      "text/plain": "  source:pkey addr:province addr:city                      name  \\\n1     A-285-F      ALICANTE     AGOST     Francisco Ayuso Macia   \n2     A-510-F      ALICANTE     AGRES  Inmaculada Ferrero Perez   \n3     A-540-F      ALICANTE    AIGUES   Javier Villamayor Piñas   \n\n                          addr:full                           source  \\\n1  AVDA Virgen de la Paz, 30, 03698  Opendata Generalitat Valenciana   \n2      CALLE San Antonio, 13, 03837  Opendata Generalitat Valenciana   \n3        CALLE CANALEJAS, 12, 03569  Opendata Generalitat Valenciana   \n\n    amenity                               addr_full gcode  \n1  pharmacy  AVDA Virgen de la Paz, 30, 03698,AGOST  None  \n2  pharmacy      CALLE San Antonio, 13, 03837,AGRES  None  \n3  pharmacy       CALLE CANALEJAS, 12, 03569,AIGUES  None  "
     },
     "execution_count": 8,
     "metadata": {},
     "output_type": "execute_result"
    }
   ],
   "source": [
    "df_not_found"
   ]
  },
  {
   "cell_type": "markdown",
   "execution_count": null,
   "metadata": {},
   "outputs": [],
   "source": [
    "## Export clean data\n",
    "\n",
    "If the attributes above are correct, we have to proceed to export them into a `CSV` and `geojson` files that can be used in the Task Manager's project."
   ]
  },
  {
   "cell_type": "code",
   "execution_count": 15,
   "metadata": {},
   "outputs": [],
   "source": [
    "df_loc.to_csv('data/processed/pharmacies_cval.csv', index = False)"
   ]
  },
  {
   "cell_type": "code",
   "execution_count": 13,
   "metadata": {},
   "outputs": [
    {
     "ename": "AttributeError",
     "evalue": "'DataFrame' object has no attribute 'to_file'",
     "output_type": "error",
     "traceback": [
      "\u001b[0;31m---------------------------------------------------------------------------\u001b[0m",
      "\u001b[0;31mAttributeError\u001b[0m                            Traceback (most recent call last)",
      "\u001b[0;32m<ipython-input-13-162f4cbbc725>\u001b[0m in \u001b[0;36m<module>\u001b[0;34m\u001b[0m\n\u001b[1;32m      7\u001b[0m \u001b[0mgdf\u001b[0m\u001b[0;34m\u001b[0m\u001b[0;34m\u001b[0m\u001b[0m\n\u001b[1;32m      8\u001b[0m \u001b[0;31m# Export to geojson.\u001b[0m\u001b[0;34m\u001b[0m\u001b[0;34m\u001b[0m\u001b[0;34m\u001b[0m\u001b[0m\n\u001b[0;32m----> 9\u001b[0;31m \u001b[0mdf_loc\u001b[0m\u001b[0;34m.\u001b[0m\u001b[0mto_file\u001b[0m\u001b[0;34m(\u001b[0m\u001b[0;34m'data/processed/pharmacies_cval.geojson'\u001b[0m\u001b[0;34m,\u001b[0m \u001b[0mdriver\u001b[0m\u001b[0;34m=\u001b[0m\u001b[0;34m'GeoJSON'\u001b[0m\u001b[0;34m)\u001b[0m\u001b[0;34m\u001b[0m\u001b[0;34m\u001b[0m\u001b[0m\n\u001b[0m",
      "\u001b[0;32m~/anaconda3/envs/osm_imports_preparations/lib/python3.7/site-packages/pandas/core/generic.py\u001b[0m in \u001b[0;36m__getattr__\u001b[0;34m(self, name)\u001b[0m\n\u001b[1;32m   5272\u001b[0m             \u001b[0;32mif\u001b[0m \u001b[0mself\u001b[0m\u001b[0;34m.\u001b[0m\u001b[0m_info_axis\u001b[0m\u001b[0;34m.\u001b[0m\u001b[0m_can_hold_identifiers_and_holds_name\u001b[0m\u001b[0;34m(\u001b[0m\u001b[0mname\u001b[0m\u001b[0;34m)\u001b[0m\u001b[0;34m:\u001b[0m\u001b[0;34m\u001b[0m\u001b[0;34m\u001b[0m\u001b[0m\n\u001b[1;32m   5273\u001b[0m                 \u001b[0;32mreturn\u001b[0m \u001b[0mself\u001b[0m\u001b[0;34m[\u001b[0m\u001b[0mname\u001b[0m\u001b[0;34m]\u001b[0m\u001b[0;34m\u001b[0m\u001b[0;34m\u001b[0m\u001b[0m\n\u001b[0;32m-> 5274\u001b[0;31m             \u001b[0;32mreturn\u001b[0m \u001b[0mobject\u001b[0m\u001b[0;34m.\u001b[0m\u001b[0m__getattribute__\u001b[0m\u001b[0;34m(\u001b[0m\u001b[0mself\u001b[0m\u001b[0;34m,\u001b[0m \u001b[0mname\u001b[0m\u001b[0;34m)\u001b[0m\u001b[0;34m\u001b[0m\u001b[0;34m\u001b[0m\u001b[0m\n\u001b[0m\u001b[1;32m   5275\u001b[0m \u001b[0;34m\u001b[0m\u001b[0m\n\u001b[1;32m   5276\u001b[0m     \u001b[0;32mdef\u001b[0m \u001b[0m__setattr__\u001b[0m\u001b[0;34m(\u001b[0m\u001b[0mself\u001b[0m\u001b[0;34m,\u001b[0m \u001b[0mname\u001b[0m\u001b[0;34m:\u001b[0m \u001b[0mstr\u001b[0m\u001b[0;34m,\u001b[0m \u001b[0mvalue\u001b[0m\u001b[0;34m)\u001b[0m \u001b[0;34m->\u001b[0m \u001b[0;32mNone\u001b[0m\u001b[0;34m:\u001b[0m\u001b[0;34m\u001b[0m\u001b[0;34m\u001b[0m\u001b[0m\n",
      "\u001b[0;31mAttributeError\u001b[0m: 'DataFrame' object has no attribute 'to_file'"
     ]
    }
   ],
   "source": [
    "# Convert dataframe into a GeoDataframe.\n",
    "gdf = gpd.GeoDataFrame(\n",
    "    df_loc,\n",
    "    geometry=gpd.points_from_xy(df_loc.lon, df_loc.lat))\n",
    "\n",
    "\n",
    "gdf\n",
    "# Export to geojson.\n",
    "df_loc.to_file('data/processed/pharmacies_cval.geojson', driver='GeoJSON')"
   ]
  },
  {
   "cell_type": "markdown",
   "execution_count": null,
   "metadata": {},
   "outputs": [],
   "source": [
    "The resulting geojson file can be found in the folder [`/data/processed/bcn_trees.geojson`](https://github.com/mapcolabora/osm_imports_preparations/blob/master/imports/bcn_trees/data/processed/bcn_trees.geojson) in this repo.\n",
    "\n",
    "**TODOs:**\n",
    "\n",
    "* Drop latitude and longitude fields from GeoJson, [Issue #19](https://github.com/mapcolabora/osm_imports_preparations/issues/19) (help appreciated!)\n",
    "* Generate a working geojson (otherwise, a CSV can be generated)\n"
   ]
  }
 ],
 "metadata": {
  "file_extension": ".py",
  "kernelspec": {
   "display_name": "Python 3.7.6 64-bit",
   "language": "python",
   "name": "python37664bit7f704ecc68c44d00b27dbad0272d105c"
  },
  "language_info": {
   "codemirror_mode": {
    "name": "ipython",
    "version": 3
   },
   "file_extension": ".py",
   "mimetype": "text/x-python",
   "name": "python",
   "nbconvert_exporter": "python",
   "pygments_lexer": "ipython3",
   "version": "3.7.6-final"
  },
  "mimetype": "text/x-python",
  "name": "python",
  "npconvert_exporter": "python",
  "pycharm": {
   "stem_cell": {
    "cell_type": "raw",
    "metadata": {
     "collapsed": false
    },
    "source": []
   }
  },
  "pygments_lexer": "ipython3",
  "version": 3
 },
 "nbformat": 4,
 "nbformat_minor": 4
}