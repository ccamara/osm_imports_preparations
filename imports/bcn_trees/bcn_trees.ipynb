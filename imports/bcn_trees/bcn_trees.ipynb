{
 "cells": [
  {
   "cell_type": "markdown",
   "execution_count": null,
   "metadata": {},
   "outputs": [],
   "source": [
    "# Barcelona Trees' import\n",
    "\n",
    "This jupyter notebook contains the script for importing Barcelona's Trees into OSM as well as the documentation of the whole process in a single file, making it easier to review both the process and the results as well as the decisions taken.\n",
    "\n",
    "The goal is to manually merge and import all the trees' information provided by Barcelona City Council, while testing the scripts for data preparation.\n",
    "\n",
    "## Data Sources\n",
    "\n",
    "Two datasets provided by Barcelona City Council will be used:\n",
    "\n",
    "* [Arbrat viari](https://opendata-ajuntament.barcelona.cat/data/ca/dataset/arbrat-viari): Name of the species and geolocation of the trees of the city of Barcelona located on public roads. The information contains, among other data, the scientific name, the common name, the height, the direction and the width of the sidewalk... The trees of the parks are not included. The coordinates are expressed in the ETRS89 reference system. This dataset complemens of Zone trees of the city of Barcelona. Historical resources which contain data available until the last week of the term are published. The resources are ordered by year and term, information that can be found in the name of the resource.\n",
    "* [Arbrat zona](https://opendata-ajuntament.barcelona.cat/data/ca/dataset/arbrat-zona): Name of the species and geolocation of the trees of the city of Barcelona located on public roads. The information contains, among other data, the scientific name, the common name, the height, the direction and the width of the sidewalk... The trees of the parks are not included. The coordinates are expressed in the ETRS89 reference system. This dataset complemens of Street trees of the city of Barcelona. Historical resources which contain data available until the last week of the term are published. The resources are ordered by year and term, information that can be found in the name of the resource.\n",
    "\n",
    "## License\n",
    "\n",
    "We have an express authorization from the Barcelona city council for the reuse of open data published on theirs open Government website\n",
    "\n",
    "![](https://wiki.openstreetmap.org/w/images/thumb/9/9a/201801107_AcordOSM_AjuntamentBarcelona_Def.pdf/page1-1240px-201801107_AcordOSM_AjuntamentBarcelona_Def.pdf.jpg)\n",
    "\n",
    "## Import type\n",
    "\n",
    "This import will be done manually, using JOSM to edit the data. Consider using Task Manager.\n",
    "\n",
    "## Data preparations\n",
    "\n",
    "All data preparations will be made automatically in this notebook.\n",
    "\n"
   ]
  },
  {
   "cell_type": "code",
   "execution_count": 1,
   "metadata": {},
   "outputs": [],
   "source": [
    "import pandas as pd\n",
    "import geopandas as gpd\n",
    "from osmi_helpers import data_gathering as osmi_dg\n",
    "\n",
    "# Define Data Sources\n",
    "\n",
    "ARBRAT_VIARI_URL = \"https://opendata-ajuntament.barcelona.cat/data/dataset/27b3f8a7-e536-4eea-b025-ce094817b2bd/resource/28034af4-b636-48e7-b3df-fa1c422e6287/download\"\n",
    "ARBRAT_ZONA_URL = \"https://opendata-ajuntament.barcelona.cat/data/dataset/9b525e1d-13b8-48f1-abf6-f5cd03baa1dd/resource/8f2402dd-72dc-4b07-8145-e3f75004b0de/download\"\n",
    "\n",
    "CSV_PARSER = 'fields_mapping.csv'"
   ]
  },
  {
   "cell_type": "markdown",
   "metadata": {},
   "source": [
    "### Fields' mapping."
   ]
  },
  {
   "cell_type": "code",
   "execution_count": 2,
   "metadata": {},
   "outputs": [
    {
     "data": {
      "text/html": "<div>\n<style scoped>\n    .dataframe tbody tr th:only-of-type {\n        vertical-align: middle;\n    }\n\n    .dataframe tbody tr th {\n        vertical-align: top;\n    }\n\n    .dataframe thead th {\n        text-align: right;\n    }\n</style>\n<table border=\"1\" class=\"dataframe\">\n  <thead>\n    <tr style=\"text-align: right;\">\n      <th></th>\n      <th>Original field</th>\n      <th>Description</th>\n      <th>OSM tagging</th>\n      <th>Comments</th>\n    </tr>\n  </thead>\n  <tbody>\n    <tr>\n      <th>0</th>\n      <td>CODI</td>\n      <td>Internal ID</td>\n      <td>source:pkey</td>\n      <td>Primary Key, tagging as proposed in Osmsync's ...</td>\n    </tr>\n    <tr>\n      <th>1</th>\n      <td>X_ETRS89</td>\n      <td>X coordinates, ETRS89 format</td>\n      <td>NaN</td>\n      <td>Not imported</td>\n    </tr>\n    <tr>\n      <th>2</th>\n      <td>Y_ETRS89</td>\n      <td>Y coordinates, ETRS89 format</td>\n      <td>NaN</td>\n      <td>Not imported</td>\n    </tr>\n    <tr>\n      <th>3</th>\n      <td>LATITUD_WGS84</td>\n      <td>Latitude coordinates, WGS84 format</td>\n      <td>lat</td>\n      <td>Geometry information. No tagging will be used.</td>\n    </tr>\n    <tr>\n      <th>4</th>\n      <td>LONGITUD_WGS84</td>\n      <td>Longitude coordinates, WGS84 format</td>\n      <td>lon</td>\n      <td>Geometry information. No tagging will be used.</td>\n    </tr>\n    <tr>\n      <th>5</th>\n      <td>TIPUS_ELEMENT</td>\n      <td>Object's type (viari/zona)</td>\n      <td>NaN</td>\n      <td>Not imported</td>\n    </tr>\n    <tr>\n      <th>6</th>\n      <td>ESPAI VERD</td>\n      <td>Name of Green space where the tree is located</td>\n      <td>NaN</td>\n      <td>Not imported</td>\n    </tr>\n    <tr>\n      <th>7</th>\n      <td>ADRECA</td>\n      <td>Address</td>\n      <td>NaN</td>\n      <td>Not imported</td>\n    </tr>\n    <tr>\n      <th>8</th>\n      <td>ALCADA</td>\n      <td>Tree's height. It does not use meters, but cat...</td>\n      <td>height</td>\n      <td>height is calculated according to this field, ...</td>\n    </tr>\n    <tr>\n      <th>9</th>\n      <td>CAT_ESPECIE_ID</td>\n      <td>Species' ID</td>\n      <td>NaN</td>\n      <td>Not imported</td>\n    </tr>\n    <tr>\n      <th>10</th>\n      <td>NOM_CIENTIFIC</td>\n      <td>scientific name of the species (popularly know...</td>\n      <td>species</td>\n      <td>NaN</td>\n    </tr>\n    <tr>\n      <th>11</th>\n      <td>NOM_CASTELLA</td>\n      <td>Name in Spanish</td>\n      <td>species:es</td>\n      <td>NaN</td>\n    </tr>\n    <tr>\n      <th>12</th>\n      <td>NOM_CATALA</td>\n      <td>Name in Catalan</td>\n      <td>species:ca</td>\n      <td>NaN</td>\n    </tr>\n    <tr>\n      <th>13</th>\n      <td>CATEGORIA_ARBRAT</td>\n      <td>Tree's category. Internal classification accor...</td>\n      <td>circumference</td>\n      <td>Not directly imported, but used to calculate c...</td>\n    </tr>\n    <tr>\n      <th>14</th>\n      <td>AMPLADA_VORERA</td>\n      <td>Sidewalk's width</td>\n      <td>NaN</td>\n      <td>Not imported.</td>\n    </tr>\n    <tr>\n      <th>15</th>\n      <td>DATA_PLANTACIO</td>\n      <td>Date in which the tree was planted</td>\n      <td>planted_date</td>\n      <td>NaN</td>\n    </tr>\n    <tr>\n      <th>16</th>\n      <td>TIPUS_AIGUA</td>\n      <td>Water type</td>\n      <td>NaN</td>\n      <td>Not imported.</td>\n    </tr>\n    <tr>\n      <th>17</th>\n      <td>TIPUS_REG</td>\n      <td>Watering mechanism</td>\n      <td>NaN</td>\n      <td>Not imported.</td>\n    </tr>\n    <tr>\n      <th>18</th>\n      <td>TIPUS_SUPERFICIE</td>\n      <td>Surface type</td>\n      <td>NaN</td>\n      <td>Not imported.</td>\n    </tr>\n    <tr>\n      <th>19</th>\n      <td>TIPUS_SUPORT</td>\n      <td>Support type</td>\n      <td>NaN</td>\n      <td>Not imported.</td>\n    </tr>\n    <tr>\n      <th>20</th>\n      <td>COBERTURA_ESCOCELL</td>\n      <td>Whether the Tree pit is covered or not</td>\n      <td>NaN</td>\n      <td>Not currently imported due to lack of specific...</td>\n    </tr>\n    <tr>\n      <th>21</th>\n      <td>MIDA_ESCOCELL</td>\n      <td>Tree pit Size</td>\n      <td>NaN</td>\n      <td>Not currently imported due to lack of specific...</td>\n    </tr>\n  </tbody>\n</table>\n</div>",
      "text/plain": "        Original field                                        Description  \\\n0                 CODI                                        Internal ID   \n1             X_ETRS89                       X coordinates, ETRS89 format   \n2             Y_ETRS89                       Y coordinates, ETRS89 format   \n3        LATITUD_WGS84                 Latitude coordinates, WGS84 format   \n4       LONGITUD_WGS84                Longitude coordinates, WGS84 format   \n5        TIPUS_ELEMENT                         Object's type (viari/zona)   \n6           ESPAI VERD      Name of Green space where the tree is located   \n7               ADRECA                                            Address   \n8               ALCADA  Tree's height. It does not use meters, but cat...   \n9       CAT_ESPECIE_ID                                        Species' ID   \n10       NOM_CIENTIFIC  scientific name of the species (popularly know...   \n11        NOM_CASTELLA                                    Name in Spanish   \n12          NOM_CATALA                                    Name in Catalan   \n13    CATEGORIA_ARBRAT  Tree's category. Internal classification accor...   \n14      AMPLADA_VORERA                                   Sidewalk's width   \n15      DATA_PLANTACIO                 Date in which the tree was planted   \n16         TIPUS_AIGUA                                         Water type   \n17           TIPUS_REG                                 Watering mechanism   \n18    TIPUS_SUPERFICIE                                       Surface type   \n19        TIPUS_SUPORT                                       Support type   \n20  COBERTURA_ESCOCELL             Whether the Tree pit is covered or not   \n21       MIDA_ESCOCELL                                      Tree pit Size   \n\n      OSM tagging                                           Comments  \n0     source:pkey  Primary Key, tagging as proposed in Osmsync's ...  \n1             NaN                                       Not imported  \n2             NaN                                       Not imported  \n3             lat     Geometry information. No tagging will be used.  \n4             lon     Geometry information. No tagging will be used.  \n5             NaN                                       Not imported  \n6             NaN                                       Not imported  \n7             NaN                                       Not imported  \n8          height  height is calculated according to this field, ...  \n9             NaN                                       Not imported  \n10        species                                                NaN  \n11     species:es                                                NaN  \n12     species:ca                                                NaN  \n13  circumference  Not directly imported, but used to calculate c...  \n14            NaN                                      Not imported.  \n15   planted_date                                                NaN  \n16            NaN                                      Not imported.  \n17            NaN                                      Not imported.  \n18            NaN                                      Not imported.  \n19            NaN                                      Not imported.  \n20            NaN  Not currently imported due to lack of specific...  \n21            NaN  Not currently imported due to lack of specific...  "
     },
     "execution_count": 2,
     "metadata": {},
     "output_type": "execute_result"
    }
   ],
   "source": [
    "# Read CSV file with fields' mapping and description.\n",
    "fields_mapping = pd.read_csv(CSV_PARSER)\n",
    "\n",
    "# Display table.\n",
    "fields_mapping\n",
    "\n"
   ]
  },
  {
   "cell_type": "markdown",
   "execution_count": null,
   "metadata": {},
   "outputs": [],
   "source": [
    "## Data gathering\n",
    "\n",
    "Run the code below to download original datasources and convert them into a dataframe."
   ]
  },
  {
   "cell_type": "code",
   "execution_count": 3,
   "metadata": {},
   "outputs": [
    {
     "data": {
      "text/html": "<div>\n<style scoped>\n    .dataframe tbody tr th:only-of-type {\n        vertical-align: middle;\n    }\n\n    .dataframe tbody tr th {\n        vertical-align: top;\n    }\n\n    .dataframe thead th {\n        text-align: right;\n    }\n</style>\n<table border=\"1\" class=\"dataframe\">\n  <thead>\n    <tr style=\"text-align: right;\">\n      <th></th>\n      <th>CODI</th>\n      <th>X_ETRS89</th>\n      <th>Y_ETRS89</th>\n      <th>LATITUD_WGS84</th>\n      <th>LONGITUD_WGS84</th>\n      <th>TIPUS_ELEMENT</th>\n      <th>ESPAI_VERD</th>\n      <th>ADRECA</th>\n      <th>ALCADA</th>\n      <th>CAT_ESPECIE_ID</th>\n      <th>...</th>\n      <th>CATEGORIA_ARBRAT</th>\n      <th>AMPLADA_VORERA</th>\n      <th>DATA_PLANTACIO</th>\n      <th>TIPUS_AIGUA</th>\n      <th>TIPUS_REG</th>\n      <th>TIPUS_SUPERFICIE</th>\n      <th>TIPUS_SUPORT</th>\n      <th>COBERTURA_ESCOCELL</th>\n      <th>MIDA_ESCOCELL</th>\n      <th>VORA_ESCOCELL</th>\n    </tr>\n  </thead>\n  <tbody>\n    <tr>\n      <th>0</th>\n      <td>0000022AR</td>\n      <td>430319.118</td>\n      <td>4587765.810</td>\n      <td>41.438442</td>\n      <td>2.165919</td>\n      <td>ARBRE VIARI</td>\n      <td>Can Ensenya, C.V. (Fabra i Puig 439, Villalba ...</td>\n      <td>Pg Fabra i Puig, 468</td>\n      <td>NaN</td>\n      <td>1104</td>\n      <td>...</td>\n      <td>NaN</td>\n      <td>NaN</td>\n      <td>NaN</td>\n      <td>NaN</td>\n      <td>MÀNEGA</td>\n      <td>GESPA</td>\n      <td>PARTERRE</td>\n      <td>SENSE COBERTURA</td>\n      <td>major que o igual a  100 cm</td>\n      <td>VORA METÀL·LICA</td>\n    </tr>\n    <tr>\n      <th>1</th>\n      <td>0000025AR</td>\n      <td>430270.562</td>\n      <td>4587637.998</td>\n      <td>41.437287</td>\n      <td>2.165353</td>\n      <td>ARBRE VIARI</td>\n      <td>Central de Nou Barris, Parc</td>\n      <td>Pg Fabra i Puig, 450</td>\n      <td>PETITA</td>\n      <td>152</td>\n      <td>...</td>\n      <td>PRIMERA</td>\n      <td>NaN</td>\n      <td>09/05/2017</td>\n      <td>NaN</td>\n      <td>GOTEIG AVARIAT</td>\n      <td>PAVIMENT</td>\n      <td>ESCOCELL TRIANGULAR</td>\n      <td>SENSE COBERTURA</td>\n      <td>major que o igual a  100 cm</td>\n      <td>ALTRES</td>\n    </tr>\n    <tr>\n      <th>2</th>\n      <td>0000028AR</td>\n      <td>430277.559</td>\n      <td>4587643.344</td>\n      <td>41.437335</td>\n      <td>2.165436</td>\n      <td>ARBRE VIARI</td>\n      <td>Central de Nou Barris, Parc</td>\n      <td>Pg Fabra i Puig, 450</td>\n      <td>PETITA</td>\n      <td>152</td>\n      <td>...</td>\n      <td>PRIMERA</td>\n      <td>NaN</td>\n      <td>09/05/2017</td>\n      <td>NaN</td>\n      <td>GOTEIG AVARIAT</td>\n      <td>PAVIMENT</td>\n      <td>ESCOCELL TRIANGULAR</td>\n      <td>SENSE COBERTURA</td>\n      <td>major que o igual a  100 cm</td>\n      <td>ALTRES</td>\n    </tr>\n    <tr>\n      <th>3</th>\n      <td>0000386AR</td>\n      <td>430035.239</td>\n      <td>4587693.836</td>\n      <td>41.437769</td>\n      <td>2.162530</td>\n      <td>ARBRE VIARI</td>\n      <td>Central de Nou Barris, Parc</td>\n      <td>C\\ Doctor Letamendi, 90</td>\n      <td>MITJANA</td>\n      <td>126</td>\n      <td>...</td>\n      <td>SEGONA</td>\n      <td>NaN</td>\n      <td>NaN</td>\n      <td>NaN</td>\n      <td>SENSE INFORMAR</td>\n      <td>PAVIMENT</td>\n      <td>ESCOCELL TRIANGULAR</td>\n      <td>SENSE COBERTURA</td>\n      <td>major que o igual a  100 cm</td>\n      <td>VORA METÀL·LICA</td>\n    </tr>\n    <tr>\n      <th>4</th>\n      <td>0000387AR</td>\n      <td>430032.831</td>\n      <td>4587696.005</td>\n      <td>41.437788</td>\n      <td>2.162501</td>\n      <td>ARBRE VIARI</td>\n      <td>Central de Nou Barris, Parc</td>\n      <td>C\\ Doctor Letamendi, 90</td>\n      <td>MITJANA</td>\n      <td>126</td>\n      <td>...</td>\n      <td>SEGONA</td>\n      <td>NaN</td>\n      <td>NaN</td>\n      <td>NaN</td>\n      <td>SENSE INFORMAR</td>\n      <td>PAVIMENT</td>\n      <td>ESCOCELL TRIANGULAR</td>\n      <td>SENSE COBERTURA</td>\n      <td>major que o igual a  100 cm</td>\n      <td>VORA METÀL·LICA</td>\n    </tr>\n    <tr>\n      <th>5</th>\n      <td>0000388AR</td>\n      <td>430030.367</td>\n      <td>4587698.393</td>\n      <td>41.437810</td>\n      <td>2.162471</td>\n      <td>ARBRE VIARI</td>\n      <td>Central de Nou Barris, Parc</td>\n      <td>C\\ Doctor Letamendi, 90</td>\n      <td>GRAN</td>\n      <td>126</td>\n      <td>...</td>\n      <td>SEGONA</td>\n      <td>NaN</td>\n      <td>NaN</td>\n      <td>NaN</td>\n      <td>SENSE INFORMAR</td>\n      <td>PAVIMENT</td>\n      <td>ESCOCELL TRIANGULAR</td>\n      <td>SENSE COBERTURA</td>\n      <td>major que o igual a  100 cm</td>\n      <td>VORA METÀL·LICA</td>\n    </tr>\n    <tr>\n      <th>6</th>\n      <td>0000423AR</td>\n      <td>430250.886</td>\n      <td>4587703.209</td>\n      <td>41.437872</td>\n      <td>2.165110</td>\n      <td>ARBRE VIARI</td>\n      <td>Central de Nou Barris, Parc</td>\n      <td>Pg Fabra i Puig, 423</td>\n      <td>GRAN</td>\n      <td>108</td>\n      <td>...</td>\n      <td>EXEMPLAR</td>\n      <td>NaN</td>\n      <td>NaN</td>\n      <td>NaN</td>\n      <td>GOTEIG</td>\n      <td>ALTRES</td>\n      <td>ESCOCELL RECTANGULAR</td>\n      <td>NaN</td>\n      <td>NaN</td>\n      <td>NaN</td>\n    </tr>\n    <tr>\n      <th>7</th>\n      <td>0001109AR</td>\n      <td>430196.862</td>\n      <td>4587543.015</td>\n      <td>41.436425</td>\n      <td>2.164482</td>\n      <td>ARBRE VIARI</td>\n      <td>Central de Nou Barris, Parc</td>\n      <td>Pg Fabra i Puig, 438</td>\n      <td>EXEMPLAR</td>\n      <td>152</td>\n      <td>...</td>\n      <td>TERCERA</td>\n      <td>NaN</td>\n      <td>NaN</td>\n      <td>NaN</td>\n      <td>GOTEIG AVARIAT</td>\n      <td>PAVIMENT</td>\n      <td>ESCOCELL TRIANGULAR</td>\n      <td>SENSE COBERTURA</td>\n      <td>major que o igual a  100 cm</td>\n      <td>ALTRES</td>\n    </tr>\n    <tr>\n      <th>8</th>\n      <td>0001110AR</td>\n      <td>430198.143</td>\n      <td>4587545.750</td>\n      <td>41.436449</td>\n      <td>2.164497</td>\n      <td>ARBRE VIARI</td>\n      <td>Central de Nou Barris, Parc</td>\n      <td>Pg Fabra i Puig, 438</td>\n      <td>PETITA</td>\n      <td>2336</td>\n      <td>...</td>\n      <td>PRIMERA</td>\n      <td>NaN</td>\n      <td>31/10/2019</td>\n      <td>NaN</td>\n      <td>GOTEIG AVARIAT</td>\n      <td>PAVIMENT</td>\n      <td>ESCOCELL TRIANGULAR</td>\n      <td>SENSE COBERTURA</td>\n      <td>major que o igual a  100 cm</td>\n      <td>ALTRES</td>\n    </tr>\n    <tr>\n      <th>9</th>\n      <td>0001111AR</td>\n      <td>430199.000</td>\n      <td>4587548.000</td>\n      <td>41.436470</td>\n      <td>2.164507</td>\n      <td>ARBRE VIARI</td>\n      <td>Central de Nou Barris, Parc</td>\n      <td>Pg Fabra i Puig, 450</td>\n      <td>MITJANA</td>\n      <td>152</td>\n      <td>...</td>\n      <td>SEGONA</td>\n      <td>NaN</td>\n      <td>01/01/2008</td>\n      <td>NaN</td>\n      <td>GOTEIG AVARIAT</td>\n      <td>PAVIMENT</td>\n      <td>ESCOCELL TRIANGULAR</td>\n      <td>SENSE COBERTURA</td>\n      <td>major que o igual a  100 cm</td>\n      <td>ALTRES</td>\n    </tr>\n  </tbody>\n</table>\n<p>10 rows × 23 columns</p>\n</div>",
      "text/plain": "        CODI    X_ETRS89     Y_ETRS89  LATITUD_WGS84  LONGITUD_WGS84  \\\n0  0000022AR  430319.118  4587765.810      41.438442        2.165919   \n1  0000025AR  430270.562  4587637.998      41.437287        2.165353   \n2  0000028AR  430277.559  4587643.344      41.437335        2.165436   \n3  0000386AR  430035.239  4587693.836      41.437769        2.162530   \n4  0000387AR  430032.831  4587696.005      41.437788        2.162501   \n5  0000388AR  430030.367  4587698.393      41.437810        2.162471   \n6  0000423AR  430250.886  4587703.209      41.437872        2.165110   \n7  0001109AR  430196.862  4587543.015      41.436425        2.164482   \n8  0001110AR  430198.143  4587545.750      41.436449        2.164497   \n9  0001111AR  430199.000  4587548.000      41.436470        2.164507   \n\n  TIPUS_ELEMENT                                         ESPAI_VERD  \\\n0   ARBRE VIARI  Can Ensenya, C.V. (Fabra i Puig 439, Villalba ...   \n1   ARBRE VIARI                        Central de Nou Barris, Parc   \n2   ARBRE VIARI                        Central de Nou Barris, Parc   \n3   ARBRE VIARI                        Central de Nou Barris, Parc   \n4   ARBRE VIARI                        Central de Nou Barris, Parc   \n5   ARBRE VIARI                        Central de Nou Barris, Parc   \n6   ARBRE VIARI                        Central de Nou Barris, Parc   \n7   ARBRE VIARI                        Central de Nou Barris, Parc   \n8   ARBRE VIARI                        Central de Nou Barris, Parc   \n9   ARBRE VIARI                        Central de Nou Barris, Parc   \n\n                    ADRECA    ALCADA  CAT_ESPECIE_ID  ... CATEGORIA_ARBRAT  \\\n0     Pg Fabra i Puig, 468       NaN            1104  ...              NaN   \n1     Pg Fabra i Puig, 450    PETITA             152  ...          PRIMERA   \n2     Pg Fabra i Puig, 450    PETITA             152  ...          PRIMERA   \n3  C\\ Doctor Letamendi, 90   MITJANA             126  ...           SEGONA   \n4  C\\ Doctor Letamendi, 90   MITJANA             126  ...           SEGONA   \n5  C\\ Doctor Letamendi, 90      GRAN             126  ...           SEGONA   \n6     Pg Fabra i Puig, 423      GRAN             108  ...         EXEMPLAR   \n7     Pg Fabra i Puig, 438  EXEMPLAR             152  ...          TERCERA   \n8     Pg Fabra i Puig, 438    PETITA            2336  ...          PRIMERA   \n9     Pg Fabra i Puig, 450   MITJANA             152  ...           SEGONA   \n\n  AMPLADA_VORERA DATA_PLANTACIO TIPUS_AIGUA       TIPUS_REG TIPUS_SUPERFICIE  \\\n0            NaN            NaN         NaN          MÀNEGA            GESPA   \n1            NaN     09/05/2017         NaN  GOTEIG AVARIAT         PAVIMENT   \n2            NaN     09/05/2017         NaN  GOTEIG AVARIAT         PAVIMENT   \n3            NaN            NaN         NaN  SENSE INFORMAR         PAVIMENT   \n4            NaN            NaN         NaN  SENSE INFORMAR         PAVIMENT   \n5            NaN            NaN         NaN  SENSE INFORMAR         PAVIMENT   \n6            NaN            NaN         NaN          GOTEIG           ALTRES   \n7            NaN            NaN         NaN  GOTEIG AVARIAT         PAVIMENT   \n8            NaN     31/10/2019         NaN  GOTEIG AVARIAT         PAVIMENT   \n9            NaN     01/01/2008         NaN  GOTEIG AVARIAT         PAVIMENT   \n\n           TIPUS_SUPORT COBERTURA_ESCOCELL                MIDA_ESCOCELL  \\\n0              PARTERRE    SENSE COBERTURA  major que o igual a  100 cm   \n1   ESCOCELL TRIANGULAR    SENSE COBERTURA  major que o igual a  100 cm   \n2   ESCOCELL TRIANGULAR    SENSE COBERTURA  major que o igual a  100 cm   \n3   ESCOCELL TRIANGULAR    SENSE COBERTURA  major que o igual a  100 cm   \n4   ESCOCELL TRIANGULAR    SENSE COBERTURA  major que o igual a  100 cm   \n5   ESCOCELL TRIANGULAR    SENSE COBERTURA  major que o igual a  100 cm   \n6  ESCOCELL RECTANGULAR                NaN                          NaN   \n7   ESCOCELL TRIANGULAR    SENSE COBERTURA  major que o igual a  100 cm   \n8   ESCOCELL TRIANGULAR    SENSE COBERTURA  major que o igual a  100 cm   \n9   ESCOCELL TRIANGULAR    SENSE COBERTURA  major que o igual a  100 cm   \n\n     VORA_ESCOCELL  \n0  VORA METÀL·LICA  \n1           ALTRES  \n2           ALTRES  \n3  VORA METÀL·LICA  \n4  VORA METÀL·LICA  \n5  VORA METÀL·LICA  \n6              NaN  \n7           ALTRES  \n8           ALTRES  \n9           ALTRES  \n\n[10 rows x 23 columns]"
     },
     "execution_count": 3,
     "metadata": {},
     "output_type": "execute_result"
    }
   ],
   "source": [
    "# Download a file and convert it into a dataframe.\n",
    "df_aviari = pd.read_csv(ARBRAT_VIARI_URL)\n",
    "df_azona = pd.read_csv(ARBRAT_ZONA_URL)\n",
    "\n",
    "# Combine both datasources into a single one.\n",
    "df_raw = pd.concat([df_aviari, df_azona])\n",
    "\n",
    "df_raw.head(10)\n"
   ]
  },
  {
   "cell_type": "markdown",
   "execution_count": null,
   "metadata": {},
   "outputs": [],
   "source": [
    "## Data conversion\n",
    "\n",
    "Run the cell below to convert raw data into a suitable OSM-friendly structure, according to the provided CSV fields with fields' mappings stated in `CSV_PARSER` variable."
   ]
  },
  {
   "cell_type": "code",
   "execution_count": 4,
   "metadata": {},
   "outputs": [
    {
     "data": {
      "text/html": "<div>\n<style scoped>\n    .dataframe tbody tr th:only-of-type {\n        vertical-align: middle;\n    }\n\n    .dataframe tbody tr th {\n        vertical-align: top;\n    }\n\n    .dataframe thead th {\n        text-align: right;\n    }\n</style>\n<table border=\"1\" class=\"dataframe\">\n  <thead>\n    <tr style=\"text-align: right;\">\n      <th></th>\n      <th>Original field</th>\n      <th>Description</th>\n      <th>OSM tagging</th>\n      <th>Comments</th>\n    </tr>\n  </thead>\n  <tbody>\n    <tr>\n      <th>0</th>\n      <td>CODI</td>\n      <td>Internal ID</td>\n      <td>source:pkey</td>\n      <td>Primary Key, tagging as proposed in Osmsync's ...</td>\n    </tr>\n    <tr>\n      <th>1</th>\n      <td>X_ETRS89</td>\n      <td>X coordinates, ETRS89 format</td>\n      <td>NaN</td>\n      <td>Not imported</td>\n    </tr>\n    <tr>\n      <th>2</th>\n      <td>Y_ETRS89</td>\n      <td>Y coordinates, ETRS89 format</td>\n      <td>NaN</td>\n      <td>Not imported</td>\n    </tr>\n    <tr>\n      <th>3</th>\n      <td>LATITUD_WGS84</td>\n      <td>Latitude coordinates, WGS84 format</td>\n      <td>lat</td>\n      <td>Geometry information. No tagging will be used.</td>\n    </tr>\n    <tr>\n      <th>4</th>\n      <td>LONGITUD_WGS84</td>\n      <td>Longitude coordinates, WGS84 format</td>\n      <td>lon</td>\n      <td>Geometry information. No tagging will be used.</td>\n    </tr>\n    <tr>\n      <th>5</th>\n      <td>TIPUS_ELEMENT</td>\n      <td>Object's type (viari/zona)</td>\n      <td>NaN</td>\n      <td>Not imported</td>\n    </tr>\n    <tr>\n      <th>6</th>\n      <td>ESPAI VERD</td>\n      <td>Name of Green space where the tree is located</td>\n      <td>NaN</td>\n      <td>Not imported</td>\n    </tr>\n    <tr>\n      <th>7</th>\n      <td>ADRECA</td>\n      <td>Address</td>\n      <td>NaN</td>\n      <td>Not imported</td>\n    </tr>\n    <tr>\n      <th>8</th>\n      <td>ALCADA</td>\n      <td>Tree's height. It does not use meters, but cat...</td>\n      <td>height</td>\n      <td>height is calculated according to this field, ...</td>\n    </tr>\n    <tr>\n      <th>9</th>\n      <td>CAT_ESPECIE_ID</td>\n      <td>Species' ID</td>\n      <td>NaN</td>\n      <td>Not imported</td>\n    </tr>\n    <tr>\n      <th>10</th>\n      <td>NOM_CIENTIFIC</td>\n      <td>scientific name of the species (popularly know...</td>\n      <td>species</td>\n      <td>NaN</td>\n    </tr>\n    <tr>\n      <th>11</th>\n      <td>NOM_CASTELLA</td>\n      <td>Name in Spanish</td>\n      <td>species:es</td>\n      <td>NaN</td>\n    </tr>\n    <tr>\n      <th>12</th>\n      <td>NOM_CATALA</td>\n      <td>Name in Catalan</td>\n      <td>species:ca</td>\n      <td>NaN</td>\n    </tr>\n    <tr>\n      <th>13</th>\n      <td>CATEGORIA_ARBRAT</td>\n      <td>Tree's category. Internal classification accor...</td>\n      <td>circumference</td>\n      <td>Not directly imported, but used to calculate c...</td>\n    </tr>\n    <tr>\n      <th>14</th>\n      <td>AMPLADA_VORERA</td>\n      <td>Sidewalk's width</td>\n      <td>NaN</td>\n      <td>Not imported.</td>\n    </tr>\n    <tr>\n      <th>15</th>\n      <td>DATA_PLANTACIO</td>\n      <td>Date in which the tree was planted</td>\n      <td>planted_date</td>\n      <td>NaN</td>\n    </tr>\n    <tr>\n      <th>16</th>\n      <td>TIPUS_AIGUA</td>\n      <td>Water type</td>\n      <td>NaN</td>\n      <td>Not imported.</td>\n    </tr>\n    <tr>\n      <th>17</th>\n      <td>TIPUS_REG</td>\n      <td>Watering mechanism</td>\n      <td>NaN</td>\n      <td>Not imported.</td>\n    </tr>\n    <tr>\n      <th>18</th>\n      <td>TIPUS_SUPERFICIE</td>\n      <td>Surface type</td>\n      <td>NaN</td>\n      <td>Not imported.</td>\n    </tr>\n    <tr>\n      <th>19</th>\n      <td>TIPUS_SUPORT</td>\n      <td>Support type</td>\n      <td>NaN</td>\n      <td>Not imported.</td>\n    </tr>\n    <tr>\n      <th>20</th>\n      <td>COBERTURA_ESCOCELL</td>\n      <td>Whether the Tree pit is covered or not</td>\n      <td>NaN</td>\n      <td>Not currently imported due to lack of specific...</td>\n    </tr>\n    <tr>\n      <th>21</th>\n      <td>MIDA_ESCOCELL</td>\n      <td>Tree pit Size</td>\n      <td>NaN</td>\n      <td>Not currently imported due to lack of specific...</td>\n    </tr>\n  </tbody>\n</table>\n</div>",
      "text/plain": "        Original field                                        Description  \\\n0                 CODI                                        Internal ID   \n1             X_ETRS89                       X coordinates, ETRS89 format   \n2             Y_ETRS89                       Y coordinates, ETRS89 format   \n3        LATITUD_WGS84                 Latitude coordinates, WGS84 format   \n4       LONGITUD_WGS84                Longitude coordinates, WGS84 format   \n5        TIPUS_ELEMENT                         Object's type (viari/zona)   \n6           ESPAI VERD      Name of Green space where the tree is located   \n7               ADRECA                                            Address   \n8               ALCADA  Tree's height. It does not use meters, but cat...   \n9       CAT_ESPECIE_ID                                        Species' ID   \n10       NOM_CIENTIFIC  scientific name of the species (popularly know...   \n11        NOM_CASTELLA                                    Name in Spanish   \n12          NOM_CATALA                                    Name in Catalan   \n13    CATEGORIA_ARBRAT  Tree's category. Internal classification accor...   \n14      AMPLADA_VORERA                                   Sidewalk's width   \n15      DATA_PLANTACIO                 Date in which the tree was planted   \n16         TIPUS_AIGUA                                         Water type   \n17           TIPUS_REG                                 Watering mechanism   \n18    TIPUS_SUPERFICIE                                       Surface type   \n19        TIPUS_SUPORT                                       Support type   \n20  COBERTURA_ESCOCELL             Whether the Tree pit is covered or not   \n21       MIDA_ESCOCELL                                      Tree pit Size   \n\n      OSM tagging                                           Comments  \n0     source:pkey  Primary Key, tagging as proposed in Osmsync's ...  \n1             NaN                                       Not imported  \n2             NaN                                       Not imported  \n3             lat     Geometry information. No tagging will be used.  \n4             lon     Geometry information. No tagging will be used.  \n5             NaN                                       Not imported  \n6             NaN                                       Not imported  \n7             NaN                                       Not imported  \n8          height  height is calculated according to this field, ...  \n9             NaN                                       Not imported  \n10        species                                                NaN  \n11     species:es                                                NaN  \n12     species:ca                                                NaN  \n13  circumference  Not directly imported, but used to calculate c...  \n14            NaN                                      Not imported.  \n15   planted_date                                                NaN  \n16            NaN                                      Not imported.  \n17            NaN                                      Not imported.  \n18            NaN                                      Not imported.  \n19            NaN                                      Not imported.  \n20            NaN  Not currently imported due to lack of specific...  \n21            NaN  Not currently imported due to lack of specific...  "
     },
     "execution_count": 4,
     "metadata": {},
     "output_type": "execute_result"
    }
   ],
   "source": [
    "df_mapping = pd.read_csv(CSV_PARSER)\n",
    "\n",
    "df_mapping"
   ]
  },
  {
   "cell_type": "code",
   "execution_count": 5,
   "metadata": {},
   "outputs": [
    {
     "data": {
      "text/html": "<div>\n<style scoped>\n    .dataframe tbody tr th:only-of-type {\n        vertical-align: middle;\n    }\n\n    .dataframe tbody tr th {\n        vertical-align: top;\n    }\n\n    .dataframe thead th {\n        text-align: right;\n    }\n</style>\n<table border=\"1\" class=\"dataframe\">\n  <thead>\n    <tr style=\"text-align: right;\">\n      <th></th>\n      <th>source:pkey</th>\n      <th>lat</th>\n      <th>lon</th>\n      <th>height</th>\n      <th>species</th>\n      <th>species:es</th>\n      <th>species:ca</th>\n      <th>circumference</th>\n      <th>planted_date</th>\n      <th>genus</th>\n      <th>source</th>\n    </tr>\n  </thead>\n  <tbody>\n    <tr>\n      <th>0</th>\n      <td>0000022AR</td>\n      <td>41.438442</td>\n      <td>2.165919</td>\n      <td>NaN</td>\n      <td>Celtis australis</td>\n      <td>Almez</td>\n      <td>Lledoner</td>\n      <td>NaN</td>\n      <td>NaN</td>\n      <td>Celtis</td>\n      <td>Opendata Ajuntament de Barcelona</td>\n    </tr>\n    <tr>\n      <th>1</th>\n      <td>0000025AR</td>\n      <td>41.437287</td>\n      <td>2.165353</td>\n      <td>5</td>\n      <td>Populus nigra 'Italica'</td>\n      <td>Chopo lombardo</td>\n      <td>Pollancre gavatx</td>\n      <td>0.4</td>\n      <td>09/05/2017</td>\n      <td>Populus</td>\n      <td>Opendata Ajuntament de Barcelona</td>\n    </tr>\n    <tr>\n      <th>2</th>\n      <td>0000028AR</td>\n      <td>41.437335</td>\n      <td>2.165436</td>\n      <td>5</td>\n      <td>Populus nigra 'Italica'</td>\n      <td>Chopo lombardo</td>\n      <td>Pollancre gavatx</td>\n      <td>0.4</td>\n      <td>09/05/2017</td>\n      <td>Populus</td>\n      <td>Opendata Ajuntament de Barcelona</td>\n    </tr>\n    <tr>\n      <th>3</th>\n      <td>0000386AR</td>\n      <td>41.437769</td>\n      <td>2.162530</td>\n      <td>10</td>\n      <td>Platanus x hispanica</td>\n      <td>Plátano</td>\n      <td>Plàtan</td>\n      <td>0.8</td>\n      <td>NaN</td>\n      <td>Platanus</td>\n      <td>Opendata Ajuntament de Barcelona</td>\n    </tr>\n    <tr>\n      <th>4</th>\n      <td>0000387AR</td>\n      <td>41.437788</td>\n      <td>2.162501</td>\n      <td>10</td>\n      <td>Platanus x hispanica</td>\n      <td>Plátano</td>\n      <td>Plàtan</td>\n      <td>0.8</td>\n      <td>NaN</td>\n      <td>Platanus</td>\n      <td>Opendata Ajuntament de Barcelona</td>\n    </tr>\n    <tr>\n      <th>5</th>\n      <td>0000388AR</td>\n      <td>41.437810</td>\n      <td>2.162471</td>\n      <td>15</td>\n      <td>Platanus x hispanica</td>\n      <td>Plátano</td>\n      <td>Plàtan</td>\n      <td>0.8</td>\n      <td>NaN</td>\n      <td>Platanus</td>\n      <td>Opendata Ajuntament de Barcelona</td>\n    </tr>\n    <tr>\n      <th>6</th>\n      <td>0000423AR</td>\n      <td>41.437872</td>\n      <td>2.165110</td>\n      <td>15</td>\n      <td>Pinus pinea</td>\n      <td>Pino piñonero</td>\n      <td>Pi pinyoner; pi pinyer</td>\n      <td>1.5</td>\n      <td>NaN</td>\n      <td>Pinus</td>\n      <td>Opendata Ajuntament de Barcelona</td>\n    </tr>\n    <tr>\n      <th>7</th>\n      <td>0001109AR</td>\n      <td>41.436425</td>\n      <td>2.164482</td>\n      <td>20</td>\n      <td>Populus nigra 'Italica'</td>\n      <td>Chopo lombardo</td>\n      <td>Pollancre gavatx</td>\n      <td>1.1</td>\n      <td>NaN</td>\n      <td>Populus</td>\n      <td>Opendata Ajuntament de Barcelona</td>\n    </tr>\n    <tr>\n      <th>8</th>\n      <td>0001110AR</td>\n      <td>41.436449</td>\n      <td>2.164497</td>\n      <td>5</td>\n      <td>Fraxinus angustifolia 'Raywood'</td>\n      <td>-</td>\n      <td>-</td>\n      <td>0.4</td>\n      <td>31/10/2019</td>\n      <td>Fraxinus</td>\n      <td>Opendata Ajuntament de Barcelona</td>\n    </tr>\n    <tr>\n      <th>9</th>\n      <td>0001111AR</td>\n      <td>41.436470</td>\n      <td>2.164507</td>\n      <td>10</td>\n      <td>Populus nigra 'Italica'</td>\n      <td>Chopo lombardo</td>\n      <td>Pollancre gavatx</td>\n      <td>0.8</td>\n      <td>01/01/2008</td>\n      <td>Populus</td>\n      <td>Opendata Ajuntament de Barcelona</td>\n    </tr>\n  </tbody>\n</table>\n</div>",
      "text/plain": "  source:pkey        lat       lon height                          species  \\\n0   0000022AR  41.438442  2.165919    NaN                 Celtis australis   \n1   0000025AR  41.437287  2.165353      5          Populus nigra 'Italica'   \n2   0000028AR  41.437335  2.165436      5          Populus nigra 'Italica'   \n3   0000386AR  41.437769  2.162530     10             Platanus x hispanica   \n4   0000387AR  41.437788  2.162501     10             Platanus x hispanica   \n5   0000388AR  41.437810  2.162471     15             Platanus x hispanica   \n6   0000423AR  41.437872  2.165110     15                      Pinus pinea   \n7   0001109AR  41.436425  2.164482     20          Populus nigra 'Italica'   \n8   0001110AR  41.436449  2.164497      5  Fraxinus angustifolia 'Raywood'   \n9   0001111AR  41.436470  2.164507     10          Populus nigra 'Italica'   \n\n       species:es              species:ca circumference planted_date  \\\n0           Almez                Lledoner           NaN          NaN   \n1  Chopo lombardo        Pollancre gavatx           0.4   09/05/2017   \n2  Chopo lombardo        Pollancre gavatx           0.4   09/05/2017   \n3         Plátano                  Plàtan           0.8          NaN   \n4         Plátano                  Plàtan           0.8          NaN   \n5         Plátano                  Plàtan           0.8          NaN   \n6   Pino piñonero  Pi pinyoner; pi pinyer           1.5          NaN   \n7  Chopo lombardo        Pollancre gavatx           1.1          NaN   \n8               -                       -           0.4   31/10/2019   \n9  Chopo lombardo        Pollancre gavatx           0.8   01/01/2008   \n\n      genus                            source  \n0    Celtis  Opendata Ajuntament de Barcelona  \n1   Populus  Opendata Ajuntament de Barcelona  \n2   Populus  Opendata Ajuntament de Barcelona  \n3  Platanus  Opendata Ajuntament de Barcelona  \n4  Platanus  Opendata Ajuntament de Barcelona  \n5  Platanus  Opendata Ajuntament de Barcelona  \n6     Pinus  Opendata Ajuntament de Barcelona  \n7   Populus  Opendata Ajuntament de Barcelona  \n8  Fraxinus  Opendata Ajuntament de Barcelona  \n9   Populus  Opendata Ajuntament de Barcelona  "
     },
     "execution_count": 5,
     "metadata": {},
     "output_type": "execute_result"
    }
   ],
   "source": [
    "# Selects and renames fields according to CSV parser.\n",
    "df = osmi_dg.csv_parser(df_raw, CSV_PARSER)\n",
    "\n",
    "# Calculate some fields.\n",
    "\n",
    "# Create genus column\n",
    "df['genus'] = df['species'].str.split().str[0]\n",
    "\n",
    "# Convert columns into categories (R's factors)\n",
    "# https://pandas.pydata.org/pandas-docs/stable/user_guide/categorical.html\n",
    "# When converted to categories, export to Geojson does not work.\n",
    "# df[\"species\"] = df[\"species\"].astype(\"category\")\n",
    "# df[\"species:ca\"] = df[\"species:ca\"].astype(\"category\")\n",
    "\n",
    "# TODO: Populate leaf_cycle column according to species\n",
    "# https://wiki.openstreetmap.org/wiki/Key:leaf_cycle\n",
    "\n",
    "# Calculate height, according to city council's guide:\n",
    "# https://ajuntament.barcelona.cat/ecologiaurbana/sites/default/files/Plagestioarbratviaribcn_cat.pdf (p. 22)\n",
    "df.loc[df.height == \"PETITA\", 'height'] = 5\n",
    "df.loc[df.height == \"MITJANA\", 'height'] = 10\n",
    "df.loc[df.height == \"GRAN\", 'height'] = 15\n",
    "df.loc[df.height == \"EXEMPLAR\", 'height'] = 20\n",
    "\n",
    "\n",
    "# Convert 'CATEGORIA' into circumference, according to city council's\n",
    "# guide: https://ajuntament.barcelona.cat/ecologiaurbana/sites/default/files/Plagestioarbratviaribcn_cat.pdf (p. 19)\n",
    "df.loc[df.circumference == \"PRIMERA\", 'circumference'] = 0.4\n",
    "df.loc[df.circumference == \"SEGONA\", 'circumference'] = 0.8\n",
    "df.loc[df.circumference == \"TERCERA\", 'circumference'] = 1.1\n",
    "df.loc[df.circumference == \"EXEMPLAR\", 'circumference'] = 1.5\n",
    "\n",
    "# TODO: Tag tree pits for accessibility purposes.\n",
    "\n",
    "# Create a source column with \"Opendata Ajuntament Barcelona\"\n",
    "df['source'] = \"Opendata Ajuntament de Barcelona\"\n",
    "\n",
    "df.head(10)"
   ]
  },
  {
   "cell_type": "markdown",
   "execution_count": null,
   "metadata": {},
   "outputs": [],
   "source": [
    "## Export clean data into a geojson\n",
    "\n",
    "If the attributes above are correct, we have to proceed to export them into a `geojson` file that can be used in the Task Manager's project."
   ]
  },
  {
   "cell_type": "code",
   "execution_count": 9,
   "metadata": {},
   "outputs": [],
   "source": [
    "# Convert dataframe into a GeoDataframe.\n",
    "gdf_trees = gpd.GeoDataFrame(\n",
    "    df,\n",
    "    geometry=gpd.points_from_xy(df.lon, df.lat))\n",
    "\n",
    "\n",
    "# Export to geojson.\n",
    "gdf_trees.to_file(\"data/processed/bcn_trees.geojson\", driver='GeoJSON')\n",
    "\n",
    "# TODO: drop latitude and longitude fields.\n"
   ]
  },
  {
   "cell_type": "markdown",
   "execution_count": null,
   "metadata": {},
   "outputs": [],
   "source": [
    "The resulting geojson file can be found in the folder [`/data/processed/bcn_trees.geojson`](https://github.com/mapcolabora/osm_imports_preparations/blob/master/imports/bcn_trees/data/processed/bcn_trees.geojson) in this repo.\n",
    "\n",
    "**TODOs:**\n",
    "\n",
    "* Drop latitude and longitude fields from GeoJson, [Issue #19](https://github.com/mapcolabora/osm_imports_preparations/issues/19) (help appreciated!)\n"
   ]
  }
 ],
 "metadata": {
  "file_extension": ".py",
  "kernelspec": {
   "display_name": "Python 3.7.6 64-bit",
   "language": "python",
   "name": "python37664bit7f704ecc68c44d00b27dbad0272d105c"
  },
  "language_info": {
   "codemirror_mode": {
    "name": "ipython",
    "version": 3
   },
   "file_extension": ".py",
   "mimetype": "text/x-python",
   "name": "python",
   "nbconvert_exporter": "python",
   "pygments_lexer": "ipython3",
   "version": "3.7.6-final"
  },
  "mimetype": "text/x-python",
  "name": "python",
  "npconvert_exporter": "python",
  "pycharm": {
   "stem_cell": {
    "cell_type": "raw",
    "metadata": {
     "collapsed": false
    },
    "source": []
   }
  },
  "pygments_lexer": "ipython3",
  "version": 3
 },
 "nbformat": 4,
 "nbformat_minor": 4
}