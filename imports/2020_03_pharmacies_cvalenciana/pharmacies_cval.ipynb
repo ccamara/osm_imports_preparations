{
 "cells": [
  {
   "cell_type": "markdown",
   "execution_count": null,
   "metadata": {},
   "outputs": [],
   "source": [
    "# Comunitat Valenciana' pharmacies' import\n",
    "\n",
    "This jupyter notebook contains the script for importing the pharmacies in Comunitat Valenciana into OSM as well as the documentation of the whole process in a single file, making it easier to review both the process and the results as well as the decisions taken.\n",
    "\n",
    "The goal is to manually merge and import all the pharmacies' information provided by Generalitat Valenciana, while testing the scripts for data preparation.\n",
    "\n",
    "## Data Sources\n",
    "\n",
    "* http://www.san.gva.es/web/dgfps/relacion-de-oficinas-de-farmacia\n",
    "\n",
    "## License\n",
    "\n",
    "We have requested autorization due to COV19 emergency. Data is released under CC\n",
    "\n",
    "## Import type\n",
    "\n",
    "This import will be done manually, using JOSM to edit the data. Consider using Task Manager.\n",
    "\n",
    "## Data preparations\n",
    "\n",
    "All data preparations will be made automatically in this notebook.\n",
    "\n"
   ]
  },
  {
   "cell_type": "code",
   "execution_count": 1,
   "metadata": {},
   "outputs": [],
   "source": [
    "import numpy as np\n",
    "import pandas as pd\n",
    "import geopandas as gpd\n",
    "import geopy\n",
    "from osmi_helpers import data_gathering as osmi_dg\n",
    "\n",
    "# Define Data Sources\n",
    "\n",
    "DATA_RAW = 'data/interim/ListadoOficinasFarmacia_clean.csv'\n",
    "\n",
    "CSV_PARSER = 'fields_mapping.csv'"
   ]
  },
  {
   "cell_type": "markdown",
   "execution_count": null,
   "metadata": {},
   "outputs": [],
   "source": [
    "### Fields' mapping."
   ]
  },
  {
   "cell_type": "code",
   "execution_count": 2,
   "metadata": {},
   "outputs": [
    {
     "data": {
      "text/html": "<div>\n<style scoped>\n    .dataframe tbody tr th:only-of-type {\n        vertical-align: middle;\n    }\n\n    .dataframe tbody tr th {\n        vertical-align: top;\n    }\n\n    .dataframe thead th {\n        text-align: right;\n    }\n</style>\n<table border=\"1\" class=\"dataframe\">\n  <thead>\n    <tr style=\"text-align: right;\">\n      <th></th>\n      <th>Original field</th>\n      <th>Description</th>\n      <th>OSM tagging</th>\n      <th>Comments</th>\n    </tr>\n  </thead>\n  <tbody>\n    <tr>\n      <th>0</th>\n      <td>ESTABLECIMIENTO</td>\n      <td>Internal ID</td>\n      <td>source:pkey</td>\n      <td>NaN</td>\n    </tr>\n    <tr>\n      <th>1</th>\n      <td>PROVINCIA</td>\n      <td>Province</td>\n      <td>addr:province</td>\n      <td>NaN</td>\n    </tr>\n    <tr>\n      <th>2</th>\n      <td>MUNICIPIO</td>\n      <td>Municipality</td>\n      <td>addr:city</td>\n      <td>NaN</td>\n    </tr>\n    <tr>\n      <th>3</th>\n      <td>TITULAR</td>\n      <td>NaN</td>\n      <td>operator</td>\n      <td>NaN</td>\n    </tr>\n    <tr>\n      <th>4</th>\n      <td>DIRECCIÓN</td>\n      <td>Address</td>\n      <td>addr:full</td>\n      <td>Full address, to be splitted into `adr:street`...</td>\n    </tr>\n    <tr>\n      <th>5</th>\n      <td>DEPARTAMENTO DE SALUD</td>\n      <td>NaN</td>\n      <td>NaN</td>\n      <td>Not imported</td>\n    </tr>\n    <tr>\n      <th>6</th>\n      <td>ZONA ZBS</td>\n      <td>NaN</td>\n      <td>NaN</td>\n      <td>Not imported</td>\n    </tr>\n    <tr>\n      <th>7</th>\n      <td>ZONA FARMACÉUTICA</td>\n      <td>NaN</td>\n      <td>NaN</td>\n      <td>Not imported</td>\n    </tr>\n  </tbody>\n</table>\n</div>",
      "text/plain": "          Original field   Description    OSM tagging  \\\n0        ESTABLECIMIENTO   Internal ID    source:pkey   \n1              PROVINCIA      Province  addr:province   \n2              MUNICIPIO  Municipality      addr:city   \n3                TITULAR           NaN       operator   \n4              DIRECCIÓN       Address      addr:full   \n5  DEPARTAMENTO DE SALUD           NaN            NaN   \n6               ZONA ZBS           NaN            NaN   \n7      ZONA FARMACÉUTICA           NaN            NaN   \n\n                                            Comments  \n0                                                NaN  \n1                                                NaN  \n2                                                NaN  \n3                                                NaN  \n4  Full address, to be splitted into `adr:street`...  \n5                                       Not imported  \n6                                       Not imported  \n7                                       Not imported  "
     },
     "execution_count": 2,
     "metadata": {},
     "output_type": "execute_result"
    }
   ],
   "source": [
    "# Read CSV file with fields' mapping and description.\n",
    "fields_mapping = pd.read_csv(CSV_PARSER)\n",
    "\n",
    "# Display table.\n",
    "fields_mapping\n",
    "\n"
   ]
  },
  {
   "cell_type": "markdown",
   "execution_count": null,
   "metadata": {},
   "outputs": [],
   "source": [
    "## Data gathering\n",
    "\n",
    "Run the code below to download original datasources and convert them into a dataframe."
   ]
  },
  {
   "cell_type": "code",
   "execution_count": 3,
   "metadata": {},
   "outputs": [
    {
     "data": {
      "text/html": "<div>\n<style scoped>\n    .dataframe tbody tr th:only-of-type {\n        vertical-align: middle;\n    }\n\n    .dataframe tbody tr th {\n        vertical-align: top;\n    }\n\n    .dataframe thead th {\n        text-align: right;\n    }\n</style>\n<table border=\"1\" class=\"dataframe\">\n  <thead>\n    <tr style=\"text-align: right;\">\n      <th></th>\n      <th>ESTABLECIMIENTO</th>\n      <th>PROVINCIA</th>\n      <th>MUNICIPIO</th>\n      <th>TITULAR</th>\n      <th>DIRECCIÓN</th>\n      <th>DEPARTAMENTO DE SALUD</th>\n      <th>ZONA ZBS</th>\n      <th>ZONA FARMACÉUTICA</th>\n    </tr>\n  </thead>\n  <tbody>\n    <tr>\n      <th>0</th>\n      <td>A-164-F</td>\n      <td>ALICANTE</td>\n      <td>Agost</td>\n      <td>CARLOS GISBERT ARQUES</td>\n      <td>PLAZA DE ESPAÑA, 19, 03698</td>\n      <td>19</td>\n      <td>8</td>\n      <td>25</td>\n    </tr>\n    <tr>\n      <th>1</th>\n      <td>A-285-F</td>\n      <td>ALICANTE</td>\n      <td>Agost</td>\n      <td>FRANCISCO AYUSO MACIA</td>\n      <td>Avinguda de Virgen de la Paz, 30, 03698</td>\n      <td>19</td>\n      <td>8</td>\n      <td>25</td>\n    </tr>\n    <tr>\n      <th>2</th>\n      <td>A-510-F</td>\n      <td>ALICANTE</td>\n      <td>Agres</td>\n      <td>INMACULADA FERRERO PEREZ</td>\n      <td>Carrer de San Antonio, 13, 03837</td>\n      <td>15</td>\n      <td>9</td>\n      <td>15</td>\n    </tr>\n    <tr>\n      <th>3</th>\n      <td>A-540-F</td>\n      <td>ALICANTE</td>\n      <td>Aigües</td>\n      <td>JAVIER VILLAMAYOR PIÑAS</td>\n      <td>Carrer de CANALEJAS, 12, 03569</td>\n      <td>17</td>\n      <td>6</td>\n      <td>22</td>\n    </tr>\n    <tr>\n      <th>4</th>\n      <td>A-13-F</td>\n      <td>ALICANTE</td>\n      <td>Albatera</td>\n      <td>ISABEL BALSAMEDA MORALES</td>\n      <td>Carrer de Ramon y Cajal, 6, 03340</td>\n      <td>21</td>\n      <td>1</td>\n      <td>35</td>\n    </tr>\n    <tr>\n      <th>5</th>\n      <td>A-14-F</td>\n      <td>ALICANTE</td>\n      <td>Albatera</td>\n      <td>MARIA JOSE BALMASEDA DEL ALAMO, ARTURO CORBACH...</td>\n      <td>Carretera de HONDON. EDIF.ROMEO, S/N, 03340</td>\n      <td>21</td>\n      <td>1</td>\n      <td>35</td>\n    </tr>\n    <tr>\n      <th>6</th>\n      <td>A-580-F</td>\n      <td>ALICANTE</td>\n      <td>Albatera</td>\n      <td>MARIA DEL MAR GARCIA MOLINA</td>\n      <td>Avinguda de Calvario, 39, 03340</td>\n      <td>21</td>\n      <td>1</td>\n      <td>35</td>\n    </tr>\n    <tr>\n      <th>7</th>\n      <td>A-814-F</td>\n      <td>ALICANTE</td>\n      <td>Albatera</td>\n      <td>FRANCISCO GARCIA CANOVAS</td>\n      <td>Carrer de Meson, 45, 03340</td>\n      <td>21</td>\n      <td>1</td>\n      <td>35</td>\n    </tr>\n    <tr>\n      <th>8</th>\n      <td>A-531-F</td>\n      <td>ALICANTE</td>\n      <td>Alcalalí</td>\n      <td>ENCARNACION MOLL MENGUAL</td>\n      <td>Carrer de Calvari, 7, 03728</td>\n      <td>13</td>\n      <td>1</td>\n      <td>1</td>\n    </tr>\n    <tr>\n      <th>9</th>\n      <td>A-748-F</td>\n      <td>ALICANTE</td>\n      <td>Alcalalí</td>\n      <td>RAQUEL FERRER GONZALEZ</td>\n      <td>Carrer de SALAMANCA, 19, 03723</td>\n      <td>13</td>\n      <td>8</td>\n      <td>1</td>\n    </tr>\n  </tbody>\n</table>\n</div>",
      "text/plain": "  ESTABLECIMIENTO PROVINCIA MUNICIPIO  \\\n0         A-164-F  ALICANTE     Agost   \n1         A-285-F  ALICANTE     Agost   \n2         A-510-F  ALICANTE     Agres   \n3         A-540-F  ALICANTE    Aigües   \n4          A-13-F  ALICANTE  Albatera   \n5          A-14-F  ALICANTE  Albatera   \n6         A-580-F  ALICANTE  Albatera   \n7         A-814-F  ALICANTE  Albatera   \n8         A-531-F  ALICANTE  Alcalalí   \n9         A-748-F  ALICANTE  Alcalalí   \n\n                                             TITULAR  \\\n0                              CARLOS GISBERT ARQUES   \n1                              FRANCISCO AYUSO MACIA   \n2                           INMACULADA FERRERO PEREZ   \n3                            JAVIER VILLAMAYOR PIÑAS   \n4                           ISABEL BALSAMEDA MORALES   \n5  MARIA JOSE BALMASEDA DEL ALAMO, ARTURO CORBACH...   \n6                        MARIA DEL MAR GARCIA MOLINA   \n7                           FRANCISCO GARCIA CANOVAS   \n8                           ENCARNACION MOLL MENGUAL   \n9                             RAQUEL FERRER GONZALEZ   \n\n                                     DIRECCIÓN  DEPARTAMENTO DE SALUD  \\\n0                   PLAZA DE ESPAÑA, 19, 03698                     19   \n1      Avinguda de Virgen de la Paz, 30, 03698                     19   \n2             Carrer de San Antonio, 13, 03837                     15   \n3               Carrer de CANALEJAS, 12, 03569                     17   \n4            Carrer de Ramon y Cajal, 6, 03340                     21   \n5  Carretera de HONDON. EDIF.ROMEO, S/N, 03340                     21   \n6              Avinguda de Calvario, 39, 03340                     21   \n7                   Carrer de Meson, 45, 03340                     21   \n8                  Carrer de Calvari, 7, 03728                     13   \n9               Carrer de SALAMANCA, 19, 03723                     13   \n\n   ZONA ZBS  ZONA FARMACÉUTICA  \n0         8                 25  \n1         8                 25  \n2         9                 15  \n3         6                 22  \n4         1                 35  \n5         1                 35  \n6         1                 35  \n7         1                 35  \n8         1                  1  \n9         8                  1  "
     },
     "execution_count": 3,
     "metadata": {},
     "output_type": "execute_result"
    }
   ],
   "source": [
    "# Download a file and convert it into a dataframe.\n",
    "df_raw = pd.read_csv(DATA_RAW)\n",
    "\n",
    "df_raw.head(10)\n"
   ]
  },
  {
   "cell_type": "markdown",
   "execution_count": null,
   "metadata": {},
   "outputs": [],
   "source": [
    "## Data conversion\n",
    "\n",
    "Run the cell below to convert raw data into a suitable OSM-friendly structure, according to the provided CSV fields with fields' mappings stated in `CSV_PARSER` variable."
   ]
  },
  {
   "cell_type": "code",
   "execution_count": 4,
   "metadata": {},
   "outputs": [
    {
     "data": {
      "text/html": "<div>\n<style scoped>\n    .dataframe tbody tr th:only-of-type {\n        vertical-align: middle;\n    }\n\n    .dataframe tbody tr th {\n        vertical-align: top;\n    }\n\n    .dataframe thead th {\n        text-align: right;\n    }\n</style>\n<table border=\"1\" class=\"dataframe\">\n  <thead>\n    <tr style=\"text-align: right;\">\n      <th></th>\n      <th>source:pkey</th>\n      <th>addr:province</th>\n      <th>addr:city</th>\n      <th>operator</th>\n      <th>addr:full</th>\n      <th>addr:street</th>\n      <th>addr:housenumber</th>\n      <th>addr:postcode</th>\n      <th>source</th>\n      <th>amenity</th>\n    </tr>\n  </thead>\n  <tbody>\n    <tr>\n      <th>0</th>\n      <td>A-164-F</td>\n      <td>Alicante</td>\n      <td>Agost</td>\n      <td>Carlos Gisbert Arques</td>\n      <td>PLAZA DE ESPAÑA, 19, 03698</td>\n      <td>PLAZA DE ESPAÑA</td>\n      <td>19</td>\n      <td>03698</td>\n      <td>Opendata Generalitat Valenciana</td>\n      <td>pharmacy</td>\n    </tr>\n    <tr>\n      <th>1</th>\n      <td>A-285-F</td>\n      <td>Alicante</td>\n      <td>Agost</td>\n      <td>Francisco Ayuso Macia</td>\n      <td>Avinguda de Virgen de la Paz, 30, 03698</td>\n      <td>Avinguda de Virgen de la Paz</td>\n      <td>30</td>\n      <td>03698</td>\n      <td>Opendata Generalitat Valenciana</td>\n      <td>pharmacy</td>\n    </tr>\n    <tr>\n      <th>2</th>\n      <td>A-510-F</td>\n      <td>Alicante</td>\n      <td>Agres</td>\n      <td>Inmaculada Ferrero Perez</td>\n      <td>Carrer de San Antonio, 13, 03837</td>\n      <td>Carrer de San Antonio</td>\n      <td>13</td>\n      <td>03837</td>\n      <td>Opendata Generalitat Valenciana</td>\n      <td>pharmacy</td>\n    </tr>\n    <tr>\n      <th>3</th>\n      <td>A-540-F</td>\n      <td>Alicante</td>\n      <td>Aigües</td>\n      <td>Javier Villamayor Piñas</td>\n      <td>Carrer de CANALEJAS, 12, 03569</td>\n      <td>Carrer de CANALEJAS</td>\n      <td>12</td>\n      <td>03569</td>\n      <td>Opendata Generalitat Valenciana</td>\n      <td>pharmacy</td>\n    </tr>\n    <tr>\n      <th>4</th>\n      <td>A-13-F</td>\n      <td>Alicante</td>\n      <td>Albatera</td>\n      <td>Isabel Balsameda Morales</td>\n      <td>Carrer de Ramon y Cajal, 6, 03340</td>\n      <td>Carrer de Ramon y Cajal</td>\n      <td>6</td>\n      <td>03340</td>\n      <td>Opendata Generalitat Valenciana</td>\n      <td>pharmacy</td>\n    </tr>\n    <tr>\n      <th>5</th>\n      <td>A-14-F</td>\n      <td>Alicante</td>\n      <td>Albatera</td>\n      <td>Maria Jose Balmaseda Del Alamo, Arturo Corbach...</td>\n      <td>Carretera de HONDON. EDIF.ROMEO, S/N, 03340</td>\n      <td>Carretera de HONDON. EDIF.ROMEO</td>\n      <td></td>\n      <td>03340</td>\n      <td>Opendata Generalitat Valenciana</td>\n      <td>pharmacy</td>\n    </tr>\n    <tr>\n      <th>6</th>\n      <td>A-580-F</td>\n      <td>Alicante</td>\n      <td>Albatera</td>\n      <td>Maria Del Mar Garcia Molina</td>\n      <td>Avinguda de Calvario, 39, 03340</td>\n      <td>Avinguda de Calvario</td>\n      <td>39</td>\n      <td>03340</td>\n      <td>Opendata Generalitat Valenciana</td>\n      <td>pharmacy</td>\n    </tr>\n    <tr>\n      <th>7</th>\n      <td>A-814-F</td>\n      <td>Alicante</td>\n      <td>Albatera</td>\n      <td>Francisco Garcia Canovas</td>\n      <td>Carrer de Meson, 45, 03340</td>\n      <td>Carrer de Meson</td>\n      <td>45</td>\n      <td>03340</td>\n      <td>Opendata Generalitat Valenciana</td>\n      <td>pharmacy</td>\n    </tr>\n    <tr>\n      <th>8</th>\n      <td>A-531-F</td>\n      <td>Alicante</td>\n      <td>Alcalalí</td>\n      <td>Encarnacion Moll Mengual</td>\n      <td>Carrer de Calvari, 7, 03728</td>\n      <td>Carrer de Calvari</td>\n      <td>7</td>\n      <td>03728</td>\n      <td>Opendata Generalitat Valenciana</td>\n      <td>pharmacy</td>\n    </tr>\n    <tr>\n      <th>9</th>\n      <td>A-748-F</td>\n      <td>Alicante</td>\n      <td>Alcalalí</td>\n      <td>Raquel Ferrer Gonzalez</td>\n      <td>Carrer de SALAMANCA, 19, 03723</td>\n      <td>Carrer de SALAMANCA</td>\n      <td>19</td>\n      <td>03723</td>\n      <td>Opendata Generalitat Valenciana</td>\n      <td>pharmacy</td>\n    </tr>\n  </tbody>\n</table>\n</div>",
      "text/plain": "  source:pkey addr:province addr:city  \\\n0     A-164-F      Alicante     Agost   \n1     A-285-F      Alicante     Agost   \n2     A-510-F      Alicante     Agres   \n3     A-540-F      Alicante    Aigües   \n4      A-13-F      Alicante  Albatera   \n5      A-14-F      Alicante  Albatera   \n6     A-580-F      Alicante  Albatera   \n7     A-814-F      Alicante  Albatera   \n8     A-531-F      Alicante  Alcalalí   \n9     A-748-F      Alicante  Alcalalí   \n\n                                            operator  \\\n0                              Carlos Gisbert Arques   \n1                              Francisco Ayuso Macia   \n2                           Inmaculada Ferrero Perez   \n3                            Javier Villamayor Piñas   \n4                           Isabel Balsameda Morales   \n5  Maria Jose Balmaseda Del Alamo, Arturo Corbach...   \n6                        Maria Del Mar Garcia Molina   \n7                           Francisco Garcia Canovas   \n8                           Encarnacion Moll Mengual   \n9                             Raquel Ferrer Gonzalez   \n\n                                     addr:full  \\\n0                   PLAZA DE ESPAÑA, 19, 03698   \n1      Avinguda de Virgen de la Paz, 30, 03698   \n2             Carrer de San Antonio, 13, 03837   \n3               Carrer de CANALEJAS, 12, 03569   \n4            Carrer de Ramon y Cajal, 6, 03340   \n5  Carretera de HONDON. EDIF.ROMEO, S/N, 03340   \n6              Avinguda de Calvario, 39, 03340   \n7                   Carrer de Meson, 45, 03340   \n8                  Carrer de Calvari, 7, 03728   \n9               Carrer de SALAMANCA, 19, 03723   \n\n                       addr:street addr:housenumber addr:postcode  \\\n0                  PLAZA DE ESPAÑA               19         03698   \n1     Avinguda de Virgen de la Paz               30         03698   \n2            Carrer de San Antonio               13         03837   \n3              Carrer de CANALEJAS               12         03569   \n4          Carrer de Ramon y Cajal                6         03340   \n5  Carretera de HONDON. EDIF.ROMEO                          03340   \n6             Avinguda de Calvario               39         03340   \n7                  Carrer de Meson               45         03340   \n8                Carrer de Calvari                7         03728   \n9              Carrer de SALAMANCA               19         03723   \n\n                            source   amenity  \n0  Opendata Generalitat Valenciana  pharmacy  \n1  Opendata Generalitat Valenciana  pharmacy  \n2  Opendata Generalitat Valenciana  pharmacy  \n3  Opendata Generalitat Valenciana  pharmacy  \n4  Opendata Generalitat Valenciana  pharmacy  \n5  Opendata Generalitat Valenciana  pharmacy  \n6  Opendata Generalitat Valenciana  pharmacy  \n7  Opendata Generalitat Valenciana  pharmacy  \n8  Opendata Generalitat Valenciana  pharmacy  \n9  Opendata Generalitat Valenciana  pharmacy  "
     },
     "execution_count": 4,
     "metadata": {},
     "output_type": "execute_result"
    }
   ],
   "source": [
    "# Selects and renames fields according to CSV parser.\n",
    "df = osmi_dg.csv_parser(df_raw, CSV_PARSER)\n",
    "\n",
    "# Calculate some fields.\n",
    "df['operator'] = df['operator'].str.title()\n",
    "df['addr:province'] = df['addr:province'].str.title()\n",
    "df['addr:city'] = df['addr:city'].str.title()\n",
    "\n",
    "# Split address.\n",
    "df['addr:street'], df['addr:housenumber'], df['addr:postcode'] = df['addr:full'].str.split(',', 2).str\n",
    "df['addr:housenumber'] = df['addr:housenumber'].replace(regex = 'S/N', value = '')\n",
    "\n",
    "\n",
    "# Create a source column with \"Opendata Generalitat Valenciana\"\n",
    "df['source'] = \"Opendata Generalitat Valenciana\"\n",
    "df['amenity'] = 'pharmacy'\n",
    "\n",
    "\n",
    "df.head(10)"
   ]
  },
  {
   "cell_type": "markdown",
   "execution_count": null,
   "metadata": {},
   "outputs": [],
   "source": [
    "## Geocode dataframe"
   ]
  },
  {
   "cell_type": "code",
   "execution_count": 7,
   "metadata": {},
   "outputs": [
    {
     "data": {
      "text/html": "<div>\n<style scoped>\n    .dataframe tbody tr th:only-of-type {\n        vertical-align: middle;\n    }\n\n    .dataframe tbody tr th {\n        vertical-align: top;\n    }\n\n    .dataframe thead th {\n        text-align: right;\n    }\n</style>\n<table border=\"1\" class=\"dataframe\">\n  <thead>\n    <tr style=\"text-align: right;\">\n      <th></th>\n      <th>source:pkey</th>\n      <th>addr:province</th>\n      <th>addr:city</th>\n      <th>operator</th>\n      <th>addr:full</th>\n      <th>addr:street</th>\n      <th>addr:housenumber</th>\n      <th>addr:postcode</th>\n      <th>source</th>\n      <th>amenity</th>\n      <th>addr_full</th>\n      <th>gcode</th>\n      <th>lat</th>\n      <th>lon</th>\n    </tr>\n  </thead>\n  <tbody>\n    <tr>\n      <th>0</th>\n      <td>A-164-F</td>\n      <td>Alicante</td>\n      <td>Agost</td>\n      <td>Carlos Gisbert Arques</td>\n      <td>PLAZA DE ESPAÑA, 19, 03698</td>\n      <td>PLAZA DE ESPAÑA</td>\n      <td>19</td>\n      <td>03698</td>\n      <td>Opendata Generalitat Valenciana</td>\n      <td>pharmacy</td>\n      <td>PLAZA DE ESPAÑA, Agost, Alicante</td>\n      <td>(Alt de la Venta de Agost, 03698, Monforte del...</td>\n      <td>38.402291</td>\n      <td>-0.658807</td>\n    </tr>\n    <tr>\n      <th>1</th>\n      <td>A-285-F</td>\n      <td>Alicante</td>\n      <td>Agost</td>\n      <td>Francisco Ayuso Macia</td>\n      <td>Avinguda de Virgen de la Paz, 30, 03698</td>\n      <td>Avinguda de Virgen de la Paz</td>\n      <td>30</td>\n      <td>03698</td>\n      <td>Opendata Generalitat Valenciana</td>\n      <td>pharmacy</td>\n      <td>Avinguda de Virgen de la Paz, Agost, Alicante</td>\n      <td>(avinguda Verge de la Pau, 03698, Agost, Valen...</td>\n      <td>38.437354</td>\n      <td>-0.638250</td>\n    </tr>\n    <tr>\n      <th>2</th>\n      <td>A-510-F</td>\n      <td>Alicante</td>\n      <td>Agres</td>\n      <td>Inmaculada Ferrero Perez</td>\n      <td>Carrer de San Antonio, 13, 03837</td>\n      <td>Carrer de San Antonio</td>\n      <td>13</td>\n      <td>03837</td>\n      <td>Opendata Generalitat Valenciana</td>\n      <td>pharmacy</td>\n      <td>Carrer de San Antonio, Agres, Alicante</td>\n      <td>(Carrer San Antonio, 03730, Xàbia / Jávea, Val...</td>\n      <td>38.797296</td>\n      <td>0.181354</td>\n    </tr>\n    <tr>\n      <th>3</th>\n      <td>A-540-F</td>\n      <td>Alicante</td>\n      <td>Aigües</td>\n      <td>Javier Villamayor Piñas</td>\n      <td>Carrer de CANALEJAS, 12, 03569</td>\n      <td>Carrer de CANALEJAS</td>\n      <td>12</td>\n      <td>03569</td>\n      <td>Opendata Generalitat Valenciana</td>\n      <td>pharmacy</td>\n      <td>Carrer de CANALEJAS, Aigües, Alicante</td>\n      <td>(Carrer de Canalejas, 03569, Aigües, Valencian...</td>\n      <td>38.500772</td>\n      <td>-0.364732</td>\n    </tr>\n    <tr>\n      <th>4</th>\n      <td>A-13-F</td>\n      <td>Alicante</td>\n      <td>Albatera</td>\n      <td>Isabel Balsameda Morales</td>\n      <td>Carrer de Ramon y Cajal, 6, 03340</td>\n      <td>Carrer de Ramon y Cajal</td>\n      <td>6</td>\n      <td>03340</td>\n      <td>Opendata Generalitat Valenciana</td>\n      <td>pharmacy</td>\n      <td>Carrer de Ramon y Cajal, Albatera, Alicante</td>\n      <td>(carrer de Ramón y Cajal, 03698, Agost, Valenc...</td>\n      <td>38.437354</td>\n      <td>-0.638250</td>\n    </tr>\n    <tr>\n      <th>...</th>\n      <td>...</td>\n      <td>...</td>\n      <td>...</td>\n      <td>...</td>\n      <td>...</td>\n      <td>...</td>\n      <td>...</td>\n      <td>...</td>\n      <td>...</td>\n      <td>...</td>\n      <td>...</td>\n      <td>...</td>\n      <td>...</td>\n      <td>...</td>\n    </tr>\n    <tr>\n      <th>2352</th>\n      <td>V-812-F</td>\n      <td>Valencia</td>\n      <td>Xirivella</td>\n      <td>Julia Miranda Sanz, Carmen Miranda Sanz</td>\n      <td>Avinguda de Del Cami Nou, 92, 46950</td>\n      <td>Avinguda de Del Cami Nou</td>\n      <td>92</td>\n      <td>46950</td>\n      <td>Opendata Generalitat Valenciana</td>\n      <td>pharmacy</td>\n      <td>Avinguda de Del Cami Nou, Xirivella, Valencia</td>\n      <td>(Avinguda del Camí Nou, 46950, Xirivella, Vale...</td>\n      <td>39.463784</td>\n      <td>-0.435451</td>\n    </tr>\n    <tr>\n      <th>2353</th>\n      <td>V-887-F</td>\n      <td>Valencia</td>\n      <td>Xirivella</td>\n      <td>Inmaculada Diaz Delgado</td>\n      <td>Avinguda de Del Cami Nou, 195, 46950</td>\n      <td>Avinguda de Del Cami Nou</td>\n      <td>195</td>\n      <td>46950</td>\n      <td>Opendata Generalitat Valenciana</td>\n      <td>pharmacy</td>\n      <td>Avinguda de Del Cami Nou, Xirivella, Valencia</td>\n      <td>(Avinguda del Camí Nou, 46950, Xirivella, Vale...</td>\n      <td>39.463784</td>\n      <td>-0.435451</td>\n    </tr>\n    <tr>\n      <th>2354</th>\n      <td>V-451-F</td>\n      <td>Valencia</td>\n      <td>Yátova</td>\n      <td>Inmaculada Gil Pellin</td>\n      <td>Carrer de Mayor, 42, 46367</td>\n      <td>Carrer de Mayor</td>\n      <td>42</td>\n      <td>46367</td>\n      <td>Opendata Generalitat Valenciana</td>\n      <td>pharmacy</td>\n      <td>Carrer de Mayor, Yátova, Valencia</td>\n      <td>(Carrer de Yátova, 46183, l'Eliana, Valencian ...</td>\n      <td>39.565037</td>\n      <td>-0.539945</td>\n    </tr>\n    <tr>\n      <th>2355</th>\n      <td>V-1072-F</td>\n      <td>Valencia</td>\n      <td>La Yesa</td>\n      <td>Mª Jose Monserrat Soria</td>\n      <td>Carrer de Calvo Sotelo, 25, 46178</td>\n      <td>Carrer de Calvo Sotelo</td>\n      <td>25</td>\n      <td>46178</td>\n      <td>Opendata Generalitat Valenciana</td>\n      <td>pharmacy</td>\n      <td>Carrer de Calvo Sotelo, La Yesa, Valencia</td>\n      <td>(Carrer de Calvo Sotelo, 46185, la Pobla de Va...</td>\n      <td>39.592464</td>\n      <td>-0.551801</td>\n    </tr>\n    <tr>\n      <th>2356</th>\n      <td>V-1018-F</td>\n      <td>Valencia</td>\n      <td>Zarra</td>\n      <td>Maria Jesus Soler Landete</td>\n      <td>Carrer de Camino del Lavadero, 1, 46621</td>\n      <td>Carrer de Camino del Lavadero</td>\n      <td>1</td>\n      <td>46621</td>\n      <td>Opendata Generalitat Valenciana</td>\n      <td>pharmacy</td>\n      <td>Carrer de Camino del Lavadero, Zarra, Valencia</td>\n      <td>(Camino del Lavadero, 46621, Zarra, Valencian ...</td>\n      <td>39.090594</td>\n      <td>-1.073273</td>\n    </tr>\n  </tbody>\n</table>\n<p>2179 rows × 14 columns</p>\n</div>",
      "text/plain": "     source:pkey addr:province  addr:city  \\\n0        A-164-F      Alicante      Agost   \n1        A-285-F      Alicante      Agost   \n2        A-510-F      Alicante      Agres   \n3        A-540-F      Alicante     Aigües   \n4         A-13-F      Alicante   Albatera   \n...          ...           ...        ...   \n2352     V-812-F      Valencia  Xirivella   \n2353     V-887-F      Valencia  Xirivella   \n2354     V-451-F      Valencia     Yátova   \n2355    V-1072-F      Valencia    La Yesa   \n2356    V-1018-F      Valencia      Zarra   \n\n                                     operator  \\\n0                       Carlos Gisbert Arques   \n1                       Francisco Ayuso Macia   \n2                    Inmaculada Ferrero Perez   \n3                     Javier Villamayor Piñas   \n4                    Isabel Balsameda Morales   \n...                                       ...   \n2352  Julia Miranda Sanz, Carmen Miranda Sanz   \n2353                  Inmaculada Diaz Delgado   \n2354                    Inmaculada Gil Pellin   \n2355                  Mª Jose Monserrat Soria   \n2356                Maria Jesus Soler Landete   \n\n                                    addr:full                    addr:street  \\\n0                  PLAZA DE ESPAÑA, 19, 03698                PLAZA DE ESPAÑA   \n1     Avinguda de Virgen de la Paz, 30, 03698   Avinguda de Virgen de la Paz   \n2            Carrer de San Antonio, 13, 03837          Carrer de San Antonio   \n3              Carrer de CANALEJAS, 12, 03569            Carrer de CANALEJAS   \n4           Carrer de Ramon y Cajal, 6, 03340        Carrer de Ramon y Cajal   \n...                                       ...                            ...   \n2352      Avinguda de Del Cami Nou, 92, 46950       Avinguda de Del Cami Nou   \n2353     Avinguda de Del Cami Nou, 195, 46950       Avinguda de Del Cami Nou   \n2354               Carrer de Mayor, 42, 46367                Carrer de Mayor   \n2355        Carrer de Calvo Sotelo, 25, 46178         Carrer de Calvo Sotelo   \n2356  Carrer de Camino del Lavadero, 1, 46621  Carrer de Camino del Lavadero   \n\n     addr:housenumber addr:postcode                           source  \\\n0                  19         03698  Opendata Generalitat Valenciana   \n1                  30         03698  Opendata Generalitat Valenciana   \n2                  13         03837  Opendata Generalitat Valenciana   \n3                  12         03569  Opendata Generalitat Valenciana   \n4                   6         03340  Opendata Generalitat Valenciana   \n...               ...           ...                              ...   \n2352               92         46950  Opendata Generalitat Valenciana   \n2353              195         46950  Opendata Generalitat Valenciana   \n2354               42         46367  Opendata Generalitat Valenciana   \n2355               25         46178  Opendata Generalitat Valenciana   \n2356                1         46621  Opendata Generalitat Valenciana   \n\n       amenity                                       addr_full  \\\n0     pharmacy                PLAZA DE ESPAÑA, Agost, Alicante   \n1     pharmacy   Avinguda de Virgen de la Paz, Agost, Alicante   \n2     pharmacy          Carrer de San Antonio, Agres, Alicante   \n3     pharmacy           Carrer de CANALEJAS, Aigües, Alicante   \n4     pharmacy     Carrer de Ramon y Cajal, Albatera, Alicante   \n...        ...                                             ...   \n2352  pharmacy   Avinguda de Del Cami Nou, Xirivella, Valencia   \n2353  pharmacy   Avinguda de Del Cami Nou, Xirivella, Valencia   \n2354  pharmacy               Carrer de Mayor, Yátova, Valencia   \n2355  pharmacy       Carrer de Calvo Sotelo, La Yesa, Valencia   \n2356  pharmacy  Carrer de Camino del Lavadero, Zarra, Valencia   \n\n                                                  gcode        lat       lon  \n0     (Alt de la Venta de Agost, 03698, Monforte del...  38.402291 -0.658807  \n1     (avinguda Verge de la Pau, 03698, Agost, Valen...  38.437354 -0.638250  \n2     (Carrer San Antonio, 03730, Xàbia / Jávea, Val...  38.797296  0.181354  \n3     (Carrer de Canalejas, 03569, Aigües, Valencian...  38.500772 -0.364732  \n4     (carrer de Ramón y Cajal, 03698, Agost, Valenc...  38.437354 -0.638250  \n...                                                 ...        ...       ...  \n2352  (Avinguda del Camí Nou, 46950, Xirivella, Vale...  39.463784 -0.435451  \n2353  (Avinguda del Camí Nou, 46950, Xirivella, Vale...  39.463784 -0.435451  \n2354  (Carrer de Yátova, 46183, l'Eliana, Valencian ...  39.565037 -0.539945  \n2355  (Carrer de Calvo Sotelo, 46185, la Pobla de Va...  39.592464 -0.551801  \n2356  (Camino del Lavadero, 46621, Zarra, Valencian ...  39.090594 -1.073273  \n\n[2179 rows x 14 columns]"
     },
     "execution_count": 7,
     "metadata": {},
     "output_type": "execute_result"
    }
   ],
   "source": [
    "# Geocode\n",
    "from geopy.geocoders import Photon\n",
    "geolocator = Photon(timeout=10, user_agent = \"myGeolocator\")\n",
    "\n",
    "#df = df.iloc[0:25, :]\n",
    "df['addr_full'] = df['addr:street'] + ', ' + df['addr:city'] + ', ' + df['addr:province']\n",
    "df['addr:housenumber'] = df['addr:housenumber'].replace(regex = '', value = np.NaN)\n",
    "\n",
    "\n",
    "df['gcode'] = df.addr_full.apply(geolocator.geocode)\n",
    "\n",
    "# Store rows that have not been geolocated.\n",
    "df_not_found = df[df['gcode'].isnull()]\n",
    "\n",
    "df_not_found\n",
    "\n",
    "\n",
    "# Proceed with geolocated values only.\n",
    "df_loc = df[df['gcode'].notna()]\n",
    "\n",
    "# Generate a `lat` and `lon` columns with latitude and longitude values.\n",
    "df_loc['lat'] = [g.latitude for g in df_loc.gcode]\n",
    "df_loc['lon'] = [g.longitude for g in df_loc.gcode]\n",
    "\n",
    "df_loc"
   ]
  },
  {
   "cell_type": "markdown",
   "execution_count": null,
   "metadata": {},
   "outputs": [],
   "source": [
    "Now display all the rows that haven't been geolocated."
   ]
  },
  {
   "cell_type": "code",
   "execution_count": 8,
   "metadata": {},
   "outputs": [
    {
     "data": {
      "text/html": "<div>\n<style scoped>\n    .dataframe tbody tr th:only-of-type {\n        vertical-align: middle;\n    }\n\n    .dataframe tbody tr th {\n        vertical-align: top;\n    }\n\n    .dataframe thead th {\n        text-align: right;\n    }\n</style>\n<table border=\"1\" class=\"dataframe\">\n  <thead>\n    <tr style=\"text-align: right;\">\n      <th></th>\n      <th>source:pkey</th>\n      <th>addr:province</th>\n      <th>addr:city</th>\n      <th>operator</th>\n      <th>addr:full</th>\n      <th>addr:street</th>\n      <th>addr:housenumber</th>\n      <th>addr:postcode</th>\n      <th>source</th>\n      <th>amenity</th>\n      <th>addr_full</th>\n      <th>gcode</th>\n    </tr>\n  </thead>\n  <tbody>\n    <tr>\n      <th>5</th>\n      <td>A-14-F</td>\n      <td>Alicante</td>\n      <td>Albatera</td>\n      <td>Maria Jose Balmaseda Del Alamo, Arturo Corbach...</td>\n      <td>Carretera de HONDON. EDIF.ROMEO, S/N, 03340</td>\n      <td>Carretera de HONDON. EDIF.ROMEO</td>\n      <td></td>\n      <td>03340</td>\n      <td>Opendata Generalitat Valenciana</td>\n      <td>pharmacy</td>\n      <td>Carretera de HONDON. EDIF.ROMEO, Albatera, Ali...</td>\n      <td>None</td>\n    </tr>\n    <tr>\n      <th>13</th>\n      <td>A-122-F</td>\n      <td>Alicante</td>\n      <td>Alcoi / Alcoy</td>\n      <td>Inés Llopis Boluda, Maria José Llopis Boluda</td>\n      <td>Carrer de Na Saurina d’Entença, 45, 03803</td>\n      <td>Carrer de Na Saurina d’Entença</td>\n      <td>45</td>\n      <td>03803</td>\n      <td>Opendata Generalitat Valenciana</td>\n      <td>pharmacy</td>\n      <td>Carrer de Na Saurina d’Entença, Alcoi / Alcoy,...</td>\n      <td>None</td>\n    </tr>\n    <tr>\n      <th>19</th>\n      <td>A-229-F</td>\n      <td>Alicante</td>\n      <td>Alcoi / Alcoy</td>\n      <td>Miguel Domenech Lloret</td>\n      <td>Avinguda de Alameda de Camilo Sesto, 53, 03803</td>\n      <td>Avinguda de Alameda de Camilo Sesto</td>\n      <td>53</td>\n      <td>03803</td>\n      <td>Opendata Generalitat Valenciana</td>\n      <td>pharmacy</td>\n      <td>Avinguda de Alameda de Camilo Sesto, Alcoi / A...</td>\n      <td>None</td>\n    </tr>\n    <tr>\n      <th>20</th>\n      <td>A-231-F</td>\n      <td>Alicante</td>\n      <td>Alcoi / Alcoy</td>\n      <td>María Carmen Azorín Navarro</td>\n      <td>Avinguda de Juan Gil - Albert, 13, 03804</td>\n      <td>Avinguda de Juan Gil - Albert</td>\n      <td>13</td>\n      <td>03804</td>\n      <td>Opendata Generalitat Valenciana</td>\n      <td>pharmacy</td>\n      <td>Avinguda de Juan Gil - Albert, Alcoi / Alcoy, ...</td>\n      <td>None</td>\n    </tr>\n    <tr>\n      <th>29</th>\n      <td>A-338-F</td>\n      <td>Alicante</td>\n      <td>Alcoi / Alcoy</td>\n      <td>Juan Antonio Lopez Cobelo, Carlos Lopez Cobelo</td>\n      <td>Carrer de Lluis Braille, 17, 03802</td>\n      <td>Carrer de Lluis Braille</td>\n      <td>17</td>\n      <td>03802</td>\n      <td>Opendata Generalitat Valenciana</td>\n      <td>pharmacy</td>\n      <td>Carrer de Lluis Braille, Alcoi / Alcoy, Alicante</td>\n      <td>None</td>\n    </tr>\n    <tr>\n      <th>...</th>\n      <td>...</td>\n      <td>...</td>\n      <td>...</td>\n      <td>...</td>\n      <td>...</td>\n      <td>...</td>\n      <td>...</td>\n      <td>...</td>\n      <td>...</td>\n      <td>...</td>\n      <td>...</td>\n      <td>...</td>\n    </tr>\n    <tr>\n      <th>1960</th>\n      <td>V-216-F</td>\n      <td>Valencia</td>\n      <td>València</td>\n      <td>Maria Rosario Vidal Blasco</td>\n      <td>Carrer de Luis Garcia-Berlanga Marti (Director...</td>\n      <td>Carrer de Luis Garcia-Berlanga Marti (Director...</td>\n      <td>5B</td>\n      <td>46023</td>\n      <td>Opendata Generalitat Valenciana</td>\n      <td>pharmacy</td>\n      <td>Carrer de Luis Garcia-Berlanga Marti (Director...</td>\n      <td>None</td>\n    </tr>\n    <tr>\n      <th>2227</th>\n      <td>V-829-F</td>\n      <td>Valencia</td>\n      <td>València</td>\n      <td>Jose Miguel Cavero Rausell, Ana Roda Segrelles</td>\n      <td>Avinguda de Professor Lopez PiÃ±ero (Historiad...</td>\n      <td>Avinguda de Professor Lopez PiÃ±ero (Historiad...</td>\n      <td>16</td>\n      <td>46013</td>\n      <td>Opendata Generalitat Valenciana</td>\n      <td>pharmacy</td>\n      <td>Avinguda de Professor Lopez PiÃ±ero (Historiad...</td>\n      <td>None</td>\n    </tr>\n    <tr>\n      <th>2335</th>\n      <td>V-550-F</td>\n      <td>Valencia</td>\n      <td>Xàtiva</td>\n      <td>Angel Bruno Dominguez Barbera</td>\n      <td>Avinguda de Alameda Jaume I, 32, 46800</td>\n      <td>Avinguda de Alameda Jaume I</td>\n      <td>32</td>\n      <td>46800</td>\n      <td>Opendata Generalitat Valenciana</td>\n      <td>pharmacy</td>\n      <td>Avinguda de Alameda Jaume I, Xàtiva, Valencia</td>\n      <td>None</td>\n    </tr>\n    <tr>\n      <th>2342</th>\n      <td>V-485-F</td>\n      <td>Valencia</td>\n      <td>Xeresa</td>\n      <td>Joaquin Vicente Loras Lovaco</td>\n      <td>Carrer de Dr Miguel Vivo, 34, 46790</td>\n      <td>Carrer de Dr Miguel Vivo</td>\n      <td>34</td>\n      <td>46790</td>\n      <td>Opendata Generalitat Valenciana</td>\n      <td>pharmacy</td>\n      <td>Carrer de Dr Miguel Vivo, Xeresa, Valencia</td>\n      <td>None</td>\n    </tr>\n    <tr>\n      <th>2345</th>\n      <td>V-1246-F</td>\n      <td>Valencia</td>\n      <td>Xirivella</td>\n      <td>Rafael Navarro Sanchez</td>\n      <td>PLAZA Doctor Gerardo Garces, 10, 46950</td>\n      <td>PLAZA Doctor Gerardo Garces</td>\n      <td>10</td>\n      <td>46950</td>\n      <td>Opendata Generalitat Valenciana</td>\n      <td>pharmacy</td>\n      <td>PLAZA Doctor Gerardo Garces, Xirivella, Valencia</td>\n      <td>None</td>\n    </tr>\n  </tbody>\n</table>\n<p>178 rows × 12 columns</p>\n</div>",
      "text/plain": "     source:pkey addr:province      addr:city  \\\n5         A-14-F      Alicante       Albatera   \n13       A-122-F      Alicante  Alcoi / Alcoy   \n19       A-229-F      Alicante  Alcoi / Alcoy   \n20       A-231-F      Alicante  Alcoi / Alcoy   \n29       A-338-F      Alicante  Alcoi / Alcoy   \n...          ...           ...            ...   \n1960     V-216-F      Valencia       València   \n2227     V-829-F      Valencia       València   \n2335     V-550-F      Valencia         Xàtiva   \n2342     V-485-F      Valencia         Xeresa   \n2345    V-1246-F      Valencia      Xirivella   \n\n                                               operator  \\\n5     Maria Jose Balmaseda Del Alamo, Arturo Corbach...   \n13         Inés Llopis Boluda, Maria José Llopis Boluda   \n19                               Miguel Domenech Lloret   \n20                          María Carmen Azorín Navarro   \n29       Juan Antonio Lopez Cobelo, Carlos Lopez Cobelo   \n...                                                 ...   \n1960                         Maria Rosario Vidal Blasco   \n2227     Jose Miguel Cavero Rausell, Ana Roda Segrelles   \n2335                      Angel Bruno Dominguez Barbera   \n2342                       Joaquin Vicente Loras Lovaco   \n2345                             Rafael Navarro Sanchez   \n\n                                              addr:full  \\\n5           Carretera de HONDON. EDIF.ROMEO, S/N, 03340   \n13            Carrer de Na Saurina d’Entença, 45, 03803   \n19       Avinguda de Alameda de Camilo Sesto, 53, 03803   \n20             Avinguda de Juan Gil - Albert, 13, 03804   \n29                   Carrer de Lluis Braille, 17, 03802   \n...                                                 ...   \n1960  Carrer de Luis Garcia-Berlanga Marti (Director...   \n2227  Avinguda de Professor Lopez PiÃ±ero (Historiad...   \n2335             Avinguda de Alameda Jaume I, 32, 46800   \n2342                Carrer de Dr Miguel Vivo, 34, 46790   \n2345             PLAZA Doctor Gerardo Garces, 10, 46950   \n\n                                            addr:street addr:housenumber  \\\n5                       Carretera de HONDON. EDIF.ROMEO                    \n13                       Carrer de Na Saurina d’Entença               45   \n19                  Avinguda de Alameda de Camilo Sesto               53   \n20                        Avinguda de Juan Gil - Albert               13   \n29                              Carrer de Lluis Braille               17   \n...                                                 ...              ...   \n1960  Carrer de Luis Garcia-Berlanga Marti (Director...               5B   \n2227  Avinguda de Professor Lopez PiÃ±ero (Historiad...               16   \n2335                        Avinguda de Alameda Jaume I               32   \n2342                           Carrer de Dr Miguel Vivo               34   \n2345                        PLAZA Doctor Gerardo Garces               10   \n\n     addr:postcode                           source   amenity  \\\n5            03340  Opendata Generalitat Valenciana  pharmacy   \n13           03803  Opendata Generalitat Valenciana  pharmacy   \n19           03803  Opendata Generalitat Valenciana  pharmacy   \n20           03804  Opendata Generalitat Valenciana  pharmacy   \n29           03802  Opendata Generalitat Valenciana  pharmacy   \n...            ...                              ...       ...   \n1960         46023  Opendata Generalitat Valenciana  pharmacy   \n2227         46013  Opendata Generalitat Valenciana  pharmacy   \n2335         46800  Opendata Generalitat Valenciana  pharmacy   \n2342         46790  Opendata Generalitat Valenciana  pharmacy   \n2345         46950  Opendata Generalitat Valenciana  pharmacy   \n\n                                              addr_full gcode  \n5     Carretera de HONDON. EDIF.ROMEO, Albatera, Ali...  None  \n13    Carrer de Na Saurina d’Entença, Alcoi / Alcoy,...  None  \n19    Avinguda de Alameda de Camilo Sesto, Alcoi / A...  None  \n20    Avinguda de Juan Gil - Albert, Alcoi / Alcoy, ...  None  \n29     Carrer de Lluis Braille, Alcoi / Alcoy, Alicante  None  \n...                                                 ...   ...  \n1960  Carrer de Luis Garcia-Berlanga Marti (Director...  None  \n2227  Avinguda de Professor Lopez PiÃ±ero (Historiad...  None  \n2335      Avinguda de Alameda Jaume I, Xàtiva, Valencia  None  \n2342         Carrer de Dr Miguel Vivo, Xeresa, Valencia  None  \n2345   PLAZA Doctor Gerardo Garces, Xirivella, Valencia  None  \n\n[178 rows x 12 columns]"
     },
     "execution_count": 8,
     "metadata": {},
     "output_type": "execute_result"
    }
   ],
   "source": [
    "df_not_found"
   ]
  },
  {
   "cell_type": "markdown",
   "execution_count": null,
   "metadata": {},
   "outputs": [],
   "source": [
    "## Export clean data\n",
    "\n",
    "If the attributes above are correct, we have to proceed to export them into a `CSV` and `geojson` files that can be used in the Task Manager's project."
   ]
  },
  {
   "cell_type": "code",
   "execution_count": 9,
   "metadata": {},
   "outputs": [
    {
     "data": {
      "text/html": "<div>\n<style scoped>\n    .dataframe tbody tr th:only-of-type {\n        vertical-align: middle;\n    }\n\n    .dataframe tbody tr th {\n        vertical-align: top;\n    }\n\n    .dataframe thead th {\n        text-align: right;\n    }\n</style>\n<table border=\"1\" class=\"dataframe\">\n  <thead>\n    <tr style=\"text-align: right;\">\n      <th></th>\n      <th>source:pkey</th>\n      <th>addr:province</th>\n      <th>addr:city</th>\n      <th>operator</th>\n      <th>addr:street</th>\n      <th>addr:housenumber</th>\n      <th>addr:postcode</th>\n      <th>source</th>\n      <th>amenity</th>\n      <th>lat</th>\n      <th>lon</th>\n    </tr>\n  </thead>\n  <tbody>\n    <tr>\n      <th>0</th>\n      <td>A-164-F</td>\n      <td>Alicante</td>\n      <td>Agost</td>\n      <td>Carlos Gisbert Arques</td>\n      <td>PLAZA DE ESPAÑA</td>\n      <td>19</td>\n      <td>03698</td>\n      <td>Opendata Generalitat Valenciana</td>\n      <td>pharmacy</td>\n      <td>38.402291</td>\n      <td>-0.658807</td>\n    </tr>\n    <tr>\n      <th>1</th>\n      <td>A-285-F</td>\n      <td>Alicante</td>\n      <td>Agost</td>\n      <td>Francisco Ayuso Macia</td>\n      <td>Avinguda de Virgen de la Paz</td>\n      <td>30</td>\n      <td>03698</td>\n      <td>Opendata Generalitat Valenciana</td>\n      <td>pharmacy</td>\n      <td>38.437354</td>\n      <td>-0.638250</td>\n    </tr>\n    <tr>\n      <th>2</th>\n      <td>A-510-F</td>\n      <td>Alicante</td>\n      <td>Agres</td>\n      <td>Inmaculada Ferrero Perez</td>\n      <td>Carrer de San Antonio</td>\n      <td>13</td>\n      <td>03837</td>\n      <td>Opendata Generalitat Valenciana</td>\n      <td>pharmacy</td>\n      <td>38.797296</td>\n      <td>0.181354</td>\n    </tr>\n    <tr>\n      <th>3</th>\n      <td>A-540-F</td>\n      <td>Alicante</td>\n      <td>Aigües</td>\n      <td>Javier Villamayor Piñas</td>\n      <td>Carrer de CANALEJAS</td>\n      <td>12</td>\n      <td>03569</td>\n      <td>Opendata Generalitat Valenciana</td>\n      <td>pharmacy</td>\n      <td>38.500772</td>\n      <td>-0.364732</td>\n    </tr>\n    <tr>\n      <th>4</th>\n      <td>A-13-F</td>\n      <td>Alicante</td>\n      <td>Albatera</td>\n      <td>Isabel Balsameda Morales</td>\n      <td>Carrer de Ramon y Cajal</td>\n      <td>6</td>\n      <td>03340</td>\n      <td>Opendata Generalitat Valenciana</td>\n      <td>pharmacy</td>\n      <td>38.437354</td>\n      <td>-0.638250</td>\n    </tr>\n    <tr>\n      <th>...</th>\n      <td>...</td>\n      <td>...</td>\n      <td>...</td>\n      <td>...</td>\n      <td>...</td>\n      <td>...</td>\n      <td>...</td>\n      <td>...</td>\n      <td>...</td>\n      <td>...</td>\n      <td>...</td>\n    </tr>\n    <tr>\n      <th>2352</th>\n      <td>V-812-F</td>\n      <td>Valencia</td>\n      <td>Xirivella</td>\n      <td>Julia Miranda Sanz, Carmen Miranda Sanz</td>\n      <td>Avinguda de Del Cami Nou</td>\n      <td>92</td>\n      <td>46950</td>\n      <td>Opendata Generalitat Valenciana</td>\n      <td>pharmacy</td>\n      <td>39.463784</td>\n      <td>-0.435451</td>\n    </tr>\n    <tr>\n      <th>2353</th>\n      <td>V-887-F</td>\n      <td>Valencia</td>\n      <td>Xirivella</td>\n      <td>Inmaculada Diaz Delgado</td>\n      <td>Avinguda de Del Cami Nou</td>\n      <td>195</td>\n      <td>46950</td>\n      <td>Opendata Generalitat Valenciana</td>\n      <td>pharmacy</td>\n      <td>39.463784</td>\n      <td>-0.435451</td>\n    </tr>\n    <tr>\n      <th>2354</th>\n      <td>V-451-F</td>\n      <td>Valencia</td>\n      <td>Yátova</td>\n      <td>Inmaculada Gil Pellin</td>\n      <td>Carrer de Mayor</td>\n      <td>42</td>\n      <td>46367</td>\n      <td>Opendata Generalitat Valenciana</td>\n      <td>pharmacy</td>\n      <td>39.565037</td>\n      <td>-0.539945</td>\n    </tr>\n    <tr>\n      <th>2355</th>\n      <td>V-1072-F</td>\n      <td>Valencia</td>\n      <td>La Yesa</td>\n      <td>Mª Jose Monserrat Soria</td>\n      <td>Carrer de Calvo Sotelo</td>\n      <td>25</td>\n      <td>46178</td>\n      <td>Opendata Generalitat Valenciana</td>\n      <td>pharmacy</td>\n      <td>39.592464</td>\n      <td>-0.551801</td>\n    </tr>\n    <tr>\n      <th>2356</th>\n      <td>V-1018-F</td>\n      <td>Valencia</td>\n      <td>Zarra</td>\n      <td>Maria Jesus Soler Landete</td>\n      <td>Carrer de Camino del Lavadero</td>\n      <td>1</td>\n      <td>46621</td>\n      <td>Opendata Generalitat Valenciana</td>\n      <td>pharmacy</td>\n      <td>39.090594</td>\n      <td>-1.073273</td>\n    </tr>\n  </tbody>\n</table>\n<p>2179 rows × 11 columns</p>\n</div>",
      "text/plain": "     source:pkey addr:province  addr:city  \\\n0        A-164-F      Alicante      Agost   \n1        A-285-F      Alicante      Agost   \n2        A-510-F      Alicante      Agres   \n3        A-540-F      Alicante     Aigües   \n4         A-13-F      Alicante   Albatera   \n...          ...           ...        ...   \n2352     V-812-F      Valencia  Xirivella   \n2353     V-887-F      Valencia  Xirivella   \n2354     V-451-F      Valencia     Yátova   \n2355    V-1072-F      Valencia    La Yesa   \n2356    V-1018-F      Valencia      Zarra   \n\n                                     operator                    addr:street  \\\n0                       Carlos Gisbert Arques                PLAZA DE ESPAÑA   \n1                       Francisco Ayuso Macia   Avinguda de Virgen de la Paz   \n2                    Inmaculada Ferrero Perez          Carrer de San Antonio   \n3                     Javier Villamayor Piñas            Carrer de CANALEJAS   \n4                    Isabel Balsameda Morales        Carrer de Ramon y Cajal   \n...                                       ...                            ...   \n2352  Julia Miranda Sanz, Carmen Miranda Sanz       Avinguda de Del Cami Nou   \n2353                  Inmaculada Diaz Delgado       Avinguda de Del Cami Nou   \n2354                    Inmaculada Gil Pellin                Carrer de Mayor   \n2355                  Mª Jose Monserrat Soria         Carrer de Calvo Sotelo   \n2356                Maria Jesus Soler Landete  Carrer de Camino del Lavadero   \n\n     addr:housenumber addr:postcode                           source  \\\n0                  19         03698  Opendata Generalitat Valenciana   \n1                  30         03698  Opendata Generalitat Valenciana   \n2                  13         03837  Opendata Generalitat Valenciana   \n3                  12         03569  Opendata Generalitat Valenciana   \n4                   6         03340  Opendata Generalitat Valenciana   \n...               ...           ...                              ...   \n2352               92         46950  Opendata Generalitat Valenciana   \n2353              195         46950  Opendata Generalitat Valenciana   \n2354               42         46367  Opendata Generalitat Valenciana   \n2355               25         46178  Opendata Generalitat Valenciana   \n2356                1         46621  Opendata Generalitat Valenciana   \n\n       amenity        lat       lon  \n0     pharmacy  38.402291 -0.658807  \n1     pharmacy  38.437354 -0.638250  \n2     pharmacy  38.797296  0.181354  \n3     pharmacy  38.500772 -0.364732  \n4     pharmacy  38.437354 -0.638250  \n...        ...        ...       ...  \n2352  pharmacy  39.463784 -0.435451  \n2353  pharmacy  39.463784 -0.435451  \n2354  pharmacy  39.565037 -0.539945  \n2355  pharmacy  39.592464 -0.551801  \n2356  pharmacy  39.090594 -1.073273  \n\n[2179 rows x 11 columns]"
     },
     "execution_count": 9,
     "metadata": {},
     "output_type": "execute_result"
    }
   ],
   "source": [
    "# Drop unnecessary fields.\n",
    "df_loc = df_loc.drop(columns=['addr:full', 'addr_full', 'gcode'])\n",
    "\n",
    "\n",
    "# Generate  a CSV File.\n",
    "df_loc.to_csv('data/processed/pharmacies_cval.csv', index = False)\n",
    "\n",
    "\n",
    "df_loc"
   ]
  },
  {
   "cell_type": "code",
   "execution_count": 10,
   "metadata": {},
   "outputs": [
    {
     "ename": "AttributeError",
     "evalue": "'DataFrame' object has no attribute 'to_file'",
     "output_type": "error",
     "traceback": [
      "\u001b[0;31m---------------------------------------------------------------------------\u001b[0m",
      "\u001b[0;31mAttributeError\u001b[0m                            Traceback (most recent call last)",
      "\u001b[0;32m<ipython-input-10-162f4cbbc725>\u001b[0m in \u001b[0;36m<module>\u001b[0;34m\u001b[0m\n\u001b[1;32m      7\u001b[0m \u001b[0mgdf\u001b[0m\u001b[0;34m\u001b[0m\u001b[0;34m\u001b[0m\u001b[0m\n\u001b[1;32m      8\u001b[0m \u001b[0;31m# Export to geojson.\u001b[0m\u001b[0;34m\u001b[0m\u001b[0;34m\u001b[0m\u001b[0;34m\u001b[0m\u001b[0m\n\u001b[0;32m----> 9\u001b[0;31m \u001b[0mdf_loc\u001b[0m\u001b[0;34m.\u001b[0m\u001b[0mto_file\u001b[0m\u001b[0;34m(\u001b[0m\u001b[0;34m'data/processed/pharmacies_cval.geojson'\u001b[0m\u001b[0;34m,\u001b[0m \u001b[0mdriver\u001b[0m\u001b[0;34m=\u001b[0m\u001b[0;34m'GeoJSON'\u001b[0m\u001b[0;34m)\u001b[0m\u001b[0;34m\u001b[0m\u001b[0;34m\u001b[0m\u001b[0m\n\u001b[0m",
      "\u001b[0;32m~/anaconda3/envs/osm_imports_preparations/lib/python3.7/site-packages/pandas/core/generic.py\u001b[0m in \u001b[0;36m__getattr__\u001b[0;34m(self, name)\u001b[0m\n\u001b[1;32m   5272\u001b[0m             \u001b[0;32mif\u001b[0m \u001b[0mself\u001b[0m\u001b[0;34m.\u001b[0m\u001b[0m_info_axis\u001b[0m\u001b[0;34m.\u001b[0m\u001b[0m_can_hold_identifiers_and_holds_name\u001b[0m\u001b[0;34m(\u001b[0m\u001b[0mname\u001b[0m\u001b[0;34m)\u001b[0m\u001b[0;34m:\u001b[0m\u001b[0;34m\u001b[0m\u001b[0;34m\u001b[0m\u001b[0m\n\u001b[1;32m   5273\u001b[0m                 \u001b[0;32mreturn\u001b[0m \u001b[0mself\u001b[0m\u001b[0;34m[\u001b[0m\u001b[0mname\u001b[0m\u001b[0;34m]\u001b[0m\u001b[0;34m\u001b[0m\u001b[0;34m\u001b[0m\u001b[0m\n\u001b[0;32m-> 5274\u001b[0;31m             \u001b[0;32mreturn\u001b[0m \u001b[0mobject\u001b[0m\u001b[0;34m.\u001b[0m\u001b[0m__getattribute__\u001b[0m\u001b[0;34m(\u001b[0m\u001b[0mself\u001b[0m\u001b[0;34m,\u001b[0m \u001b[0mname\u001b[0m\u001b[0;34m)\u001b[0m\u001b[0;34m\u001b[0m\u001b[0;34m\u001b[0m\u001b[0m\n\u001b[0m\u001b[1;32m   5275\u001b[0m \u001b[0;34m\u001b[0m\u001b[0m\n\u001b[1;32m   5276\u001b[0m     \u001b[0;32mdef\u001b[0m \u001b[0m__setattr__\u001b[0m\u001b[0;34m(\u001b[0m\u001b[0mself\u001b[0m\u001b[0;34m,\u001b[0m \u001b[0mname\u001b[0m\u001b[0;34m:\u001b[0m \u001b[0mstr\u001b[0m\u001b[0;34m,\u001b[0m \u001b[0mvalue\u001b[0m\u001b[0;34m)\u001b[0m \u001b[0;34m->\u001b[0m \u001b[0;32mNone\u001b[0m\u001b[0;34m:\u001b[0m\u001b[0;34m\u001b[0m\u001b[0;34m\u001b[0m\u001b[0m\n",
      "\u001b[0;31mAttributeError\u001b[0m: 'DataFrame' object has no attribute 'to_file'"
     ]
    }
   ],
   "source": [
    "# Convert dataframe into a GeoDataframe.\n",
    "gdf = gpd.GeoDataFrame(\n",
    "    df_loc,\n",
    "    geometry=gpd.points_from_xy(df_loc.lon, df_loc.lat))\n",
    "\n",
    "\n",
    "gdf\n",
    "# Export to geojson.\n",
    "df_loc.to_file('data/processed/pharmacies_cval.geojson', driver='GeoJSON')"
   ]
  },
  {
   "cell_type": "markdown",
   "execution_count": null,
   "metadata": {},
   "outputs": [],
   "source": [
    "The resulting geojson file can be found in the folder [`/data/processed/bcn_trees.geojson`](https://github.com/mapcolabora/osm_imports_preparations/blob/master/imports/bcn_trees/data/processed/bcn_trees.geojson) in this repo.\n",
    "\n",
    "**TODOs:**\n",
    "\n",
    "* Drop latitude and longitude fields from GeoJson, [Issue #19](https://github.com/mapcolabora/osm_imports_preparations/issues/19) (help appreciated!)\n",
    "* Generate a working geojson (otherwise, a CSV can be generated)\n"
   ]
  }
 ],
 "metadata": {
  "file_extension": ".py",
  "kernelspec": {
   "display_name": "Python 3.7.6 64-bit",
   "language": "python",
   "name": "python37664bit7f704ecc68c44d00b27dbad0272d105c"
  },
  "language_info": {
   "codemirror_mode": {
    "name": "ipython",
    "version": 3
   },
   "file_extension": ".py",
   "mimetype": "text/x-python",
   "name": "python",
   "nbconvert_exporter": "python",
   "pygments_lexer": "ipython3",
   "version": "3.7.6-final"
  },
  "mimetype": "text/x-python",
  "name": "python",
  "npconvert_exporter": "python",
  "pycharm": {
   "stem_cell": {
    "cell_type": "raw",
    "metadata": {
     "collapsed": false
    },
    "source": []
   }
  },
  "pygments_lexer": "ipython3",
  "version": 3
 },
 "nbformat": 4,
 "nbformat_minor": 4
}